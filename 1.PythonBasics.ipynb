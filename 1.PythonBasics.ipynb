{
 "cells": [
  {
   "cell_type": "markdown",
   "metadata": {},
   "source": [
    "# Writing a first Python script\n",
    "\n",
    "To get started, let us take a deep dive into Python and write our first script. We will calculate a factorial of an integer in a few different ways. \n",
    "\n",
    "Here, you will learn about:\n",
    "##### How to use of significant whitespace\n",
    "##### Writing basic for loops\n",
    "##### Importing from python standard library\n",
    "\n",
    "\n",
    "## Recursive implementation of n-factorial"
   ]
  },
  {
   "cell_type": "code",
   "execution_count": 2,
   "metadata": {
    "collapsed": false
   },
   "outputs": [
    {
     "name": "stdout",
     "output_type": "stream",
     "text": [
      "Calculate factorial with a for-loop\n",
      "6\n",
      "Calculate factorial using a recursive call\n",
      "6\n"
     ]
    }
   ],
   "source": [
    "def simple_factorial(n):\n",
    "    result = 1\n",
    "    for i in range(2,n+1):\n",
    "        result *= i\n",
    "    return result\n",
    "\n",
    "print(\"Calculate factorial with a for-loop\")\n",
    "print(simple_factorial(3))\n",
    "\n",
    "def recursive_factorial(n):\n",
    "    if n == 0:\n",
    "        return 1\n",
    "    else:\n",
    "        return n * recursive_factorial(n-1)\n",
    "\n",
    "print(\"Calculate factorial using a recursive call\")\n",
    "print(recursive_factorial(3))    "
   ]
  },
  {
   "cell_type": "markdown",
   "metadata": {},
   "source": [
    "## Calculcte n-factorial using Python standard library \n",
    "\n",
    "<img src=\"graphics/std_lib.png\">"
   ]
  },
  {
   "cell_type": "code",
   "execution_count": 4,
   "metadata": {
    "collapsed": false
   },
   "outputs": [
    {
     "name": "stdout",
     "output_type": "stream",
     "text": [
      "Help on module codecs:\n",
      "\n",
      "NAME\n",
      "    codecs - codecs -- Python Codec Registry, API and helpers.\n",
      "\n",
      "MODULE REFERENCE\n",
      "    http://docs.python.org/3.5/library/codecs\n",
      "    \n",
      "    The following documentation is automatically generated from the Python\n",
      "    source files.  It may be incomplete, incorrect or include features that\n",
      "    are considered implementation detail and may vary between Python\n",
      "    implementations.  When in doubt, consult the module reference at the\n",
      "    location listed above.\n",
      "\n",
      "DESCRIPTION\n",
      "    \n",
      "    Written by Marc-Andre Lemburg (mal@lemburg.com).\n",
      "    \n",
      "    (c) Copyright CNRI, All Rights Reserved. NO WARRANTY.\n",
      "\n",
      "CLASSES\n",
      "    builtins.object\n",
      "        Codec\n",
      "            StreamReader\n",
      "            StreamWriter\n",
      "        IncrementalDecoder\n",
      "        IncrementalEncoder\n",
      "        StreamReaderWriter\n",
      "        StreamRecoder\n",
      "    builtins.tuple(builtins.object)\n",
      "        CodecInfo\n",
      "    \n",
      "    class Codec(builtins.object)\n",
      "     |  Defines the interface for stateless encoders/decoders.\n",
      "     |  \n",
      "     |  The .encode()/.decode() methods may use different error\n",
      "     |  handling schemes by providing the errors argument. These\n",
      "     |  string values are predefined:\n",
      "     |  \n",
      "     |   'strict' - raise a ValueError error (or a subclass)\n",
      "     |   'ignore' - ignore the character and continue with the next\n",
      "     |   'replace' - replace with a suitable replacement character;\n",
      "     |              Python will use the official U+FFFD REPLACEMENT\n",
      "     |              CHARACTER for the builtin Unicode codecs on\n",
      "     |              decoding and '?' on encoding.\n",
      "     |   'surrogateescape' - replace with private code points U+DCnn.\n",
      "     |   'xmlcharrefreplace' - Replace with the appropriate XML\n",
      "     |                         character reference (only for encoding).\n",
      "     |   'backslashreplace'  - Replace with backslashed escape sequences.\n",
      "     |   'namereplace'       - Replace with \\N{...} escape sequences\n",
      "     |                         (only for encoding).\n",
      "     |  \n",
      "     |  The set of allowed values can be extended via register_error.\n",
      "     |  \n",
      "     |  Methods defined here:\n",
      "     |  \n",
      "     |  decode(self, input, errors='strict')\n",
      "     |      Decodes the object input and returns a tuple (output\n",
      "     |      object, length consumed).\n",
      "     |      \n",
      "     |      input must be an object which provides the bf_getreadbuf\n",
      "     |      buffer slot. Python strings, buffer objects and memory\n",
      "     |      mapped files are examples of objects providing this slot.\n",
      "     |      \n",
      "     |      errors defines the error handling to apply. It defaults to\n",
      "     |      'strict' handling.\n",
      "     |      \n",
      "     |      The method may not store state in the Codec instance. Use\n",
      "     |      StreamReader for codecs which have to keep state in order to\n",
      "     |      make decoding efficient.\n",
      "     |      \n",
      "     |      The decoder must be able to handle zero length input and\n",
      "     |      return an empty object of the output object type in this\n",
      "     |      situation.\n",
      "     |  \n",
      "     |  encode(self, input, errors='strict')\n",
      "     |      Encodes the object input and returns a tuple (output\n",
      "     |      object, length consumed).\n",
      "     |      \n",
      "     |      errors defines the error handling to apply. It defaults to\n",
      "     |      'strict' handling.\n",
      "     |      \n",
      "     |      The method may not store state in the Codec instance. Use\n",
      "     |      StreamWriter for codecs which have to keep state in order to\n",
      "     |      make encoding efficient.\n",
      "     |      \n",
      "     |      The encoder must be able to handle zero length input and\n",
      "     |      return an empty object of the output object type in this\n",
      "     |      situation.\n",
      "     |  \n",
      "     |  ----------------------------------------------------------------------\n",
      "     |  Data descriptors defined here:\n",
      "     |  \n",
      "     |  __dict__\n",
      "     |      dictionary for instance variables (if defined)\n",
      "     |  \n",
      "     |  __weakref__\n",
      "     |      list of weak references to the object (if defined)\n",
      "    \n",
      "    class CodecInfo(builtins.tuple)\n",
      "     |  Codec details when looking up the codec registry\n",
      "     |  \n",
      "     |  Method resolution order:\n",
      "     |      CodecInfo\n",
      "     |      builtins.tuple\n",
      "     |      builtins.object\n",
      "     |  \n",
      "     |  Methods defined here:\n",
      "     |  \n",
      "     |  __repr__(self)\n",
      "     |      Return repr(self).\n",
      "     |  \n",
      "     |  ----------------------------------------------------------------------\n",
      "     |  Static methods defined here:\n",
      "     |  \n",
      "     |  __new__(cls, encode, decode, streamreader=None, streamwriter=None, incrementalencoder=None, incrementaldecoder=None, name=None, *, _is_text_encoding=None)\n",
      "     |      Create and return a new object.  See help(type) for accurate signature.\n",
      "     |  \n",
      "     |  ----------------------------------------------------------------------\n",
      "     |  Data descriptors defined here:\n",
      "     |  \n",
      "     |  __dict__\n",
      "     |      dictionary for instance variables (if defined)\n",
      "     |  \n",
      "     |  ----------------------------------------------------------------------\n",
      "     |  Methods inherited from builtins.tuple:\n",
      "     |  \n",
      "     |  __add__(self, value, /)\n",
      "     |      Return self+value.\n",
      "     |  \n",
      "     |  __contains__(self, key, /)\n",
      "     |      Return key in self.\n",
      "     |  \n",
      "     |  __eq__(self, value, /)\n",
      "     |      Return self==value.\n",
      "     |  \n",
      "     |  __ge__(self, value, /)\n",
      "     |      Return self>=value.\n",
      "     |  \n",
      "     |  __getattribute__(self, name, /)\n",
      "     |      Return getattr(self, name).\n",
      "     |  \n",
      "     |  __getitem__(self, key, /)\n",
      "     |      Return self[key].\n",
      "     |  \n",
      "     |  __getnewargs__(...)\n",
      "     |  \n",
      "     |  __gt__(self, value, /)\n",
      "     |      Return self>value.\n",
      "     |  \n",
      "     |  __hash__(self, /)\n",
      "     |      Return hash(self).\n",
      "     |  \n",
      "     |  __iter__(self, /)\n",
      "     |      Implement iter(self).\n",
      "     |  \n",
      "     |  __le__(self, value, /)\n",
      "     |      Return self<=value.\n",
      "     |  \n",
      "     |  __len__(self, /)\n",
      "     |      Return len(self).\n",
      "     |  \n",
      "     |  __lt__(self, value, /)\n",
      "     |      Return self<value.\n",
      "     |  \n",
      "     |  __mul__(self, value, /)\n",
      "     |      Return self*value.n\n",
      "     |  \n",
      "     |  __ne__(self, value, /)\n",
      "     |      Return self!=value.\n",
      "     |  \n",
      "     |  __rmul__(self, value, /)\n",
      "     |      Return self*value.\n",
      "     |  \n",
      "     |  count(...)\n",
      "     |      T.count(value) -> integer -- return number of occurrences of value\n",
      "     |  \n",
      "     |  index(...)\n",
      "     |      T.index(value, [start, [stop]]) -> integer -- return first index of value.\n",
      "     |      Raises ValueError if the value is not present.\n",
      "    \n",
      "    class IncrementalDecoder(builtins.object)\n",
      "     |  An IncrementalDecoder decodes an input in multiple steps. The input can\n",
      "     |  be passed piece by piece to the decode() method. The IncrementalDecoder\n",
      "     |  remembers the state of the decoding process between calls to decode().\n",
      "     |  \n",
      "     |  Methods defined here:\n",
      "     |  \n",
      "     |  __init__(self, errors='strict')\n",
      "     |      Create an IncrementalDecoder instance.\n",
      "     |      \n",
      "     |      The IncrementalDecoder may use different error handling schemes by\n",
      "     |      providing the errors keyword argument. See the module docstring\n",
      "     |      for a list of possible values.\n",
      "     |  \n",
      "     |  decode(self, input, final=False)\n",
      "     |      Decode input and returns the resulting object.\n",
      "     |  \n",
      "     |  getstate(self)\n",
      "     |      Return the current state of the decoder.\n",
      "     |      \n",
      "     |      This must be a (buffered_input, additional_state_info) tuple.\n",
      "     |      buffered_input must be a bytes object containing bytes that\n",
      "     |      were passed to decode() that have not yet been converted.\n",
      "     |      additional_state_info must be a non-negative integer\n",
      "     |      representing the state of the decoder WITHOUT yet having\n",
      "     |      processed the contents of buffered_input.  In the initial state\n",
      "     |      and after reset(), getstate() must return (b\"\", 0).\n",
      "     |  \n",
      "     |  reset(self)\n",
      "     |      Reset the decoder to the initial state.\n",
      "     |  \n",
      "     |  setstate(self, state)\n",
      "     |      Set the current state of the decoder.\n",
      "     |      \n",
      "     |      state must have been returned by getstate().  The effect of\n",
      "     |      setstate((b\"\", 0)) must be equivalent to reset().\n",
      "     |  \n",
      "     |  ----------------------------------------------------------------------\n",
      "     |  Data descriptors defined here:\n",
      "     |  \n",
      "     |  __dict__\n",
      "     |      dictionary for instance variables (if defined)\n",
      "     |  \n",
      "     |  __weakref__\n",
      "     |      list of weak references to the object (if defined)\n",
      "    \n",
      "    class IncrementalEncoder(builtins.object)\n",
      "     |  An IncrementalEncoder encodes an input in multiple steps. The input can\n",
      "     |  be passed piece by piece to the encode() method. The IncrementalEncoder\n",
      "     |  remembers the state of the encoding process between calls to encode().\n",
      "     |  \n",
      "     |  Methods defined here:\n",
      "     |  \n",
      "     |  __init__(self, errors='strict')\n",
      "     |      Creates an IncrementalEncoder instance.\n",
      "     |      \n",
      "     |      The IncrementalEncoder may use different error handling schemes by\n",
      "     |      providing the errors keyword argument. See the module docstring\n",
      "     |      for a list of possible values.\n",
      "     |  \n",
      "     |  encode(self, input, final=False)\n",
      "     |      Encodes input and returns the resulting object.\n",
      "     |  \n",
      "     |  getstate(self)\n",
      "     |      Return the current state of the encoder.\n",
      "     |  \n",
      "     |  reset(self)\n",
      "     |      Resets the encoder to the initial state.\n",
      "     |  \n",
      "     |  setstate(self, state)\n",
      "     |      Set the current state of the encoder. state must have been\n",
      "     |      returned by getstate().\n",
      "     |  \n",
      "     |  ----------------------------------------------------------------------\n",
      "     |  Data descriptors defined here:\n",
      "     |  \n",
      "     |  __dict__\n",
      "     |      dictionary for instance variables (if defined)\n",
      "     |  \n",
      "     |  __weakref__\n",
      "     |      list of weak references to the object (if defined)\n",
      "    \n",
      "    class StreamReader(Codec)\n",
      "     |  Defines the interface for stateless encoders/decoders.\n",
      "     |  \n",
      "     |  The .encode()/.decode() methods may use different error\n",
      "     |  handling schemes by providing the errors argument. These\n",
      "     |  string values are predefined:\n",
      "     |  \n",
      "     |   'strict' - raise a ValueError error (or a subclass)\n",
      "     |   'ignore' - ignore the character and continue with the next\n",
      "     |   'replace' - replace with a suitable replacement character;\n",
      "     |              Python will use the official U+FFFD REPLACEMENT\n",
      "     |              CHARACTER for the builtin Unicode codecs on\n",
      "     |              decoding and '?' on encoding.\n",
      "     |   'surrogateescape' - replace with private code points U+DCnn.\n",
      "     |   'xmlcharrefreplace' - Replace with the appropriate XML\n",
      "     |                         character reference (only for encoding).\n",
      "     |   'backslashreplace'  - Replace with backslashed escape sequences.\n",
      "     |   'namereplace'       - Replace with \\N{...} escape sequences\n",
      "     |                         (only for encoding).\n",
      "     |  \n",
      "     |  The set of allowed values can be extended via register_error.\n",
      "     |  \n",
      "     |  Method resolution order:\n",
      "     |      StreamReader\n",
      "     |      Codec\n",
      "     |      builtins.object\n",
      "     |  \n",
      "     |  Methods defined here:\n",
      "     |  \n",
      "     |  __enter__(self)\n",
      "     |  \n",
      "     |  __exit__(self, type, value, tb)\n",
      "     |  \n",
      "     |  __getattr__(self, name, getattr=<built-in function getattr>)\n",
      "     |      Inherit all other methods from the underlying stream.\n",
      "     |  \n",
      "     |  __init__(self, stream, errors='strict')\n",
      "     |      Creates a StreamReader instance.\n",
      "     |      \n",
      "     |      stream must be a file-like object open for reading.\n",
      "     |      \n",
      "     |      The StreamReader may use different error handling\n",
      "     |      schemes by providing the errors keyword argument. These\n",
      "     |      parameters are predefined:\n",
      "     |      \n",
      "     |       'strict' - raise a ValueError (or a subclass)\n",
      "     |       'ignore' - ignore the character and continue with the next\n",
      "     |       'replace'- replace with a suitable replacement character\n",
      "     |       'backslashreplace' - Replace with backslashed escape sequences;\n",
      "     |      \n",
      "     |      The set of allowed parameter values can be extended via\n",
      "     |      register_error.\n",
      "     |  \n",
      "     |  __iter__(self)\n",
      "     |  \n",
      "     |  __next__(self)\n",
      "     |      Return the next decoded line from the input stream.\n",
      "     |  \n",
      "     |  decode(self, input, errors='strict')\n",
      "     |      Decodes the object input and returns a tuple (output\n",
      "     |      object, length consumed).\n",
      "     |      \n",
      "     |      input must be an object which provides the bf_getreadbuf\n",
      "     |      buffer slot. Python strings, buffer objects and memory\n",
      "     |      mapped files are examples of objects providing this slot.\n",
      "     |      \n",
      "     |      errors defines the error handling to apply. It defaults to\n",
      "     |      'strict' handling.\n",
      "     |      \n",
      "     |      The method may not store state in the Codec instance. Use\n",
      "     |      StreamReader for codecs which have to keep state in order to\n",
      "     |      make decoding efficient.\n",
      "     |      \n",
      "     |      The decoder must be able to handle zero length input and\n",
      "     |      return an empty object of the output object type in this\n",
      "     |      situation.\n",
      "     |  \n",
      "     |  read(self, size=-1, chars=-1, firstline=False)\n",
      "     |      Decodes data from the stream self.stream and returns the\n",
      "     |      resulting object.\n",
      "     |      \n",
      "     |      chars indicates the number of decoded code points or bytes to\n",
      "     |      return. read() will never return more data than requested,\n",
      "     |      but it might return less, if there is not enough available.\n",
      "     |      \n",
      "     |      size indicates the approximate maximum number of decoded\n",
      "     |      bytes or code points to read for decoding. The decoder\n",
      "     |      can modify this setting as appropriate. The default value\n",
      "     |      -1 indicates to read and decode as much as possible.  size\n",
      "     |      is intended to prevent having to decode huge files in one\n",
      "     |      step.\n",
      "     |      \n",
      "     |      If firstline is true, and a UnicodeDecodeError happens\n",
      "     |      after the first line terminator in the input only the first line\n",
      "     |      will be returned, the rest of the input will be kept until the\n",
      "     |      next call to read().\n",
      "     |      \n",
      "     |      The method should use a greedy read strategy, meaning that\n",
      "     |      it should read as much data as is allowed within the\n",
      "     |      definition of the encoding and the given size, e.g.  if\n",
      "     |      optional encoding endings or state markers are available\n",
      "     |      on the stream, these should be read too.\n",
      "     |  \n",
      "     |  readline(self, size=None, keepends=True)\n",
      "     |      Read one line from the input stream and return the\n",
      "     |      decoded data.\n",
      "     |      \n",
      "     |      size, if given, is passed as size argument to the\n",
      "     |      read() method.\n",
      "     |  \n",
      "     |  readlines(self, sizehint=None, keepends=True)\n",
      "     |      Read all lines available on the input stream\n",
      "     |      and return them as a list.\n",
      "     |      \n",
      "     |      Line breaks are implemented using the codec's decoder\n",
      "     |      method and are included in the list entries.\n",
      "     |      \n",
      "     |      sizehint, if given, is ignored since there is no efficient\n",
      "     |      way to finding the true end-of-line.\n",
      "     |  \n",
      "     |  reset(self)\n",
      "     |      Resets the codec buffers used for keeping state.\n",
      "     |      \n",
      "     |      Note that no stream repositioning should take place.\n",
      "     |      This method is primarily intended to be able to recover\n",
      "     |      from decoding errors.\n",
      "     |  \n",
      "     |  seek(self, offset, whence=0)\n",
      "     |      Set the input stream's current position.\n",
      "     |      \n",
      "     |      Resets the codec buffers used for keeping state.\n",
      "     |  \n",
      "     |  ----------------------------------------------------------------------\n",
      "     |  Data and other attributes defined here:\n",
      "     |  \n",
      "     |  charbuffertype = <class 'str'>\n",
      "     |      str(object='') -> str\n",
      "     |      str(bytes_or_buffer[, encoding[, errors]]) -> str\n",
      "     |      \n",
      "     |      Create a new string object from the given object. If encoding or\n",
      "     |      errors is specified, then the object must expose a data buffer\n",
      "     |      that will be decoded using the given encoding and error handler.\n",
      "     |      Otherwise, returns the result of object.__str__() (if defined)\n",
      "     |      or repr(object).\n",
      "     |      encoding defaults to sys.getdefaultencoding().\n",
      "     |      errors defaults to 'strict'.\n",
      "     |  \n",
      "     |  ----------------------------------------------------------------------\n",
      "     |  Methods inherited from Codec:\n",
      "     |  \n",
      "     |  encode(self, input, errors='strict')\n",
      "     |      Encodes the object input and returns a tuple (output\n",
      "     |      object, length consumed).\n",
      "     |      \n",
      "     |      errors defines the error handling to apply. It defaults to\n",
      "     |      'strict' handling.\n",
      "     |      \n",
      "     |      The method may not store state in the Codec instance. Use\n",
      "     |      StreamWriter for codecs which have to keep state in order to\n",
      "     |      make encoding efficient.\n",
      "     |      \n",
      "     |      The encoder must be able to handle zero length input and\n",
      "     |      return an empty object of the output object type in this\n",
      "     |      situation.\n",
      "     |  \n",
      "     |  ----------------------------------------------------------------------\n",
      "     |  Data descriptors inherited from Codec:\n",
      "     |  \n",
      "     |  __dict__\n",
      "     |      dictionary for instance variables (if defined)\n",
      "     |  \n",
      "     |  __weakref__\n",
      "     |      list of weak references to the object (if defined)\n",
      "    \n",
      "    class StreamReaderWriter(builtins.object)\n",
      "     |  StreamReaderWriter instances allow wrapping streams which\n",
      "     |  work in both read and write modes.\n",
      "     |  \n",
      "     |  The design is such that one can use the factory functions\n",
      "     |  returned by the codec.lookup() function to construct the\n",
      "     |  instance.\n",
      "     |  \n",
      "     |  Methods defined here:\n",
      "     |  \n",
      "     |  __enter__(self)\n",
      "     |  \n",
      "     |  __exit__(self, type, value, tb)\n",
      "     |  \n",
      "     |  __getattr__(self, name, getattr=<built-in function getattr>)\n",
      "     |      Inherit all other methods from the underlying stream.\n",
      "     |  \n",
      "     |  __init__(self, stream, Reader, Writer, errors='strict')\n",
      "     |      Creates a StreamReaderWriter instance.\n",
      "     |      \n",
      "     |      stream must be a Stream-like object.\n",
      "     |      \n",
      "     |      Reader, Writer must be factory functions or classes\n",
      "     |      providing the StreamReader, StreamWriter interface resp.\n",
      "     |      \n",
      "     |      Error handling is done in the same way as defined for the\n",
      "     |      StreamWriter/Readers.\n",
      "     |  \n",
      "     |  __iter__(self)\n",
      "     |  \n",
      "     |  __next__(self)\n",
      "     |      Return the next decoded line from the input stream.\n",
      "     |  \n",
      "     |  read(self, size=-1)\n",
      "     |  \n",
      "     |  readline(self, size=None)\n",
      "     |  \n",
      "     |  readlines(self, sizehint=None)\n",
      "     |  \n",
      "     |  reset(self)\n",
      "     |  \n",
      "     |  seek(self, offset, whence=0)\n",
      "     |  \n",
      "     |  write(self, data)\n",
      "     |  \n",
      "     |  writelines(self, list)\n",
      "     |  \n",
      "     |  ----------------------------------------------------------------------\n",
      "     |  Data descriptors defined here:\n",
      "     |  \n",
      "     |  __dict__\n",
      "     |      dictionary for instance variables (if defined)\n",
      "     |  \n",
      "     |  __weakref__\n",
      "     |      list of weak references to the object (if defined)\n",
      "     |  \n",
      "     |  ----------------------------------------------------------------------\n",
      "     |  Data and other attributes defined here:\n",
      "     |  \n",
      "     |  encoding = 'unknown'\n",
      "    \n",
      "    class StreamRecoder(builtins.object)\n",
      "     |  StreamRecoder instances translate data from one encoding to another.\n",
      "     |  \n",
      "     |  They use the complete set of APIs returned by the\n",
      "     |  codecs.lookup() function to implement their task.\n",
      "     |  \n",
      "     |  Data written to the StreamRecoder is first decoded into an\n",
      "     |  intermediate format (depending on the \"decode\" codec) and then\n",
      "     |  written to the underlying stream using an instance of the provided\n",
      "     |  Writer class.\n",
      "     |  \n",
      "     |  In the other direction, data is read from the underlying stream using\n",
      "     |  a Reader instance and then encoded and returned to the caller.\n",
      "     |  \n",
      "     |  Methods defined here:\n",
      "     |  \n",
      "     |  __enter__(self)\n",
      "     |  \n",
      "     |  __exit__(self, type, value, tb)\n",
      "     |  \n",
      "     |  __getattr__(self, name, getattr=<built-in function getattr>)\n",
      "     |      Inherit all other methods from the underlying stream.\n",
      "     |  \n",
      "     |  __init__(self, stream, encode, decode, Reader, Writer, errors='strict')\n",
      "     |      Creates a StreamRecoder instance which implements a two-way\n",
      "     |      conversion: encode and decode work on the frontend (the\n",
      "     |      data visible to .read() and .write()) while Reader and Writer\n",
      "     |      work on the backend (the data in stream).\n",
      "     |      \n",
      "     |      You can use these objects to do transparent\n",
      "     |      transcodings from e.g. latin-1 to utf-8 and back.\n",
      "     |      \n",
      "     |      stream must be a file-like object.\n",
      "     |      \n",
      "     |      encode and decode must adhere to the Codec interface; Reader and\n",
      "     |      Writer must be factory functions or classes providing the\n",
      "     |      StreamReader and StreamWriter interfaces resp.\n",
      "     |      \n",
      "     |      Error handling is done in the same way as defined for the\n",
      "     |      StreamWriter/Readers.\n",
      "     |  \n",
      "     |  __iter__(self)\n",
      "     |  \n",
      "     |  __next__(self)\n",
      "     |      Return the next decoded line from the input stream.\n",
      "     |  \n",
      "     |  read(self, size=-1)\n",
      "     |  \n",
      "     |  readline(self, size=None)\n",
      "     |  \n",
      "     |  readlines(self, sizehint=None)\n",
      "     |  \n",
      "     |  reset(self)\n",
      "     |  \n",
      "     |  write(self, data)\n",
      "     |  \n",
      "     |  writelines(self, list)\n",
      "     |  \n",
      "     |  ----------------------------------------------------------------------\n",
      "     |  Data descriptors defined here:\n",
      "     |  \n",
      "     |  __dict__\n",
      "     |      dictionary for instance variables (if defined)\n",
      "     |  \n",
      "     |  __weakref__\n",
      "     |      list of weak references to the object (if defined)\n",
      "     |  \n",
      "     |  ----------------------------------------------------------------------\n",
      "     |  Data and other attributes defined here:\n",
      "     |  \n",
      "     |  data_encoding = 'unknown'\n",
      "     |  \n",
      "     |  file_encoding = 'unknown'\n",
      "    \n",
      "    class StreamWriter(Codec)\n",
      "     |  Defines the interface for stateless encoders/decoders.\n",
      "     |  \n",
      "     |  The .encode()/.decode() methods may use different error\n",
      "     |  handling schemes by providing the errors argument. These\n",
      "     |  string values are predefined:\n",
      "     |  \n",
      "     |   'strict' - raise a ValueError error (or a subclass)\n",
      "     |   'ignore' - ignore the character and continue with the next\n",
      "     |   'replace' - replace with a suitable replacement character;\n",
      "     |              Python will use the official U+FFFD REPLACEMENT\n",
      "     |              CHARACTER for the builtin Unicode codecs on\n",
      "     |              decoding and '?' on encoding.\n",
      "     |   'surrogateescape' - replace with private code points U+DCnn.\n",
      "     |   'xmlcharrefreplace' - Replace with the appropriate XML\n",
      "     |                         character reference (only for encoding).\n",
      "     |   'backslashreplace'  - Replace with backslashed escape sequences.\n",
      "     |   'namereplace'       - Replace with \\N{...} escape sequences\n",
      "     |                         (only for encoding).\n",
      "     |  \n",
      "     |  The set of allowed values can be extended via register_error.\n",
      "     |  \n",
      "     |  Method resolution order:\n",
      "     |      StreamWriter\n",
      "     |      Codec\n",
      "     |      builtins.object\n",
      "     |  \n",
      "     |  Methods defined here:\n",
      "     |  \n",
      "     |  __enter__(self)\n",
      "     |  \n",
      "     |  __exit__(self, type, value, tb)\n",
      "     |  \n",
      "     |  __getattr__(self, name, getattr=<built-in function getattr>)\n",
      "     |      Inherit all other methods from the underlying stream.\n",
      "     |  \n",
      "     |  __init__(self, stream, errors='strict')\n",
      "     |      Creates a StreamWriter instance.\n",
      "     |      \n",
      "     |      stream must be a file-like object open for writing.\n",
      "     |      \n",
      "     |      The StreamWriter may use different error handling\n",
      "     |      schemes by providing the errors keyword argument. These\n",
      "     |      parameters are predefined:\n",
      "     |      \n",
      "     |       'strict' - raise a ValueError (or a subclass)\n",
      "     |       'ignore' - ignore the character and continue with the next\n",
      "     |       'replace'- replace with a suitable replacement character\n",
      "     |       'xmlcharrefreplace' - Replace with the appropriate XML\n",
      "     |                             character reference.\n",
      "     |       'backslashreplace'  - Replace with backslashed escape\n",
      "     |                             sequences.\n",
      "     |       'namereplace'       - Replace with \\N{...} escape sequences.\n",
      "     |      \n",
      "     |      The set of allowed parameter values can be extended via\n",
      "     |      register_error.\n",
      "     |  \n",
      "     |  reset(self)\n",
      "     |      Flushes and resets the codec buffers used for keeping state.\n",
      "     |      \n",
      "     |      Calling this method should ensure that the data on the\n",
      "     |      output is put into a clean state, that allows appending\n",
      "     |      of new fresh data without having to rescan the whole\n",
      "     |      stream to recover state.\n",
      "     |  \n",
      "     |  seek(self, offset, whence=0)\n",
      "     |  \n",
      "     |  write(self, object)\n",
      "     |      Writes the object's contents encoded to self.stream.\n",
      "     |  \n",
      "     |  writelines(self, list)\n",
      "     |      Writes the concatenated list of strings to the stream\n",
      "     |      using .write().\n",
      "     |  \n",
      "     |  ----------------------------------------------------------------------\n",
      "     |  Methods inherited from Codec:\n",
      "     |  \n",
      "     |  decode(self, input, errors='strict')\n",
      "     |      Decodes the object input and returns a tuple (output\n",
      "     |      object, length consumed).\n",
      "     |      \n",
      "     |      input must be an object which provides the bf_getreadbuf\n",
      "     |      buffer slot. Python strings, buffer objects and memory\n",
      "     |      mapped files are examples of objects providing this slot.\n",
      "     |      \n",
      "     |      errors defines the error handling to apply. It defaults to\n",
      "     |      'strict' handling.\n",
      "     |      \n",
      "     |      The method may not store state in the Codec instance. Use\n",
      "     |      StreamReader for codecs which have to keep state in order to\n",
      "     |      make decoding efficient.\n",
      "     |      \n",
      "     |      The decoder must be able to handle zero length input and\n",
      "     |      return an empty object of the output object type in this\n",
      "     |      situation.\n",
      "     |  \n",
      "     |  encode(self, input, errors='strict')\n",
      "     |      Encodes the object input and returns a tuple (output\n",
      "     |      object, length consumed).\n",
      "     |      \n",
      "     |      errors defines the error handling to apply. It defaults to\n",
      "     |      'strict' handling.\n",
      "     |      \n",
      "     |      The method may not store state in the Codec instance. Use\n",
      "     |      StreamWriter for codecs which have to keep state in order to\n",
      "     |      make encoding efficient.\n",
      "     |      \n",
      "     |      The encoder must be able to handle zero length input and\n",
      "     |      return an empty object of the output object type in this\n",
      "     |      situation.\n",
      "     |  \n",
      "     |  ----------------------------------------------------------------------\n",
      "     |  Data descriptors inherited from Codec:\n",
      "     |  \n",
      "     |  __dict__\n",
      "     |      dictionary for instance variables (if defined)\n",
      "     |  \n",
      "     |  __weakref__\n",
      "     |      list of weak references to the object (if defined)\n",
      "\n",
      "FUNCTIONS\n",
      "    EncodedFile(file, data_encoding, file_encoding=None, errors='strict')\n",
      "        Return a wrapped version of file which provides transparent\n",
      "        encoding translation.\n",
      "        \n",
      "        Data written to the wrapped file is decoded according\n",
      "        to the given data_encoding and then encoded to the underlying\n",
      "        file using file_encoding. The intermediate data type\n",
      "        will usually be Unicode but depends on the specified codecs.\n",
      "        \n",
      "        Bytes read from the file are decoded using file_encoding and then\n",
      "        passed back to the caller encoded using data_encoding.\n",
      "        \n",
      "        If file_encoding is not given, it defaults to data_encoding.\n",
      "        \n",
      "        errors may be given to define the error handling. It defaults\n",
      "        to 'strict' which causes ValueErrors to be raised in case an\n",
      "        encoding error occurs.\n",
      "        \n",
      "        The returned wrapped file object provides two extra attributes\n",
      "        .data_encoding and .file_encoding which reflect the given\n",
      "        parameters of the same name. The attributes can be used for\n",
      "        introspection by Python programs.\n",
      "    \n",
      "    backslashreplace_errors(...)\n",
      "        Implements the 'backslashreplace' error handling, which replaces malformed data with a backslashed escape sequence.\n",
      "    \n",
      "    decode(obj, encoding='utf-8', errors='strict')\n",
      "        Decodes obj using the codec registered for encoding.\n",
      "        \n",
      "        Default encoding is 'utf-8'.  errors may be given to set a\n",
      "        different error handling scheme.  Default is 'strict' meaning that encoding\n",
      "        errors raise a ValueError.  Other possible values are 'ignore', 'replace'\n",
      "        and 'backslashreplace' as well as any other name registered with\n",
      "        codecs.register_error that can handle ValueErrors.\n",
      "    \n",
      "    encode(obj, encoding='utf-8', errors='strict')\n",
      "        Encodes obj using the codec registered for encoding.\n",
      "        \n",
      "        The default encoding is 'utf-8'.  errors may be given to set a\n",
      "        different error handling scheme.  Default is 'strict' meaning that encoding\n",
      "        errors raise a ValueError.  Other possible values are 'ignore', 'replace'\n",
      "        and 'backslashreplace' as well as any other name registered with\n",
      "        codecs.register_error that can handle ValueErrors.\n",
      "    \n",
      "    getdecoder(encoding)\n",
      "        Lookup up the codec for the given encoding and return\n",
      "        its decoder function.\n",
      "        \n",
      "        Raises a LookupError in case the encoding cannot be found.\n",
      "    \n",
      "    getencoder(encoding)\n",
      "        Lookup up the codec for the given encoding and return\n",
      "        its encoder function.\n",
      "        \n",
      "        Raises a LookupError in case the encoding cannot be found.\n",
      "    \n",
      "    getincrementaldecoder(encoding)\n",
      "        Lookup up the codec for the given encoding and return\n",
      "        its IncrementalDecoder class or factory function.\n",
      "        \n",
      "        Raises a LookupError in case the encoding cannot be found\n",
      "        or the codecs doesn't provide an incremental decoder.\n",
      "    \n",
      "    getincrementalencoder(encoding)\n",
      "        Lookup up the codec for the given encoding and return\n",
      "        its IncrementalEncoder class or factory function.\n",
      "        \n",
      "        Raises a LookupError in case the encoding cannot be found\n",
      "        or the codecs doesn't provide an incremental encoder.\n",
      "    \n",
      "    getreader(encoding)\n",
      "        Lookup up the codec for the given encoding and return\n",
      "        its StreamReader class or factory function.\n",
      "        \n",
      "        Raises a LookupError in case the encoding cannot be found.\n",
      "    \n",
      "    getwriter(encoding)\n",
      "        Lookup up the codec for the given encoding and return\n",
      "        its StreamWriter class or factory function.\n",
      "        \n",
      "        Raises a LookupError in case the encoding cannot be found.\n",
      "    \n",
      "    ignore_errors(...)\n",
      "        Implements the 'ignore' error handling, which ignores malformed data and continues.\n",
      "    \n",
      "    iterdecode(iterator, encoding, errors='strict', **kwargs)\n",
      "        Decoding iterator.\n",
      "        \n",
      "        Decodes the input strings from the iterator using an IncrementalDecoder.\n",
      "        \n",
      "        errors and kwargs are passed through to the IncrementalDecoder\n",
      "        constructor.\n",
      "    \n",
      "    iterencode(iterator, encoding, errors='strict', **kwargs)\n",
      "        Encoding iterator.\n",
      "        \n",
      "        Encodes the input strings from the iterator using an IncrementalEncoder.\n",
      "        \n",
      "        errors and kwargs are passed through to the IncrementalEncoder\n",
      "        constructor.\n",
      "    \n",
      "    lookup(encoding, /)\n",
      "        Looks up a codec tuple in the Python codec registry and returns a CodecInfo object.\n",
      "    \n",
      "    lookup_error(name, /)\n",
      "        lookup_error(errors) -> handler\n",
      "        \n",
      "        Return the error handler for the specified error handling name or raise a\n",
      "        LookupError, if no handler exists under this name.\n",
      "    \n",
      "    namereplace_errors(...)\n",
      "        Implements the 'namereplace' error handling, which replaces an unencodable character with a \\N{...} escape sequence.\n",
      "    \n",
      "    open(filename, mode='r', encoding=None, errors='strict', buffering=1)\n",
      "        Open an encoded file using the given mode and return\n",
      "        a wrapped version providing transparent encoding/decoding.\n",
      "        \n",
      "        Note: The wrapped version will only accept the object format\n",
      "        defined by the codecs, i.e. Unicode objects for most builtin\n",
      "        codecs. Output is also codec dependent and will usually be\n",
      "        Unicode as well.\n",
      "        \n",
      "        Underlying encoded files are always opened in binary mode.\n",
      "        The default file mode is 'r', meaning to open the file in read mode.\n",
      "        \n",
      "        encoding specifies the encoding which is to be used for the\n",
      "        file.\n",
      "        \n",
      "        errors may be given to define the error handling. It defaults\n",
      "        to 'strict' which causes ValueErrors to be raised in case an\n",
      "        encoding error occurs.\n",
      "        \n",
      "        buffering has the same meaning as for the builtin open() API.\n",
      "        It defaults to line buffered.\n",
      "        \n",
      "        The returned wrapped file object provides an extra attribute\n",
      "        .encoding which allows querying the used encoding. This\n",
      "        attribute is only available if an encoding was specified as\n",
      "        parameter.\n",
      "    \n",
      "    register(search_function, /)\n",
      "        Register a codec search function.\n",
      "        \n",
      "        Search functions are expected to take one argument, the encoding name in\n",
      "        all lower case letters, and either return None, or a tuple of functions\n",
      "        (encoder, decoder, stream_reader, stream_writer) (or a CodecInfo object).\n",
      "    \n",
      "    register_error(errors, handler, /)\n",
      "        Register the specified error handler under the name errors.\n",
      "        \n",
      "        handler must be a callable object, that will be called with an exception\n",
      "        instance containing information about the location of the encoding/decoding\n",
      "        error and must return a (replacement, new position) tuple.\n",
      "    \n",
      "    replace_errors(...)\n",
      "        Implements the 'replace' error handling, which replaces malformed data with a replacement marker.\n",
      "    \n",
      "    strict_errors(...)\n",
      "        Implements the 'strict' error handling, which raises a UnicodeError on coding errors.\n",
      "    \n",
      "    xmlcharrefreplace_errors(...)\n",
      "        Implements the 'xmlcharrefreplace' error handling, which replaces an unencodable character with the appropriate XML character reference.\n",
      "\n",
      "DATA\n",
      "    BOM = b'\\xff\\xfe'\n",
      "    BOM32_BE = b'\\xfe\\xff'\n",
      "    BOM32_LE = b'\\xff\\xfe'\n",
      "    BOM64_BE = b'\\x00\\x00\\xfe\\xff'\n",
      "    BOM64_LE = b'\\xff\\xfe\\x00\\x00'\n",
      "    BOM_BE = b'\\xfe\\xff'\n",
      "    BOM_LE = b'\\xff\\xfe'\n",
      "    BOM_UTF16 = b'\\xff\\xfe'\n",
      "    BOM_UTF16_BE = b'\\xfe\\xff'\n",
      "    BOM_UTF16_LE = b'\\xff\\xfe'\n",
      "    BOM_UTF32 = b'\\xff\\xfe\\x00\\x00'\n",
      "    BOM_UTF32_BE = b'\\x00\\x00\\xfe\\xff'\n",
      "    BOM_UTF32_LE = b'\\xff\\xfe\\x00\\x00'\n",
      "    BOM_UTF8 = b'\\xef\\xbb\\xbf'\n",
      "    __all__ = ['register', 'lookup', 'open', 'EncodedFile', 'BOM', 'BOM_BE...\n",
      "\n",
      "FILE\n",
      "    /Library/Frameworks/Python.framework/Versions/3.5/lib/python3.5/codecs.py\n",
      "\n",
      "\n"
     ]
    }
   ],
   "source": [
    "import codecs\n",
    "help(codecs)"
   ]
  },
  {
   "cell_type": "code",
   "execution_count": 6,
   "metadata": {
    "collapsed": false
   },
   "outputs": [
    {
     "name": "stdout",
     "output_type": "stream",
     "text": [
      "6\n"
     ]
    }
   ],
   "source": [
    "from math import factorial\n",
    "#from math import *\n",
    "#import math\n",
    "#import as math as my\n",
    "\n",
    "print(factorial(3))"
   ]
  },
  {
   "cell_type": "markdown",
   "metadata": {},
   "source": [
    "# Python coding best practices and Python Enhancement Proposals\n",
    "\n",
    "Coding style matters. I would strongly recommend evryone to spend some time and get acquianted with basic Python rules formulated in the Zen of Python:"
   ]
  },
  {
   "cell_type": "code",
   "execution_count": 8,
   "metadata": {
    "collapsed": false
   },
   "outputs": [
    {
     "name": "stdout",
     "output_type": "stream",
     "text": [
      "The Zen of Python, by Tim Peters\n",
      "\n",
      "Beautiful is better than ugly.\n",
      "Explicit is better than implicit.\n",
      "Simple is better than complex.\n",
      "Complex is better than complicated.\n",
      "Flat is better than nested.\n",
      "Sparse is better than dense.\n",
      "Readability counts.\n",
      "Special cases aren't special enough to break the rules.\n",
      "Although practicality beats purity.\n",
      "Errors should never pass silently.\n",
      "Unless explicitly silenced.\n",
      "In the face of ambiguity, refuse the temptation to guess.\n",
      "There should be one-- and preferably only one --obvious way to do it.\n",
      "Although that way may not be obvious at first unless you're Dutch.\n",
      "Now is better than never.\n",
      "Although never is often better than *right* now.\n",
      "If the implementation is hard to explain, it's a bad idea.\n",
      "If the implementation is easy to explain, it may be a good idea.\n",
      "Namespaces are one honking great idea -- let's do more of those!\n"
     ]
    }
   ],
   "source": [
    "import this"
   ]
  },
  {
   "cell_type": "markdown",
   "metadata": {},
   "source": [
    "**As well as more advanced PEPs:** https://www.python.org/dev/peps/"
   ]
  },
  {
   "cell_type": "markdown",
   "metadata": {},
   "source": [
    "# Python scalar types\n",
    "\n",
    "Variables are nothing but reserved memory locations to store values. This means that when you create a variable you reserve some space in memory.\n",
    "\n",
    "Based on the data type of a variable, the interpreter allocates memory and decides what can be stored in the reserved memory. Therefore, by assigning different data types to variables, you can store integers, decimals or characters in these variables.\n",
    "\n",
    "There are four **scalar** fundamental types supported in Python: \n",
    "*Int*, *long*, *Float*, *Bool* and *None*\n",
    "\n",
    "<img src=\"graphics/int.png\">\n",
    "\n",
    "Python has arbitrary precision integers so there is no true fixed maximum. You're only limited by available memory."
   ]
  },
  {
   "cell_type": "code",
   "execution_count": 10,
   "metadata": {
    "collapsed": false
   },
   "outputs": [
    {
     "data": {
      "text/plain": [
       "10"
      ]
     },
     "execution_count": 10,
     "metadata": {},
     "output_type": "execute_result"
    }
   ],
   "source": [
    "# Integers are implemented using long in C, which gives them at least 32 bits of precision\n",
    "10"
   ]
  },
  {
   "cell_type": "code",
   "execution_count": 10,
   "metadata": {
    "collapsed": false
   },
   "outputs": [
    {
     "data": {
      "text/plain": [
       "int"
      ]
     },
     "execution_count": 10,
     "metadata": {},
     "output_type": "execute_result"
    }
   ],
   "source": [
    "type(10)"
   ]
  },
  {
   "cell_type": "code",
   "execution_count": 12,
   "metadata": {
    "collapsed": false
   },
   "outputs": [
    {
     "ename": "NameError",
     "evalue": "name 'long' is not defined",
     "output_type": "error",
     "traceback": [
      "\u001b[0;31m---------------------------------------------------------------------------\u001b[0m",
      "\u001b[0;31mNameError\u001b[0m                                 Traceback (most recent call last)",
      "\u001b[0;32m<ipython-input-12-d43e0d48c910>\u001b[0m in \u001b[0;36m<module>\u001b[0;34m()\u001b[0m\n\u001b[1;32m      1\u001b[0m \u001b[0;31m#Unlimited precision\u001b[0m\u001b[0;34m\u001b[0m\u001b[0;34m\u001b[0m\u001b[0m\n\u001b[0;32m----> 2\u001b[0;31m \u001b[0mlong\u001b[0m\u001b[0;34m(\u001b[0m\u001b[0;36m10\u001b[0m\u001b[0;34m)\u001b[0m\u001b[0;34m\u001b[0m\u001b[0m\n\u001b[0m\u001b[1;32m      3\u001b[0m \u001b[0;34m\u001b[0m\u001b[0m\n\u001b[1;32m      4\u001b[0m \u001b[0;31m#In Python3 int and long were unified into a single arbitrary precision int type.\u001b[0m\u001b[0;34m\u001b[0m\u001b[0;34m\u001b[0m\u001b[0m\n",
      "\u001b[0;31mNameError\u001b[0m: name 'long' is not defined"
     ]
    }
   ],
   "source": [
    "#Unlimited precision\n",
    "long(10)\n",
    "\n",
    "#In Python3 int and long were unified into a single arbitrary precision int type."
   ]
  },
  {
   "cell_type": "code",
   "execution_count": 13,
   "metadata": {
    "collapsed": false
   },
   "outputs": [
    {
     "data": {
      "text/plain": [
       "2"
      ]
     },
     "execution_count": 13,
     "metadata": {},
     "output_type": "execute_result"
    }
   ],
   "source": [
    "#binary representation of integers\n",
    "0b10"
   ]
  },
  {
   "cell_type": "code",
   "execution_count": 14,
   "metadata": {
    "collapsed": false
   },
   "outputs": [
    {
     "data": {
      "text/plain": [
       "8"
      ]
     },
     "execution_count": 14,
     "metadata": {},
     "output_type": "execute_result"
    }
   ],
   "source": [
    "#octal\n",
    "0o10"
   ]
  },
  {
   "cell_type": "code",
   "execution_count": 15,
   "metadata": {
    "collapsed": false
   },
   "outputs": [
    {
     "data": {
      "text/plain": [
       "16"
      ]
     },
     "execution_count": 15,
     "metadata": {},
     "output_type": "execute_result"
    }
   ],
   "source": [
    "#hexadecimal\n",
    "0x10"
   ]
  },
  {
   "cell_type": "markdown",
   "metadata": {},
   "source": [
    "<img src=\"graphics/bool.png\">\n",
    "\n",
    "Bool is a subtype of integer."
   ]
  },
  {
   "cell_type": "code",
   "execution_count": 16,
   "metadata": {
    "collapsed": false
   },
   "outputs": [
    {
     "data": {
      "text/plain": [
       "False"
      ]
     },
     "execution_count": 16,
     "metadata": {},
     "output_type": "execute_result"
    }
   ],
   "source": [
    "bool(0)"
   ]
  },
  {
   "cell_type": "code",
   "execution_count": 17,
   "metadata": {
    "collapsed": false
   },
   "outputs": [
    {
     "data": {
      "text/plain": [
       "bool"
      ]
     },
     "execution_count": 17,
     "metadata": {},
     "output_type": "execute_result"
    }
   ],
   "source": [
    "type(False)"
   ]
  },
  {
   "cell_type": "code",
   "execution_count": 18,
   "metadata": {
    "collapsed": false
   },
   "outputs": [
    {
     "data": {
      "text/plain": [
       "True"
      ]
     },
     "execution_count": 18,
     "metadata": {},
     "output_type": "execute_result"
    }
   ],
   "source": [
    "bool(1)"
   ]
  },
  {
   "cell_type": "code",
   "execution_count": 19,
   "metadata": {
    "collapsed": false
   },
   "outputs": [
    {
     "data": {
      "text/plain": [
       "False"
      ]
     },
     "execution_count": 19,
     "metadata": {},
     "output_type": "execute_result"
    }
   ],
   "source": [
    "bool(\"\")"
   ]
  },
  {
   "cell_type": "code",
   "execution_count": 20,
   "metadata": {
    "collapsed": false
   },
   "outputs": [
    {
     "data": {
      "text/plain": [
       "True"
      ]
     },
     "execution_count": 20,
     "metadata": {},
     "output_type": "execute_result"
    }
   ],
   "source": [
    "bool(\"zero\")"
   ]
  },
  {
   "cell_type": "markdown",
   "metadata": {},
   "source": [
    "<img src=\"graphics/none.png\">"
   ]
  },
  {
   "cell_type": "code",
   "execution_count": 21,
   "metadata": {
    "collapsed": false
   },
   "outputs": [
    {
     "data": {
      "text/plain": [
       "NoneType"
      ]
     },
     "execution_count": 21,
     "metadata": {},
     "output_type": "execute_result"
    }
   ],
   "source": [
    "type(None)"
   ]
  },
  {
   "cell_type": "code",
   "execution_count": null,
   "metadata": {
    "collapsed": true
   },
   "outputs": [],
   "source": []
  },
  {
   "cell_type": "markdown",
   "metadata": {},
   "source": [
    "<img src=\"graphics/float.png\">"
   ]
  },
  {
   "cell_type": "code",
   "execution_count": 22,
   "metadata": {
    "collapsed": false
   },
   "outputs": [
    {
     "data": {
      "text/plain": [
       "float"
      ]
     },
     "execution_count": 22,
     "metadata": {},
     "output_type": "execute_result"
    }
   ],
   "source": [
    "type(3.)"
   ]
  },
  {
   "cell_type": "code",
   "execution_count": 23,
   "metadata": {
    "collapsed": false
   },
   "outputs": [
    {
     "data": {
      "text/plain": [
       "sys.float_info(max=1.7976931348623157e+308, max_exp=1024, max_10_exp=308, min=2.2250738585072014e-308, min_exp=-1021, min_10_exp=-307, dig=15, mant_dig=53, epsilon=2.220446049250313e-16, radix=2, rounds=1)"
      ]
     },
     "execution_count": 23,
     "metadata": {},
     "output_type": "execute_result"
    }
   ],
   "source": [
    "sys.float_info"
   ]
  },
  {
   "cell_type": "code",
   "execution_count": null,
   "metadata": {
    "collapsed": true
   },
   "outputs": [],
   "source": []
  },
  {
   "cell_type": "markdown",
   "metadata": {},
   "source": [
    "# Interacting Between Different Variable Types\n",
    "\n",
    "Beware of integer division with Python 2. Unlike R, Python 2 doesn't assume that everything is a float unless explicitly told; it recognises that 2 is an integer, and this can be good and bad. In Python 3, we don't need to worry about this; the following code was run under a Python 3 kernel, but test it under Python 2 to see the difference."
   ]
  },
  {
   "cell_type": "code",
   "execution_count": 24,
   "metadata": {
    "collapsed": false
   },
   "outputs": [
    {
     "name": "stdout",
     "output_type": "stream",
     "text": [
      "<class 'int'> <class 'float'>\n"
     ]
    }
   ],
   "source": [
    "myint = 2\n",
    "myfloat = 3.14\n",
    "print(type(myint), type(myfloat))"
   ]
  },
  {
   "cell_type": "code",
   "execution_count": 25,
   "metadata": {
    "collapsed": false
   },
   "outputs": [
    {
     "name": "stdout",
     "output_type": "stream",
     "text": [
      "6.28\n",
      "<class 'float'>\n"
     ]
    }
   ],
   "source": [
    "# Multiplying an int with a float gives a float : the int was promoted.\n",
    "print(myint * myfloat)\n",
    "print(type(myint * myfloat))"
   ]
  },
  {
   "cell_type": "code",
   "execution_count": 26,
   "metadata": {
    "collapsed": false
   },
   "outputs": [
    {
     "name": "stdout",
     "output_type": "stream",
     "text": [
      "2.3333333333333335\n"
     ]
    }
   ],
   "source": [
    "# A minor difference between Python 2 and Python 3 :\n",
    "print(7 / 3)\n",
    "# Py2 : 2\n",
    "# Py3 : 2.3333"
   ]
  },
  {
   "cell_type": "code",
   "execution_count": 27,
   "metadata": {
    "collapsed": false
   },
   "outputs": [
    {
     "name": "stdout",
     "output_type": "stream",
     "text": [
      "<class 'float'>\n"
     ]
    }
   ],
   "source": [
    "# In Python 2, operations between same type gives the same type :\n",
    "print(type(7 / 3))\n",
    "# Py2 : <type 'int'>\n",
    "# Py3 : <class 'float'>"
   ]
  },
  {
   "cell_type": "code",
   "execution_count": 28,
   "metadata": {
    "collapsed": false
   },
   "outputs": [
    {
     "name": "stdout",
     "output_type": "stream",
     "text": [
      "2.3333333333333335\n",
      "2.3333333333333335\n"
     ]
    }
   ],
   "source": [
    "# Quick hack with ints to floats - there's no need to typecast, just give it a float \n",
    "print(float(7) / 3)\n",
    "print(7 / 3.0)"
   ]
  },
  {
   "cell_type": "code",
   "execution_count": 29,
   "metadata": {
    "collapsed": false
   },
   "outputs": [
    {
     "name": "stdout",
     "output_type": "stream",
     "text": [
      "2\n"
     ]
    }
   ],
   "source": [
    "# In Python 3, this is handled \"correctly\"; you can use // as integer division\n",
    "print(7 // 3)"
   ]
  },
  {
   "cell_type": "code",
   "execution_count": 30,
   "metadata": {
    "collapsed": false
   },
   "outputs": [
    {
     "name": "stdout",
     "output_type": "stream",
     "text": [
      "2.3333333333333335\n"
     ]
    }
   ],
   "source": [
    "# Quick note for Py2 users - see https://www.python.org/dev/peps/pep-0238/\n",
    "from __future__ import division\n",
    "print(7 / 3)"
   ]
  },
  {
   "cell_type": "markdown",
   "metadata": {},
   "source": [
    "# Relational operators  \n",
    "\n",
    "<img src=\"graphics/rel_ops.png\">"
   ]
  },
  {
   "cell_type": "code",
   "execution_count": 32,
   "metadata": {
    "collapsed": false
   },
   "outputs": [
    {
     "name": "stdout",
     "output_type": "stream",
     "text": [
      "var3 is greater than var1:  True\n",
      "var3 is greater or equal to var1:  True\n",
      "var1 is equal to vars:  True\n",
      "var1 is var2:  False\n"
     ]
    }
   ],
   "source": [
    "var1 = 2\n",
    "var2 = 2.\n",
    "var3 = 4.5\n",
    "\n",
    "print(\"var3 is greater than var1: \", var3 > var1)\n",
    "print(\"var3 is greater or equal to var1: \", var3 >= var1)\n",
    "print(\"var1 is equal to vars: \", var1 == var2)\n",
    "print(\"var1 is var2: \", var1 is var2)"
   ]
  },
  {
   "cell_type": "markdown",
   "metadata": {},
   "source": [
    "# Conditional statements: if, elif, else"
   ]
  },
  {
   "cell_type": "code",
   "execution_count": 33,
   "metadata": {
    "collapsed": false
   },
   "outputs": [
    {
     "name": "stdout",
     "output_type": "stream",
     "text": [
      "x is greater than 3.\n",
      "We can see this, it's not in the if statement.\n"
     ]
    }
   ],
   "source": [
    "x = 5\n",
    "\n",
    "if x > 3 :\n",
    "    print(\"x is greater than 3.\")\n",
    "    \n",
    "elif x == 5 :\n",
    "    print(\"We aren't going to see this. Why ?\")\n",
    "    \n",
    "else :\n",
    "    print(\"x is not greater than 3.\")\n",
    "    \n",
    "print(\"We can see this, it's not in the if statement.\")"
   ]
  },
  {
   "cell_type": "markdown",
   "metadata": {},
   "source": [
    "# While loops, for loops and control flow "
   ]
  },
  {
   "cell_type": "code",
   "execution_count": 34,
   "metadata": {
    "collapsed": false
   },
   "outputs": [
    {
     "name": "stdout",
     "output_type": "stream",
     "text": [
      "BIG CLICK, outer loop change to 1\n",
      "*little click*, outer is still 1, and inner is 0.\n",
      "*little click*, outer is still 1, and inner is 1.\n",
      "*little click*, outer is still 1, and inner is 2.\n",
      "*little click*, outer is still 1, and inner is 3.\n",
      "BIG CLICK, outer loop change to 2\n",
      "*little click*, outer is still 2, and inner is 0.\n",
      "*little click*, outer is still 2, and inner is 1.\n",
      "*little click*, outer is still 2, and inner is 2.\n",
      "*little click*, outer is still 2, and inner is 3.\n",
      "I'm done here.\n"
     ]
    }
   ],
   "source": [
    "for outer in range(1, 3) :\n",
    "    print(\"BIG CLICK, outer loop change to {}\".format(outer))\n",
    "    \n",
    "    for inner in range(4) :\n",
    "        print(\"*little click*, outer is still {}, and inner is {}.\".format(outer, inner))\n",
    "        \n",
    "print(\"I'm done here.\")"
   ]
  },
  {
   "cell_type": "code",
   "execution_count": 35,
   "metadata": {
    "collapsed": false
   },
   "outputs": [
    {
     "name": "stdout",
     "output_type": "stream",
     "text": [
      "BIG CLICK, outer loop change to 1\n",
      "*little click*, outer is still 2, and inner is 0.\n",
      "*little click*, outer is still 2, and inner is 1.\n",
      "*little click*, outer is still 2, and inner is 2.\n",
      "*little click*, outer is still 2, and inner is 3.\n",
      "BIG CLICK, outer loop change to 2\n",
      "*little click*, outer is still 3, and inner is 0.\n",
      "*little click*, outer is still 3, and inner is 1.\n",
      "*little click*, outer is still 3, and inner is 2.\n",
      "*little click*, outer is still 3, and inner is 3.\n",
      "I'm done here.\n"
     ]
    }
   ],
   "source": [
    "#Same code with the while loop\n",
    "outer_index = 1\n",
    "while outer_index < 3:\n",
    "    print(\"BIG CLICK, outer loop change to {}\".format(outer_index))\n",
    "    outer_index += 1\n",
    "    \n",
    "    inner_index = 0\n",
    "    while inner_index < 4:\n",
    "        print(\"*little click*, outer is still {}, and inner is {}.\".format(outer_index, inner_index))\n",
    "        inner_index += 1\n",
    "        \n",
    "print(\"I'm done here.\")"
   ]
  },
  {
   "cell_type": "code",
   "execution_count": null,
   "metadata": {
    "collapsed": true
   },
   "outputs": [],
   "source": [
    "#Example of an infinite loop\n",
    "\n",
    "while True:\n",
    "    print \"Looping!\""
   ]
  },
  {
   "cell_type": "markdown",
   "metadata": {},
   "source": [
    "# Strings and Bytes\n",
    "\n",
    "Strings in Python are identified as a contiguous set of characters represented in the quotation marks. Python allows for either pairs of single or double quotes. Subsets of strings can be taken using the slice operator ([ ] and [:] ) with indexes starting at 0 in the beginning of the string and working their way from -1 at the end.\n",
    "\n",
    "The plus (+) sign is the string concatenation operator and the asterisk (*) is the repetition operator. For example −"
   ]
  },
  {
   "cell_type": "code",
   "execution_count": 36,
   "metadata": {
    "collapsed": false
   },
   "outputs": [
    {
     "name": "stdout",
     "output_type": "stream",
     "text": [
      "Hello World!\n",
      "H\n",
      "llo\n",
      "llo World!\n",
      "Hello World!Hello World!\n",
      "Hello World!TEST\n"
     ]
    }
   ],
   "source": [
    "str = 'Hello World!'\n",
    "\n",
    "print(str)          # Prints complete string\n",
    "print(str[0])       # Prints first character of the string\n",
    "print(str[2:5])     # Prints characters starting from 3rd to 5th\n",
    "print(str[2:])      # Prints string starting from 3rd character\n",
    "print(str * 2)      # Prints string two times\n",
    "print(str + \"TEST\") # Prints concatenated string"
   ]
  },
  {
   "cell_type": "code",
   "execution_count": null,
   "metadata": {
    "collapsed": true
   },
   "outputs": [],
   "source": []
  },
  {
   "cell_type": "code",
   "execution_count": null,
   "metadata": {
    "collapsed": true
   },
   "outputs": [],
   "source": []
  },
  {
   "cell_type": "markdown",
   "metadata": {},
   "source": [
    "# Lists, Dictionaries, and Tuples\n",
    "\n",
    "## Python Lists\n",
    "\n",
    "Lists are the most versatile of Python's compound data types. A list contains items separated by commas and enclosed within square brackets ([]). To some extent, lists are similar to arrays in C. One difference between them is that all the items belonging to a list can be of different data type.\n",
    "\n",
    "The values stored in a list can be accessed using the slice operator ([ ] and [:]) with indexes starting at 0 in the beginning of the list and working their way to end -1. The plus (+) sign is the list concatenation operator, and the asterisk (*) is the repetition operator. For example −"
   ]
  },
  {
   "cell_type": "code",
   "execution_count": 37,
   "metadata": {
    "collapsed": false
   },
   "outputs": [
    {
     "name": "stdout",
     "output_type": "stream",
     "text": [
      "['abcd', 786, 2.23, 'john', 70.2]\n",
      "abcd\n",
      "[786, 2.23]\n",
      "[2.23, 'john', 70.2]\n",
      "[123, 'john', 123, 'john']\n",
      "['abcd', 786, 2.23, 'john', 70.2, 123, 'john']\n",
      "70.2\n"
     ]
    }
   ],
   "source": [
    "list = [ 'abcd', 786 , 2.23, 'john', 70.2 ]\n",
    "tinylist = [123, 'john']\n",
    "\n",
    "print(list)          # Prints complete list\n",
    "print(list[0])       # Prints first element of the list\n",
    "print(list[1:3])     # Prints elements starting from 2nd till 3rd \n",
    "print(list[2:])      # Prints elements starting from 3rd element\n",
    "print(tinylist * 2)  # Prints list two times\n",
    "print(list + tinylist) # Prints concatenated lists\n",
    "print(list[-1])"
   ]
  },
  {
   "cell_type": "markdown",
   "metadata": {},
   "source": [
    "## Python Tuples\n",
    "\n",
    "A tuple is another sequence data type that is similar to the list. A tuple consists of a number of values separated by commas. Unlike lists, however, tuples are enclosed within parentheses.\n",
    "\n",
    "The main differences between lists and tuples are: Lists are enclosed in brackets ( [ ] ) and their elements and size can be changed, while tuples are enclosed in parentheses ( ( ) ) and cannot be updated. Tuples can be thought of as read-only lists. For example −"
   ]
  },
  {
   "cell_type": "code",
   "execution_count": 38,
   "metadata": {
    "collapsed": false
   },
   "outputs": [
    {
     "name": "stdout",
     "output_type": "stream",
     "text": [
      "('abcd', 786, 2.23, 'john', 70.2)\n",
      "abcd\n",
      "(786, 2.23)\n",
      "(2.23, 'john', 70.2)\n",
      "(123, 'john', 123, 'john')\n",
      "('abcd', 786, 2.23, 'john', 70.2, 123, 'john')\n"
     ]
    }
   ],
   "source": [
    "tuple = ( 'abcd', 786 , 2.23, 'john', 70.2  )\n",
    "tinytuple = (123, 'john')\n",
    "\n",
    "print(tuple)           # Prints complete list\n",
    "print(tuple[0])        # Prints first element of the list\n",
    "print(tuple[1:3])      # Prints elements starting from 2nd till 3rd \n",
    "print(tuple[2:])       # Prints elements starting from 3rd element\n",
    "print(tinytuple * 2)   # Prints list two times\n",
    "print(tuple + tinytuple) # Prints concatenated lists"
   ]
  },
  {
   "cell_type": "markdown",
   "metadata": {},
   "source": [
    "The following code is invalid with tuple, because we attempted to update a tuple, which is not allowed. Similar case is possible with lists −"
   ]
  },
  {
   "cell_type": "code",
   "execution_count": 39,
   "metadata": {
    "collapsed": false
   },
   "outputs": [
    {
     "ename": "TypeError",
     "evalue": "'tuple' object does not support item assignment",
     "output_type": "error",
     "traceback": [
      "\u001b[0;31m---------------------------------------------------------------------------\u001b[0m",
      "\u001b[0;31mTypeError\u001b[0m                                 Traceback (most recent call last)",
      "\u001b[0;32m<ipython-input-39-9dccc7681e60>\u001b[0m in \u001b[0;36m<module>\u001b[0;34m()\u001b[0m\n\u001b[1;32m      1\u001b[0m \u001b[0mtuple\u001b[0m \u001b[0;34m=\u001b[0m \u001b[0;34m(\u001b[0m \u001b[0;34m'abcd'\u001b[0m\u001b[0;34m,\u001b[0m \u001b[0;36m786\u001b[0m \u001b[0;34m,\u001b[0m \u001b[0;36m2.23\u001b[0m\u001b[0;34m,\u001b[0m \u001b[0;34m'john'\u001b[0m\u001b[0;34m,\u001b[0m \u001b[0;36m70.2\u001b[0m  \u001b[0;34m)\u001b[0m\u001b[0;34m\u001b[0m\u001b[0m\n\u001b[1;32m      2\u001b[0m \u001b[0mlist\u001b[0m \u001b[0;34m=\u001b[0m \u001b[0;34m[\u001b[0m \u001b[0;34m'abcd'\u001b[0m\u001b[0;34m,\u001b[0m \u001b[0;36m786\u001b[0m \u001b[0;34m,\u001b[0m \u001b[0;36m2.23\u001b[0m\u001b[0;34m,\u001b[0m \u001b[0;34m'john'\u001b[0m\u001b[0;34m,\u001b[0m \u001b[0;36m70.2\u001b[0m  \u001b[0;34m]\u001b[0m\u001b[0;34m\u001b[0m\u001b[0m\n\u001b[0;32m----> 3\u001b[0;31m \u001b[0mtuple\u001b[0m\u001b[0;34m[\u001b[0m\u001b[0;36m2\u001b[0m\u001b[0;34m]\u001b[0m \u001b[0;34m=\u001b[0m \u001b[0;36m1000\u001b[0m    \u001b[0;31m# Invalid syntax with tuple\u001b[0m\u001b[0;34m\u001b[0m\u001b[0m\n\u001b[0m\u001b[1;32m      4\u001b[0m \u001b[0mlist\u001b[0m\u001b[0;34m[\u001b[0m\u001b[0;36m2\u001b[0m\u001b[0;34m]\u001b[0m \u001b[0;34m=\u001b[0m \u001b[0;36m1000\u001b[0m     \u001b[0;31m# Valid syntax with list\u001b[0m\u001b[0;34m\u001b[0m\u001b[0m\n",
      "\u001b[0;31mTypeError\u001b[0m: 'tuple' object does not support item assignment"
     ]
    }
   ],
   "source": [
    "tuple = ( 'abcd', 786 , 2.23, 'john', 70.2  )\n",
    "list = [ 'abcd', 786 , 2.23, 'john', 70.2  ]\n",
    "tuple[2] = 1000    # Invalid syntax with tuple\n",
    "list[2] = 1000     # Valid syntax with list"
   ]
  },
  {
   "cell_type": "markdown",
   "metadata": {},
   "source": [
    "## Python Dictionary\n",
    "\n",
    "Python's dictionaries are kind of hash table type. They work like associative arrays or hashes found in Perl and consist of key-value pairs. A dictionary key can be almost any Python type, but are usually numbers or strings. Values, on the other hand, can be any arbitrary Python object.\n",
    "\n",
    "Dictionaries are enclosed by curly braces ({ }) and values can be assigned and accessed using square braces ([]). For example −"
   ]
  },
  {
   "cell_type": "code",
   "execution_count": null,
   "metadata": {
    "collapsed": true
   },
   "outputs": [],
   "source": [
    "dict = {}\n",
    "dict['one'] = \"This is one\"\n",
    "dict[2]     = \"This is two\"\n",
    "\n",
    "tinydict = {'name': 'john','code':6734, 'dept': 'sales'}\n",
    "\n",
    "\n",
    "print(dict['one'])       # Prints value for 'one' key\n",
    "print(dict[2])           # Prints value for 2 key\n",
    "print(tinydict)         # Prints complete dictionary\n",
    "print(tinydict.keys())   # Prints all the keys\n",
    "print(tinydict.values()) # Prints all the values"
   ]
  },
  {
   "cell_type": "markdown",
   "metadata": {},
   "source": [
    "Dictionaries have no concept of order among elements. It is incorrect to say that the elements are \"out of order\"; they are simply unordered."
   ]
  },
  {
   "cell_type": "markdown",
   "metadata": {},
   "source": [
    "# Checkpoint 1\n",
    "\n",
    "### Write a Python code segment that constructs a list of (double-precision) floats with integer values from 0 to n.\n",
    "\n",
    "### For each of the types bool, int, float, str, tuple, list, NoneType, which value yields false in an if clause?\n",
    "\n",
    "### Give examples of two (builtin) types of objects that are mutable.\n",
    "\n",
    "### Illustrate how the * operator can be used to construct a list.\n",
    "\n",
    "### Illustrate how to access the last 4 characters of a string mystring.\n",
    "\n",
    "### Create a list of a thousand No's."
   ]
  },
  {
   "cell_type": "code",
   "execution_count": null,
   "metadata": {
    "collapsed": true
   },
   "outputs": [],
   "source": []
  },
  {
   "cell_type": "markdown",
   "metadata": {},
   "source": [
    "# Creating, running and importing a Python module\n",
    "\n",
    "Let us develop an example module in Python.\n",
    "\n",
    "<img src=\"graphics/module.png\">\n",
    "\n",
    "Typically, the Python code is structured as shown above: we have multiple .py files - libraries and a main driver script where we import functions defined in the libraries from. Alternatively, one can simply import these functions from the Python REPL. We will talk more about Object Oriented Python later in this course.\n",
    "\n",
    "## Word count script\n",
    "We will use a simple word-count example for this section."
   ]
  },
  {
   "cell_type": "code",
   "execution_count": 40,
   "metadata": {
    "collapsed": false
   },
   "outputs": [
    {
     "name": "stdout",
     "output_type": "stream",
     "text": [
      "['It', 'was', 'the', 'best', 'of', 'times', 'it', 'was', 'the', 'worst', 'of', 'times', 'it', 'was', 'the', 'age', 'of', 'wisdom', 'it', 'was', 'the', 'age', 'of', 'foolishness', 'it', 'was', 'the', 'epoch', 'of', 'belief', 'it', 'was', 'the', 'epoch', 'of', 'incredulity', 'it', 'was', 'the', 'season', 'of', 'Light', 'it', 'was', 'the', 'season', 'of', 'Darkness', 'it', 'was', 'the', 'spring', 'of', 'hope', 'it', 'was', 'the', 'winter', 'of', 'despair', 'we', 'had', 'everything', 'before', 'us', 'we', 'had', 'nothing', 'before', 'us', 'we', 'were', 'all', 'going', 'direct', 'to', 'Heaven', 'we', 'were', 'all', 'going', 'direct', 'the', 'other', 'way', 'in', 'short', 'the', 'period', 'was', 'so', 'far', 'like', 'the', 'present', 'period', 'that', 'some', 'of', 'its', 'noisiest', 'authorities', 'insisted', 'on', 'its', 'being', 'received', 'for', 'good', 'or', 'for', 'evil', 'in', 'the', 'superlative', 'degree', 'of', 'comparison', 'only']\n"
     ]
    }
   ],
   "source": [
    "from urllib.request import urlopen\n",
    "\n",
    "with urlopen(\"http://sixty-north.com/c/t.txt\") as story:\n",
    "    story_words = []\n",
    "    for line in story:\n",
    "        line_words = line.decode(\"utf-8\").split()\n",
    "        for word in line_words:\n",
    "            story_words.append(word)\n",
    "            \n",
    "    print(story_words)"
   ]
  },
  {
   "cell_type": "markdown",
   "metadata": {},
   "source": [
    "**Create a file in a text editor of your choice (I will use Vim)** Let us take this standalone function, and put it in a separate library file. You can call it **word_utils.py**. The contents of the file should be as follows:\n",
    "\n",
    "```python\n",
    "#Contents of the word_utils.py file\n",
    "\n",
    "#Add the mandatory shabeng line at the top of the file. It points to a default location of Python distrivtution, and tells that we ar eusing the python3\n",
    "\n",
    "#!/usr/bin/env python3\n",
    "from urllib import request\n",
    "\n",
    "def fetch_words():\n",
    "    story = request.urlopen(\"http://sixty-north.com/c/t.txt\")\n",
    "    story_words = []\n",
    "    for line in story:\n",
    "        line_words = line.decode('utf-8').split()\n",
    "        for word in line_words:\n",
    "            story_words.append(word)\n",
    "    return story_words\n",
    "\n",
    "\n",
    "def print_items(items):\n",
    "    for item in items:\n",
    "        print(item)\n",
    "```   \n",
    "\n",
    "As you can see, we simply put an original code into a function, and removed the print statement under the with statement adding an extra function to print items.\n",
    "\n",
    "## Test your module with Python REPL or iPython notebook\n",
    "\n",
    "Simply try and import the functions defined in the word_utils.py. There are various ways you can do it:"
   ]
  },
  {
   "cell_type": "code",
   "execution_count": 42,
   "metadata": {
    "collapsed": false
   },
   "outputs": [
    {
     "data": {
      "text/plain": [
       "['It',\n",
       " 'was',\n",
       " 'the',\n",
       " 'best',\n",
       " 'of',\n",
       " 'times',\n",
       " 'it',\n",
       " 'was',\n",
       " 'the',\n",
       " 'worst',\n",
       " 'of',\n",
       " 'times',\n",
       " 'it',\n",
       " 'was',\n",
       " 'the',\n",
       " 'age',\n",
       " 'of',\n",
       " 'wisdom',\n",
       " 'it',\n",
       " 'was',\n",
       " 'the',\n",
       " 'age',\n",
       " 'of',\n",
       " 'foolishness',\n",
       " 'it',\n",
       " 'was',\n",
       " 'the',\n",
       " 'epoch',\n",
       " 'of',\n",
       " 'belief',\n",
       " 'it',\n",
       " 'was',\n",
       " 'the',\n",
       " 'epoch',\n",
       " 'of',\n",
       " 'incredulity',\n",
       " 'it',\n",
       " 'was',\n",
       " 'the',\n",
       " 'season',\n",
       " 'of',\n",
       " 'Light',\n",
       " 'it',\n",
       " 'was',\n",
       " 'the',\n",
       " 'season',\n",
       " 'of',\n",
       " 'Darkness',\n",
       " 'it',\n",
       " 'was',\n",
       " 'the',\n",
       " 'spring',\n",
       " 'of',\n",
       " 'hope',\n",
       " 'it',\n",
       " 'was',\n",
       " 'the',\n",
       " 'winter',\n",
       " 'of',\n",
       " 'despair',\n",
       " 'we',\n",
       " 'had',\n",
       " 'everything',\n",
       " 'before',\n",
       " 'us',\n",
       " 'we',\n",
       " 'had',\n",
       " 'nothing',\n",
       " 'before',\n",
       " 'us',\n",
       " 'we',\n",
       " 'were',\n",
       " 'all',\n",
       " 'going',\n",
       " 'direct',\n",
       " 'to',\n",
       " 'Heaven',\n",
       " 'we',\n",
       " 'were',\n",
       " 'all',\n",
       " 'going',\n",
       " 'direct',\n",
       " 'the',\n",
       " 'other',\n",
       " 'way',\n",
       " 'in',\n",
       " 'short',\n",
       " 'the',\n",
       " 'period',\n",
       " 'was',\n",
       " 'so',\n",
       " 'far',\n",
       " 'like',\n",
       " 'the',\n",
       " 'present',\n",
       " 'period',\n",
       " 'that',\n",
       " 'some',\n",
       " 'of',\n",
       " 'its',\n",
       " 'noisiest',\n",
       " 'authorities',\n",
       " 'insisted',\n",
       " 'on',\n",
       " 'its',\n",
       " 'being',\n",
       " 'received',\n",
       " 'for',\n",
       " 'good',\n",
       " 'or',\n",
       " 'for',\n",
       " 'evil',\n",
       " 'in',\n",
       " 'the',\n",
       " 'superlative',\n",
       " 'degree',\n",
       " 'of',\n",
       " 'comparison',\n",
       " 'only']"
      ]
     },
     "execution_count": 42,
     "metadata": {},
     "output_type": "execute_result"
    }
   ],
   "source": [
    "import word_utils\n",
    "word_utils.fetch_words()"
   ]
  },
  {
   "cell_type": "markdown",
   "metadata": {},
   "source": [
    "We will make one quick change to our code: remove hardcoded URL from the body of the function, replacing it with a url string parameter. Making out functions look like:\n",
    "\n",
    "```python\n",
    "#!/usr/bin/env python3\n",
    "from urllib import request\n",
    "\n",
    "def fetch_words(url):\n",
    "    story = request.urlopen(url)\n",
    "    story_words = []\n",
    "    for line in story:\n",
    "        line_words = line.decode('utf-8').split()\n",
    "        for word in line_words:\n",
    "            story_words.append(word)\n",
    "    return story_words\n",
    "\n",
    "\n",
    "def print_items(items):\n",
    "    for item in items:\n",
    "        print(item)\n",
    "```  \n",
    "\n",
    "As the amount of code using your library functions increases, you need to have a separate function/script for that - the main() function. Let us create a new file called **driver.py** which would contain something like this:"
   ]
  },
  {
   "cell_type": "code",
   "execution_count": 44,
   "metadata": {
    "collapsed": false
   },
   "outputs": [
    {
     "name": "stdout",
     "output_type": "stream",
     "text": [
      "It\n",
      "was\n",
      "the\n",
      "best\n",
      "of\n",
      "times\n",
      "it\n",
      "was\n",
      "the\n",
      "worst\n",
      "of\n",
      "times\n",
      "it\n",
      "was\n",
      "the\n",
      "age\n",
      "of\n",
      "wisdom\n",
      "it\n",
      "was\n",
      "the\n",
      "age\n",
      "of\n",
      "foolishness\n",
      "it\n",
      "was\n",
      "the\n",
      "epoch\n",
      "of\n",
      "belief\n",
      "it\n",
      "was\n",
      "the\n",
      "epoch\n",
      "of\n",
      "incredulity\n",
      "it\n",
      "was\n",
      "the\n",
      "season\n",
      "of\n",
      "Light\n",
      "it\n",
      "was\n",
      "the\n",
      "season\n",
      "of\n",
      "Darkness\n",
      "it\n",
      "was\n",
      "the\n",
      "spring\n",
      "of\n",
      "hope\n",
      "it\n",
      "was\n",
      "the\n",
      "winter\n",
      "of\n",
      "despair\n",
      "we\n",
      "had\n",
      "everything\n",
      "before\n",
      "us\n",
      "we\n",
      "had\n",
      "nothing\n",
      "before\n",
      "us\n",
      "we\n",
      "were\n",
      "all\n",
      "going\n",
      "direct\n",
      "to\n",
      "Heaven\n",
      "we\n",
      "were\n",
      "all\n",
      "going\n",
      "direct\n",
      "the\n",
      "other\n",
      "way\n",
      "in\n",
      "short\n",
      "the\n",
      "period\n",
      "was\n",
      "so\n",
      "far\n",
      "like\n",
      "the\n",
      "present\n",
      "period\n",
      "that\n",
      "some\n",
      "of\n",
      "its\n",
      "noisiest\n",
      "authorities\n",
      "insisted\n",
      "on\n",
      "its\n",
      "being\n",
      "received\n",
      "for\n",
      "good\n",
      "or\n",
      "for\n",
      "evil\n",
      "in\n",
      "the\n",
      "superlative\n",
      "degree\n",
      "of\n",
      "comparison\n",
      "only\n"
     ]
    }
   ],
   "source": [
    "#!/usr/bin/env python\n",
    "\"\"\" Retrieve and print words from a URL.\n",
    "\n",
    "Usage:\n",
    "\n",
    "    python3 driver.py\n",
    "\"\"\"\n",
    "from word_utils import * #fetch_words,print_items\n",
    "\n",
    "def main(url):\n",
    "    \"\"\" Print each word from a text document from a URL.\n",
    "\n",
    "    Args:\n",
    "        url:  The URL of a UTF-8 text document.\n",
    "    \"\"\"\n",
    "    words = fetch_words(url)\n",
    "    print_items(words)\n",
    "\n",
    "\n",
    "if __name__ == '__main__':\n",
    "    main(\"http://sixty-north.com/c/t.txt\")"
   ]
  },
  {
   "cell_type": "markdown",
   "metadata": {},
   "source": [
    "## Special attributes\n",
    "\n",
    "<img src=\"graphics/name.png\">\n",
    "\n",
    "For a complete list of special attributes do:"
   ]
  },
  {
   "cell_type": "code",
   "execution_count": 45,
   "metadata": {
    "collapsed": false
   },
   "outputs": [
    {
     "data": {
      "text/plain": [
       "['__annotations__',\n",
       " '__call__',\n",
       " '__class__',\n",
       " '__closure__',\n",
       " '__code__',\n",
       " '__defaults__',\n",
       " '__delattr__',\n",
       " '__dict__',\n",
       " '__dir__',\n",
       " '__doc__',\n",
       " '__eq__',\n",
       " '__format__',\n",
       " '__ge__',\n",
       " '__get__',\n",
       " '__getattribute__',\n",
       " '__globals__',\n",
       " '__gt__',\n",
       " '__hash__',\n",
       " '__init__',\n",
       " '__kwdefaults__',\n",
       " '__le__',\n",
       " '__lt__',\n",
       " '__module__',\n",
       " '__name__',\n",
       " '__ne__',\n",
       " '__new__',\n",
       " '__qualname__',\n",
       " '__reduce__',\n",
       " '__reduce_ex__',\n",
       " '__repr__',\n",
       " '__setattr__',\n",
       " '__sizeof__',\n",
       " '__str__',\n",
       " '__subclasshook__']"
      ]
     },
     "execution_count": 45,
     "metadata": {},
     "output_type": "execute_result"
    }
   ],
   "source": [
    "import word_utils as wu\n",
    "dir(wu.fetch_words)"
   ]
  },
  {
   "cell_type": "markdown",
   "metadata": {},
   "source": [
    "## Docstrings\n",
    "\n",
    "A docstring is a string literal that occurs as the first statement in a module, function, class, or method definition. Such a docstring becomes the __doc__ special attribute of that object.\n",
    "\n",
    "All modules should normally have docstrings, and all functions and classes exported by a module should also have docstrings. Public methods (including the __init__ constructor) should also have docstrings. A package may be documented in the module docstring of the __init__.py file in the package directory.\n",
    "\n",
    "https://www.python.org/dev/peps/pep-0257/\n",
    "\n",
    "We will go ahead and modify our word_utils.py functions to add docstrings:\n",
    "\n",
    "```python\n",
    "#!/usr/bin/env python3\n",
    "\n",
    "from urllib import request\n",
    "\n",
    "def fetch_words(url=\"http://sixty-north.com/c/t.txt\"):\n",
    "    \"\"\"Fetch a list of words from a URL.\n",
    "\n",
    "    Args:\n",
    "        url: The URL of a UTF-8 text document.\n",
    "\n",
    "    Returns:\n",
    "        A list of string containing the words from the document.\n",
    "    \"\"\"\n",
    "    story = request.urlopen(url)\n",
    "    story_words = []\n",
    "    for line in story:\n",
    "        line_words = line.decode('utf-8').split()\n",
    "        for word in line_words:\n",
    "            story_words.append(word)\n",
    "    return story_words\n",
    "\n",
    "\n",
    "def print_items(items):\n",
    "    \"\"\" Print items one per line.\n",
    "\n",
    "    Args:\n",
    "        An iterable series of printable items.\n",
    "    \"\"\"\n",
    "    for item in items:\n",
    "        print(item)\n",
    "```"
   ]
  },
  {
   "cell_type": "code",
   "execution_count": 12,
   "metadata": {
    "collapsed": false
   },
   "outputs": [
    {
     "name": "stdout",
     "output_type": "stream",
     "text": [
      "Help on function fetch_words in module word_utils:\n",
      "\n",
      "fetch_words(url)\n",
      "    Fetch a list of words from a URL.\n",
      "    \n",
      "    Args:\n",
      "        url: The URL of a UTF-8 text document.\n",
      "    \n",
      "    Returns:\n",
      "        A list of string containing the words from the document.\n",
      "\n"
     ]
    }
   ],
   "source": [
    "import word_utils\n",
    "help(fetch_words)"
   ]
  },
  {
   "cell_type": "markdown",
   "metadata": {},
   "source": [
    "Last change we will make is to the driver script, by allowing to pass URL from the command line:\n",
    "\n",
    "```python\n",
    "#!/usr/bin/env python\n",
    "\"\"\" Retrieve and print words from a URL.\n",
    "\n",
    "Usage:\n",
    "\n",
    "    python3 driver.py<URL>\n",
    "\"\"\"\n",
    "\n",
    "import sys\n",
    "from urllib import request\n",
    "from word_utils import * #fetch_words,print_items\n",
    "\n",
    "\n",
    "def main(url):\n",
    "    \"\"\" Print each word from a text document from a URL.\n",
    "\n",
    "    Args:\n",
    "        url:  The URL of a UTF-8 text document.\n",
    "    \"\"\"\n",
    "    words = fetch_words(url)\n",
    "    print_items(words)\n",
    "\n",
    "\n",
    "if __name__ == '__main__':\n",
    "    main(sys.argv[1])  # The 0th argument is the module filename\n",
    "```\n",
    "\n",
    "And try running it from Python REPL as:\n",
    "\n",
    "```bash\n",
    "python3 driver.py \"http://sixty-north.com/c/t.txt\"\n",
    "```\n",
    "\n",
    "\n",
    "<img src=\"graphics/modularity.png\">\n",
    "\n",
    "<img src=\"graphics/modularity2.png\">"
   ]
  },
  {
   "cell_type": "code",
   "execution_count": null,
   "metadata": {
    "collapsed": true
   },
   "outputs": [],
   "source": []
  },
  {
   "cell_type": "markdown",
   "metadata": {},
   "source": [
    "# Variables and functions \n",
    "\n",
    "\n",
    "A Python variable is a **reference** to an object. To be more specific, a Python variable contains the\n",
    "address of an object in memory. \n",
    "Each object x has a unique ID id(x), typically its address in memory. Whether or not variables\n",
    "x and y refer to the same object can be checked with x is y.\n",
    "\n",
    "What happens in the following:"
   ]
  },
  {
   "cell_type": "code",
   "execution_count": 46,
   "metadata": {
    "collapsed": false
   },
   "outputs": [
    {
     "data": {
      "text/plain": [
       "4297537984"
      ]
     },
     "execution_count": 46,
     "metadata": {},
     "output_type": "execute_result"
    }
   ],
   "source": [
    "x = 2\n",
    "id(x)"
   ]
  },
  {
   "cell_type": "code",
   "execution_count": 47,
   "metadata": {
    "collapsed": false
   },
   "outputs": [
    {
     "data": {
      "text/plain": [
       "4297537984"
      ]
     },
     "execution_count": 47,
     "metadata": {},
     "output_type": "execute_result"
    }
   ],
   "source": [
    "y = x\n",
    "id(y)"
   ]
  },
  {
   "cell_type": "code",
   "execution_count": 49,
   "metadata": {
    "collapsed": false
   },
   "outputs": [
    {
     "data": {
      "text/plain": [
       "4297537984"
      ]
     },
     "execution_count": 49,
     "metadata": {},
     "output_type": "execute_result"
    }
   ],
   "source": [
    "x = 3\n",
    "id(x)"
   ]
  },
  {
   "cell_type": "markdown",
   "metadata": {},
   "source": [
    "is that x first contains the address of 2, then this address is copied into y, and finally the address\n",
    "of 3 is put into x. The actual object consists of both a reference to its type and its data.\n",
    "\n",
    "A list a: "
   ]
  },
  {
   "cell_type": "code",
   "execution_count": 58,
   "metadata": {
    "collapsed": false
   },
   "outputs": [
    {
     "data": {
      "text/plain": [
       "4385751688"
      ]
     },
     "execution_count": 58,
     "metadata": {},
     "output_type": "execute_result"
    }
   ],
   "source": [
    "a = [[1,2],[3,4]]\n",
    "id(a)"
   ]
  },
  {
   "cell_type": "code",
   "execution_count": 59,
   "metadata": {
    "collapsed": false
   },
   "outputs": [
    {
     "data": {
      "text/plain": [
       "4385616072"
      ]
     },
     "execution_count": 59,
     "metadata": {},
     "output_type": "execute_result"
    }
   ],
   "source": [
    "id(a[0])"
   ]
  },
  {
   "cell_type": "markdown",
   "metadata": {},
   "source": [
    "is itself a sequence of references, each one of which might refer to\n",
    "a different type of object.\n",
    "\n",
    "The assignment b = a would make b a reference to the same list as a:"
   ]
  },
  {
   "cell_type": "code",
   "execution_count": 62,
   "metadata": {
    "collapsed": false
   },
   "outputs": [
    {
     "name": "stdout",
     "output_type": "stream",
     "text": [
      "4385751688\n",
      "4385616072\n",
      "4385616072\n"
     ]
    }
   ],
   "source": [
    "b = a\n",
    "print(id(b))\n",
    "\n",
    "print(id(a[0]))\n",
    "print(id(b[0]))"
   ]
  },
  {
   "cell_type": "markdown",
   "metadata": {
    "collapsed": true
   },
   "source": [
    "On the other hand:"
   ]
  },
  {
   "cell_type": "code",
   "execution_count": 63,
   "metadata": {
    "collapsed": false
   },
   "outputs": [
    {
     "name": "stdout",
     "output_type": "stream",
     "text": [
      "4388958536\n",
      "4385616072\n",
      "4385616072\n"
     ]
    }
   ],
   "source": [
    "b = a[:]\n",
    "print(id(b))\n",
    "\n",
    "print(id(a[0]))\n",
    "print(id(b[0]))"
   ]
  },
  {
   "cell_type": "markdown",
   "metadata": {},
   "source": [
    "would make b refer to a copy of the list but not of the objects that are referenced by a[0], a[1]. \n",
    "\n",
    "<img src=\"graphics/shallow_copy_list.png\">\n",
    "\n",
    "If these objects are mutable and copies of them are also desired, import copy and set:"
   ]
  },
  {
   "cell_type": "code",
   "execution_count": 64,
   "metadata": {
    "collapsed": false
   },
   "outputs": [
    {
     "name": "stdout",
     "output_type": "stream",
     "text": [
      "4388923272\n",
      "4385616072\n",
      "4388916680\n"
     ]
    }
   ],
   "source": [
    "import copy\n",
    "\n",
    "b = copy.deepcopy(a)\n",
    "print(id(b))\n",
    "\n",
    "print(id(a[0]))\n",
    "print(id(b[0]))"
   ]
  },
  {
   "cell_type": "markdown",
   "metadata": {},
   "source": [
    "If **a** is a dictionary, use ```python b = dict.copy(a)``` to make a shallow copy.\n",
    "\n",
    "To save storage space, the compiler sometimes stores two immutable objects having the same value\n",
    "in the same memory. Therefore, the identity operator is should not be used to compare two\n",
    "immutable objects: instead, use the equality operator ==.\n",
    "\n",
    "## Functions \n",
    "\n",
    "### Call by reference\n",
    "\n",
    "Consider the code:"
   ]
  },
  {
   "cell_type": "code",
   "execution_count": 23,
   "metadata": {
    "collapsed": true
   },
   "outputs": [],
   "source": [
    "def zero (x, y):\n",
    "    x = 0.\n",
    "    for i in range(len(y)): y[i] = 0.\n",
    "    a = 1.\n",
    "    b = [2., 3., 5.]\n",
    "    zero(a, b)"
   ]
  },
  {
   "cell_type": "markdown",
   "metadata": {},
   "source": [
    "When the function **zero** is called, the references in a and b are copied to local variables x and y,\n",
    "respectively. The function changes x to refer to 0., but there is no change to a. \n",
    "\n",
    "The function does not change y. It changes just the references constituting the list, and this same list is referenced by  b as well as y. Upon exit, the local variables become undefined. The intended effect is successful\n",
    "for b but not a. The modification of **b** is an example of a side effect. "
   ]
  },
  {
   "cell_type": "markdown",
   "metadata": {
    "collapsed": true
   },
   "source": [
    "All Python functions return a value, the default is None.\n",
    "\n",
    "## Argument lists\n",
    "\n",
    "Python permits keyword arguments, which are optional labeled arguments. e.g., the matplotlib function call:\n",
    "**plot(x, y, linewidth=1.0)**\n",
    "It also permits a variable number of arguments as in min(a, b, c).\n",
    "\n",
    "## Passing function names\n",
    "A couple of examples are:\n",
    "**myplot(f, -1., 1.)**\n"
   ]
  },
  {
   "cell_type": "markdown",
   "metadata": {},
   "source": [
    "## Lambda functions in Python\n",
    "\n",
    "Python supports the creation of anonymous functions (i.e. functions that are not bound to a name) at runtime, using a construct called \"lambda\".\n",
    "Sometimes you need to pass a function as an argument, or you want to do a short but complex operation multiple times. You could define your function the normal way, or you could make a lambda function, a mini-function that returns the result of a single expression. The two definitions are completely identical:"
   ]
  },
  {
   "cell_type": "code",
   "execution_count": null,
   "metadata": {
    "collapsed": true
   },
   "outputs": [],
   "source": [
    "##traditional named function\n",
    "def add(a,b): return a+b\n",
    "\n",
    "##lambda function\n",
    "add2 = lambda a,b: a+b"
   ]
  },
  {
   "cell_type": "markdown",
   "metadata": {},
   "source": [
    "The advantage of the lambda function is that it is in itself an expression, and can be used inside another statement. Here's an example using the map function, which calls a function on every element in a list, and returns a list of the results:"
   ]
  },
  {
   "cell_type": "code",
   "execution_count": null,
   "metadata": {
    "collapsed": true
   },
   "outputs": [],
   "source": [
    "squares = map(lambda a: a*a, [1,2,3,4,5])\n",
    "print squares"
   ]
  },
  {
   "cell_type": "code",
   "execution_count": null,
   "metadata": {
    "collapsed": true
   },
   "outputs": [],
   "source": []
  },
  {
   "cell_type": "markdown",
   "metadata": {},
   "source": [
    "All Python functions return a value, the default is None.\n",
    "\n",
    "### Scope\n",
    "\n",
    "<img src=\"graphics/scope.png\">\n",
    "\n",
    "The parameters of a function have only local scope. In the following code:"
   ]
  },
  {
   "cell_type": "code",
   "execution_count": null,
   "metadata": {
    "collapsed": true
   },
   "outputs": [],
   "source": [
    "def func(x):\n",
    "    a = 1.\n",
    "    return x + a + b\n",
    "a = 2.; b = 3.\n",
    "func(5.)"
   ]
  },
  {
   "cell_type": "markdown",
   "metadata": {},
   "source": [
    "the variable *a* is a local variable because it is defined in its first occurrence, whereas b is a global\n",
    "variable because it is used without first being defined. \n",
    "\n",
    "An uninitialized variable will be assumed to come from the enclosing static context but not otherwise from its calling function. \n",
    "\n",
    "The presumption that a is local can be overridden by declaring it to be global before using it.\n",
    "The list of defined variable names in the current scope is available as **dir()** called on a function.\n",
    "\n",
    "<img src=\"graphics/functions1.png\">\n",
    "\n",
    "<img src=\"graphics/functions2.png\">"
   ]
  },
  {
   "cell_type": "markdown",
   "metadata": {},
   "source": [
    "<img src=\"graphics/typing.png\">"
   ]
  },
  {
   "cell_type": "markdown",
   "metadata": {},
   "source": [
    "# Comprehensions, map and filter\n",
    "\n",
    "## List comprehensions\n",
    "List comprehensions provide a concise way to create lists. Common applications are to make new lists where each element is the result of some operations applied to each member of another sequence or iterable, or to create a subsequence of those elements that satisfy a certain condition.\n",
    "\n",
    "For example, assume we want to create a list of squares, like:"
   ]
  },
  {
   "cell_type": "code",
   "execution_count": 5,
   "metadata": {
    "collapsed": false
   },
   "outputs": [
    {
     "data": {
      "text/plain": [
       "[0, 1, 4, 9, 16, 25, 36, 49, 64, 81]"
      ]
     },
     "execution_count": 5,
     "metadata": {},
     "output_type": "execute_result"
    }
   ],
   "source": [
    "squares = []\n",
    "for x in range(10):\n",
    "    squares.append(x**2)\n",
    "squares"
   ]
  },
  {
   "cell_type": "code",
   "execution_count": 4,
   "metadata": {
    "collapsed": false
   },
   "outputs": [
    {
     "data": {
      "text/plain": [
       "[0, 1, 4, 9, 16, 25, 36, 49, 64, 81]"
      ]
     },
     "execution_count": 4,
     "metadata": {},
     "output_type": "execute_result"
    }
   ],
   "source": [
    "#We can obtain the same result with:\n",
    "squares = [x**2 for x in range(10)]\n",
    "squares"
   ]
  },
  {
   "cell_type": "code",
   "execution_count": 10,
   "metadata": {
    "collapsed": false
   },
   "outputs": [
    {
     "name": "stdout",
     "output_type": "stream",
     "text": [
      "0\n",
      "1\n",
      "4\n",
      "9\n",
      "16\n",
      "25\n",
      "36\n",
      "49\n",
      "64\n",
      "81\n"
     ]
    }
   ],
   "source": [
    "#This is also equivalent to \n",
    "squares = map(lambda x: x**2, range(10))\n",
    "for x in squares:\n",
    "    print(x),"
   ]
  },
  {
   "cell_type": "markdown",
   "metadata": {},
   "source": [
    "A list comprehension consists of brackets containing an expression followed by a for clause, then zero or more for or if clauses. The result will be a new list resulting from evaluating the expression in the context of the for and if clauses which follow it. For example, this listcomp combines the elements of two lists if they are not equal:"
   ]
  },
  {
   "cell_type": "code",
   "execution_count": 11,
   "metadata": {
    "collapsed": false
   },
   "outputs": [
    {
     "name": "stdout",
     "output_type": "stream",
     "text": [
      "[(1, 3), (1, 4), (2, 3), (2, 1), (2, 4), (3, 1), (3, 4)]\n",
      "[(1, 3), (1, 4), (2, 3), (2, 1), (2, 4), (3, 1), (3, 4)]\n"
     ]
    }
   ],
   "source": [
    "combs = [(x, y) for x in [1,2,3] for y in [3,1,4] if x != y]\n",
    "print(combs)\n",
    "\n",
    "#and it’s equivalent to:\n",
    "\n",
    "combs = []\n",
    "for x in [1,2,3]:\n",
    "    for y in [3,1,4]:\n",
    "        if x != y:\n",
    "            combs.append((x, y))\n",
    "print(combs)\n",
    "\n",
    "#Note how the order of the for and if statements is the same in both these snippets."
   ]
  },
  {
   "cell_type": "markdown",
   "metadata": {},
   "source": [
    "## Filtering a list\n",
    "\n",
    "What if you're more interested in filtering the list? Say you want to remove every element with a value equal to or greater than 4? "
   ]
  },
  {
   "cell_type": "code",
   "execution_count": 12,
   "metadata": {
    "collapsed": false
   },
   "outputs": [
    {
     "name": "stdout",
     "output_type": "stream",
     "text": [
      "Numbers under 4 only:  [1, 2, 3]\n",
      "Numbers under 4 only:  <filter object at 0x105779470>\n"
     ]
    }
   ],
   "source": [
    "numbers = [1,2,3,4,5]\n",
    "numbers_under_4 = []\n",
    "for number in numbers:\n",
    "    if number < 4:\n",
    "        numbers_under_4.append(number)\n",
    "        # Now, numbers_under_4 contains [1,4,9]\n",
    "print(\"Numbers under 4 only: \", numbers_under_4)\n",
    "\n",
    "\n",
    "#You could reduce the size of the code with the filter function:\n",
    "numbers = [1,2,3,4,5]\n",
    "numbers_under_4 = filter(lambda x: x < 4, numbers)\n",
    "# Now, numbers_under_4 contains [1,2,3]\n",
    "print(\"Numbers under 4 only: \",numbers_under_4)"
   ]
  },
  {
   "cell_type": "markdown",
   "metadata": {},
   "source": [
    "## Dictionary comperehensions \n",
    "\n",
    "You already know that the dict() constructor builds dictionaries directly from sequences of key-value pairs:"
   ]
  },
  {
   "cell_type": "code",
   "execution_count": null,
   "metadata": {
    "collapsed": true
   },
   "outputs": [],
   "source": [
    "dict([('sape', 4139), ('guido', 4127), ('jack', 4098)])\n",
    "{'sape': 4139, 'jack': 4098, 'guido': 4127}"
   ]
  },
  {
   "cell_type": "markdown",
   "metadata": {},
   "source": [
    "In addition, dict comprehensions can be used to create dictionaries from arbitrary key and value expressions:"
   ]
  },
  {
   "cell_type": "code",
   "execution_count": 13,
   "metadata": {
    "collapsed": false
   },
   "outputs": [
    {
     "data": {
      "text/plain": [
       "{2: 4, 4: 16, 6: 36}"
      ]
     },
     "execution_count": 13,
     "metadata": {},
     "output_type": "execute_result"
    }
   ],
   "source": [
    "{x: x**2 for x in (2, 4, 6)}"
   ]
  },
  {
   "cell_type": "markdown",
   "metadata": {},
   "source": [
    "# Operating system commands\n",
    "\n",
    "https://docs.python.org/2/library/os.html\n",
    "\n",
    "Operating system commands can be executed using generic Python commands. There are two modules that are good for that: os and subprocess"
   ]
  },
  {
   "cell_type": "code",
   "execution_count": 14,
   "metadata": {
    "collapsed": false
   },
   "outputs": [
    {
     "data": {
      "text/plain": [
       "['.git',\n",
       " '.gitignore',\n",
       " '.ipynb_checkpoints',\n",
       " '0.Intro-and-Setup.ipynb',\n",
       " '0.Intro-and-Setup.slides.html',\n",
       " '1.BasicPython.ipynb',\n",
       " '1.BasicPython.slides.html',\n",
       " '2.Stack.ipynb',\n",
       " '2.Stack.slides.html',\n",
       " '3.Demos.ipynb',\n",
       " '3.Demos.slides.html',\n",
       " '__pycache__',\n",
       " 'bool.png',\n",
       " 'CoffeeTimeSeries.csv',\n",
       " 'depts.png',\n",
       " 'driver.py',\n",
       " 'example.txt',\n",
       " 'float.png',\n",
       " 'functions1.png',\n",
       " 'functions2.png',\n",
       " 'int.png',\n",
       " 'LICENSE',\n",
       " 'liver.jpg',\n",
       " 'modularity.png',\n",
       " 'modularity2.png',\n",
       " 'module.png',\n",
       " 'name.png',\n",
       " 'none.png',\n",
       " 'Part0.ipynb',\n",
       " 'Part1.ipynb',\n",
       " 'pickled_human.p',\n",
       " 'poi2.png',\n",
       " 'README.md',\n",
       " 'rel_ops.png',\n",
       " 'scope.png',\n",
       " 'sheep.csv',\n",
       " 'std_lib.png',\n",
       " 'typing.png',\n",
       " 'word_utils.py',\n",
       " 'word_utils.pyc']"
      ]
     },
     "execution_count": 14,
     "metadata": {},
     "output_type": "execute_result"
    }
   ],
   "source": [
    "import os\n",
    "os.listdir(os.getcwd())                         "
   ]
  },
  {
   "cell_type": "code",
   "execution_count": 15,
   "metadata": {
    "collapsed": false
   },
   "outputs": [
    {
     "data": {
      "text/plain": [
       "['0.Intro-and-Setup.ipynb',\n",
       " '0.Intro-and-Setup.slides.html',\n",
       " '1.BasicPython.ipynb',\n",
       " '1.BasicPython.slides.html',\n",
       " '2.Stack.ipynb',\n",
       " '2.Stack.slides.html',\n",
       " '3.Demos.ipynb',\n",
       " '3.Demos.slides.html',\n",
       " '__pycache__',\n",
       " 'bool.png',\n",
       " 'CoffeeTimeSeries.csv',\n",
       " 'depts.png',\n",
       " 'driver.py',\n",
       " 'example.txt',\n",
       " 'float.png',\n",
       " 'functions1.png',\n",
       " 'functions2.png',\n",
       " 'int.png',\n",
       " 'LICENSE',\n",
       " 'liver.jpg',\n",
       " 'modularity.png',\n",
       " 'modularity2.png',\n",
       " 'module.png',\n",
       " 'name.png',\n",
       " 'none.png',\n",
       " 'Part0.ipynb',\n",
       " 'Part1.ipynb',\n",
       " 'pickled_human.p',\n",
       " 'poi2.png',\n",
       " 'README.md',\n",
       " 'rel_ops.png',\n",
       " 'scope.png',\n",
       " 'sheep.csv',\n",
       " 'std_lib.png',\n",
       " 'typing.png',\n",
       " 'word_utils.py',\n",
       " 'word_utils.pyc']"
      ]
     },
     "execution_count": 15,
     "metadata": {},
     "output_type": "execute_result"
    }
   ],
   "source": [
    "import glob\n",
    "glob.glob('*')"
   ]
  },
  {
   "cell_type": "code",
   "execution_count": 16,
   "metadata": {
    "collapsed": true
   },
   "outputs": [],
   "source": [
    "os.mkdir(\"mytmp\")"
   ]
  },
  {
   "cell_type": "code",
   "execution_count": 21,
   "metadata": {
    "collapsed": false
   },
   "outputs": [
    {
     "ename": "FileNotFoundError",
     "evalue": "[Errno 2] No such file or directory: 'mytmp'",
     "output_type": "error",
     "traceback": [
      "\u001b[0;31m---------------------------------------------------------------------------\u001b[0m",
      "\u001b[0;31mFileNotFoundError\u001b[0m                         Traceback (most recent call last)",
      "\u001b[0;32m<ipython-input-21-3b8f5f4c8922>\u001b[0m in \u001b[0;36m<module>\u001b[0;34m()\u001b[0m\n\u001b[0;32m----> 1\u001b[0;31m \u001b[0mos\u001b[0m\u001b[0;34m.\u001b[0m\u001b[0mlistdir\u001b[0m\u001b[0;34m(\u001b[0m\u001b[0;34m\"mytmp\"\u001b[0m\u001b[0;34m)\u001b[0m\u001b[0;34m\u001b[0m\u001b[0m\n\u001b[0m",
      "\u001b[0;31mFileNotFoundError\u001b[0m: [Errno 2] No such file or directory: 'mytmp'"
     ]
    }
   ],
   "source": [
    "os.listdir(\"mytmp\")  "
   ]
  },
  {
   "cell_type": "code",
   "execution_count": 22,
   "metadata": {
    "collapsed": false
   },
   "outputs": [
    {
     "ename": "FileNotFoundError",
     "evalue": "[Errno 2] No such file or directory: 'mytmp'",
     "output_type": "error",
     "traceback": [
      "\u001b[0;31m---------------------------------------------------------------------------\u001b[0m",
      "\u001b[0;31mFileNotFoundError\u001b[0m                         Traceback (most recent call last)",
      "\u001b[0;32m<ipython-input-22-27c15d0cb696>\u001b[0m in \u001b[0;36m<module>\u001b[0;34m()\u001b[0m\n\u001b[0;32m----> 1\u001b[0;31m \u001b[0mos\u001b[0m\u001b[0;34m.\u001b[0m\u001b[0mrmdir\u001b[0m\u001b[0;34m(\u001b[0m\u001b[0;34m\"mytmp\"\u001b[0m\u001b[0;34m)\u001b[0m\u001b[0;34m\u001b[0m\u001b[0m\n\u001b[0m",
      "\u001b[0;31mFileNotFoundError\u001b[0m: [Errno 2] No such file or directory: 'mytmp'"
     ]
    }
   ],
   "source": [
    "os.rmdir(\"mytmp\")"
   ]
  },
  {
   "cell_type": "code",
   "execution_count": 26,
   "metadata": {
    "collapsed": false
   },
   "outputs": [
    {
     "data": {
      "text/plain": [
       "0"
      ]
     },
     "execution_count": 26,
     "metadata": {},
     "output_type": "execute_result"
    }
   ],
   "source": [
    "os.system(\"touch mynewfile\")"
   ]
  },
  {
   "cell_type": "code",
   "execution_count": 28,
   "metadata": {
    "collapsed": false
   },
   "outputs": [
    {
     "ename": "NotADirectoryError",
     "evalue": "[Errno 20] Not a directory: 'mynewfile'",
     "output_type": "error",
     "traceback": [
      "\u001b[0;31m---------------------------------------------------------------------------\u001b[0m",
      "\u001b[0;31mNotADirectoryError\u001b[0m                        Traceback (most recent call last)",
      "\u001b[0;32m<ipython-input-28-e9d6792e2aea>\u001b[0m in \u001b[0;36m<module>\u001b[0;34m()\u001b[0m\n\u001b[0;32m----> 1\u001b[0;31m \u001b[0mos\u001b[0m\u001b[0;34m.\u001b[0m\u001b[0mlistdir\u001b[0m\u001b[0;34m(\u001b[0m\u001b[0;34m\"mynewfile\"\u001b[0m\u001b[0;34m)\u001b[0m\u001b[0;34m\u001b[0m\u001b[0m\n\u001b[0m",
      "\u001b[0;31mNotADirectoryError\u001b[0m: [Errno 20] Not a directory: 'mynewfile'"
     ]
    }
   ],
   "source": [
    "os.listdir(os.getcwd())"
   ]
  },
  {
   "cell_type": "code",
   "execution_count": null,
   "metadata": {
    "collapsed": true
   },
   "outputs": [],
   "source": []
  },
  {
   "cell_type": "code",
   "execution_count": null,
   "metadata": {
    "collapsed": true
   },
   "outputs": [],
   "source": []
  },
  {
   "cell_type": "markdown",
   "metadata": {},
   "source": [
    "# "
   ]
  },
  {
   "cell_type": "markdown",
   "metadata": {},
   "source": [
    "# File IO\n",
    "\n",
    "This is a very broad topic. Every third-party Python library has their own IO modules.\n",
    "Let us quickly look at how to read plain text, CSV and JSON files here and briefly talk about serialization and binary file formats.\n",
    "\n",
    "## Reading text files \n",
    "\n",
    "insert image"
   ]
  },
  {
   "cell_type": "code",
   "execution_count": 61,
   "metadata": {
    "collapsed": false
   },
   "outputs": [
    {
     "data": {
      "text/plain": [
       "'This is an example text file.\\n'"
      ]
     },
     "execution_count": 61,
     "metadata": {},
     "output_type": "execute_result"
    }
   ],
   "source": [
    "myfile = open(\"files/example.txt\", mode=\"rt\", encoding=\"utf-8\")\n",
    "myfile.readline()"
   ]
  },
  {
   "cell_type": "code",
   "execution_count": 62,
   "metadata": {
    "collapsed": false
   },
   "outputs": [
    {
     "data": {
      "text/plain": [
       "'\\n'"
      ]
     },
     "execution_count": 62,
     "metadata": {},
     "output_type": "execute_result"
    }
   ],
   "source": [
    "myfile.readline()"
   ]
  },
  {
   "cell_type": "code",
   "execution_count": 63,
   "metadata": {
    "collapsed": false
   },
   "outputs": [
    {
     "data": {
      "text/plain": [
       "'It contains three lines.\\n'"
      ]
     },
     "execution_count": 63,
     "metadata": {},
     "output_type": "execute_result"
    }
   ],
   "source": [
    "myfile.readline()"
   ]
  },
  {
   "cell_type": "code",
   "execution_count": 64,
   "metadata": {
    "collapsed": false
   },
   "outputs": [
    {
     "data": {
      "text/plain": [
       "'This is an example text file.\\n'"
      ]
     },
     "execution_count": 64,
     "metadata": {},
     "output_type": "execute_result"
    }
   ],
   "source": [
    "myfile.seek(0)\n",
    "myfile.readline()"
   ]
  },
  {
   "cell_type": "markdown",
   "metadata": {},
   "source": [
    "Read fixed number of characters:"
   ]
  },
  {
   "cell_type": "code",
   "execution_count": 67,
   "metadata": {
    "collapsed": false
   },
   "outputs": [
    {
     "data": {
      "text/plain": [
       "'This is an example t'"
      ]
     },
     "execution_count": 67,
     "metadata": {},
     "output_type": "execute_result"
    }
   ],
   "source": [
    "myfile.seek(0)\n",
    "myfile.read(20)"
   ]
  },
  {
   "cell_type": "markdown",
   "metadata": {},
   "source": [
    "Files support an iterator protocol:"
   ]
  },
  {
   "cell_type": "code",
   "execution_count": 60,
   "metadata": {
    "collapsed": false
   },
   "outputs": [
    {
     "name": "stdout",
     "output_type": "stream",
     "text": [
      "This is an example text file.\n",
      "\n",
      "\n",
      "\n",
      "It contains three lines.\n",
      "\n",
      "\n",
      "\n",
      "Maybe four.\n",
      "\n",
      "\n",
      "\n",
      "Four, definitely four.\n",
      "\n"
     ]
    }
   ],
   "source": [
    "myfile = open(\"files/example.txt\", mode=\"rt\", encoding=\"utf-8\")\n",
    "for line in myfile :\n",
    "    print(line)"
   ]
  },
  {
   "cell_type": "code",
   "execution_count": 69,
   "metadata": {
    "collapsed": false
   },
   "outputs": [
    {
     "name": "stdout",
     "output_type": "stream",
     "text": [
      "This is an example text file.\n",
      "\n",
      "\n",
      "\n",
      "It contains three lines.\n",
      "\n",
      "\n",
      "\n",
      "Maybe four.\n",
      "\n",
      "\n",
      "\n",
      "Four, definitely four.\n",
      "\n"
     ]
    },
    {
     "data": {
      "text/plain": [
       "0"
      ]
     },
     "execution_count": 69,
     "metadata": {},
     "output_type": "execute_result"
    }
   ],
   "source": [
    "myfile = open(\"files/example.txt\", mode=\"rt\", encoding=\"utf-8\")\n",
    "for line in myfile.readlines():\n",
    "    print(line)"
   ]
  },
  {
   "cell_type": "markdown",
   "metadata": {},
   "source": [
    "## Writing to text file"
   ]
  },
  {
   "cell_type": "code",
   "execution_count": 77,
   "metadata": {
    "collapsed": false
   },
   "outputs": [
    {
     "name": "stdout",
     "output_type": "stream",
     "text": [
      "First lineSecond lineThird line"
     ]
    }
   ],
   "source": [
    "import sys\n",
    "mynewfile = open(\"files/new_example.txt\",mode=\"wt\",encoding=\"utf-8\")\n",
    "#mynewfile.write(\"First line\")\n",
    "#mynewfile.write(\"Second line\")\n",
    "#mynewfile.write(\"Third line\")\n",
    "\n",
    "sys.stdout.write(\"First line\")\n",
    "sys.stdout.write(\"Second line\")\n",
    "sys.stdout.write(\"Third line\")\n",
    "mynewfile.close()"
   ]
  },
  {
   "cell_type": "code",
   "execution_count": 76,
   "metadata": {
    "collapsed": false
   },
   "outputs": [],
   "source": [
    "mynewfile = open(\"files/new_example.txt\",mode=\"rt\",encoding=\"utf-8\")\n",
    "for line in mynewfile.readlines():\n",
    "    print(line)"
   ]
  },
  {
   "cell_type": "markdown",
   "metadata": {},
   "source": [
    "## CSV files\n",
    "\n",
    "CSV are actually plain text files also, they just have structure. Typically, when you work with CSV files - think you should be using Pandas third party library. We will talk about later in the course, but here I would just like to show how to read CSV files with a standard IO\n",
    "\n",
    "https://docs.python.org/2/library/csv.html"
   ]
  },
  {
   "cell_type": "code",
   "execution_count": null,
   "metadata": {
    "collapsed": true
   },
   "outputs": [],
   "source": []
  },
  {
   "cell_type": "code",
   "execution_count": null,
   "metadata": {
    "collapsed": true
   },
   "outputs": [],
   "source": []
  },
  {
   "cell_type": "markdown",
   "metadata": {},
   "source": [
    "## JSON files\n",
    "\n",
    "Finally, the JSON. JSON stands for Java Standard Object Notation and it is a semi-structured data format.\n",
    "\n",
    "Note also, that file objects support context manager \"with\". Which opens and closes the file for us."
   ]
  },
  {
   "cell_type": "code",
   "execution_count": 34,
   "metadata": {
    "collapsed": false
   },
   "outputs": [
    {
     "name": "stdout",
     "output_type": "stream",
     "text": [
      "{'$schema': 'http://json-schema.org/draft-04/schema#',\n",
      " 'definitions': {'authReq': {'properties': {'realms': {'items': {'type': 'string'},\n",
      "                                                       'type': 'array'},\n",
      "                                            'scheme': {'type': 'string'}},\n",
      "                             'required': ['scheme'],\n",
      "                             'type': 'object'},\n",
      "                 'hints': {'description': 'A resource hint',\n",
      "                           'properties': {'accept-patch': {'$ref': '#/definitions/mediaTypeArray',\n",
      "                                                           'notes': ['spec '\n",
      "                                                                     'says '\n",
      "                                                                     'PATCH '\n",
      "                                                                     'should '\n",
      "                                                                     'be '\n",
      "                                                                     'present '\n",
      "                                                                     'in '\n",
      "                                                                     '\"allow\", '\n",
      "                                                                     'cannot '\n",
      "                                                                     'enforce']},\n",
      "                                          'accept-post': {'$ref': '#/definitions/mediaTypeArray',\n",
      "                                                          'notes': ['spec says '\n",
      "                                                                    'POST '\n",
      "                                                                    'should be '\n",
      "                                                                    'present '\n",
      "                                                                    'in '\n",
      "                                                                    '\"allow\", '\n",
      "                                                                    'cannot '\n",
      "                                                                    'enforce']},\n",
      "                                          'accept-put': {'$ref': '#/definitions/mediaTypeArray',\n",
      "                                                         'notes': ['spec says '\n",
      "                                                                   'PUT should '\n",
      "                                                                   'be present '\n",
      "                                                                   'in '\n",
      "                                                                   '\"allow\", '\n",
      "                                                                   'cannot '\n",
      "                                                                   'enforce']},\n",
      "                                          'accept-ranges': {'items': {'type': 'string'},\n",
      "                                                            'minItems': 1,\n",
      "                                                            'note': ['TODO, '\n",
      "                                                                     'see '\n",
      "                                                                     'http://tools.ietf.org/html/draft-ietf-httpbis-p5-range-22'],\n",
      "                                                            'type': 'array',\n",
      "                                                            'uniqueItems': True},\n",
      "                                          'allow': {'description': 'a list of '\n",
      "                                                                   'HTTP '\n",
      "                                                                   'methods',\n",
      "                                                    'items': {'type': 'string'},\n",
      "                                                    'minItems': 1,\n",
      "                                                    'notes': ['Not said '\n",
      "                                                              'whether '\n",
      "                                                              'elements should '\n",
      "                                                              'be unique, '\n",
      "                                                              'assuming they '\n",
      "                                                              'must',\n",
      "                                                              'Not said '\n",
      "                                                              'whether there '\n",
      "                                                              'should be at '\n",
      "                                                              'least one '\n",
      "                                                              'element, '\n",
      "                                                              'assuming there '\n",
      "                                                              'must be'],\n",
      "                                                    'type': 'array',\n",
      "                                                    'uniqueItems': True},\n",
      "                                          'auth-req': {'items': {'$ref': '#/definitions/authReq'},\n",
      "                                                       'minItems': 1,\n",
      "                                                       'note': ['see '\n",
      "                                                                'http://tools.ietf.org/html/draft-ietf-httpbis-p7-auth-22',\n",
      "                                                                'Not said '\n",
      "                                                                'whether '\n",
      "                                                                'elements '\n",
      "                                                                'should be '\n",
      "                                                                'unique, '\n",
      "                                                                'assuming they '\n",
      "                                                                'must',\n",
      "                                                                'Not said '\n",
      "                                                                'whether there '\n",
      "                                                                'should be at '\n",
      "                                                                'least one '\n",
      "                                                                'element, '\n",
      "                                                                'assuming '\n",
      "                                                                'there must '\n",
      "                                                                'be'],\n",
      "                                                       'type': 'array',\n",
      "                                                       'uniqueItems': True},\n",
      "                                          'docs': {'format': 'uri',\n",
      "                                                   'note': ['spec says URI '\n",
      "                                                            'must be absolute, '\n",
      "                                                            'cannot enforce '\n",
      "                                                            'that'],\n",
      "                                                   'type': 'string'},\n",
      "                                          'precondition-req': {'items': {'enum': ['etag',\n",
      "                                                                                  'last-modified']},\n",
      "                                                               'minItems': 1,\n",
      "                                                               'note': ['see '\n",
      "                                                                        'http://tools.ietf.org/html/draft-ietf-httpbis-p4-conditional-22'],\n",
      "                                                               'type': 'array',\n",
      "                                                               'uniqueItems': True},\n",
      "                                          'prefer': {'items': {'type': 'string'},\n",
      "                                                     'minItems': 1,\n",
      "                                                     'note': ['TODO, see '\n",
      "                                                              'http://tools.ietf.org/html/draft-snell-http-prefer-18'],\n",
      "                                                     'type': 'array',\n",
      "                                                     'uniqueItems': True},\n",
      "                                          'representations': {'$ref': '#/definitions/mediaTypeArray'},\n",
      "                                          'status': {'enum': ['deprecated',\n",
      "                                                              'gone']}},\n",
      "                           'type': 'object'},\n",
      "                 'href': {'additionalProperties': False,\n",
      "                          'description': 'a href resource',\n",
      "                          'notes': ['are additional properties allowed? Not '\n",
      "                                    'said, here they are not'],\n",
      "                          'properties': {'hints': {'$ref': '#/definitions/hints'},\n",
      "                                         'href': {'format': 'uri',\n",
      "                                                  'type': 'string'}},\n",
      "                          'required': ['href']},\n",
      "                 'hrefTemplate': {'additionalProperties': False,\n",
      "                                  'description': 'a href template resource',\n",
      "                                  'notes': ['are additional properties '\n",
      "                                            'allowed? Not said, here they are '\n",
      "                                            'not'],\n",
      "                                  'properties': {'hints': {'$ref': '#/definitions/hints'},\n",
      "                                                 'href-template': {'format': 'uri-template',\n",
      "                                                                   'note': ['must '\n",
      "                                                                            'be '\n",
      "                                                                            'a '\n",
      "                                                                            'URI '\n",
      "                                                                            'template, '\n",
      "                                                                            'format '\n",
      "                                                                            'below '\n",
      "                                                                            'is '\n",
      "                                                                            'not '\n",
      "                                                                            'defined'],\n",
      "                                                                   'type': 'string'},\n",
      "                                                 'href-vars': {'additionalProperties': {'additionalProperties': {'type': 'string'},\n",
      "                                                                                        'items': {'type': 'string'},\n",
      "                                                                                        'note': ['supposedly '\n",
      "                                                                                                 'what '\n",
      "                                                                                                 'RFC '\n",
      "                                                                                                 '6570 '\n",
      "                                                                                                 'allows'],\n",
      "                                                                                        'type': ['string',\n",
      "                                                                                                 'array',\n",
      "                                                                                                 'object']},\n",
      "                                                               'type': 'object'}},\n",
      "                                  'required': ['href-template', 'href-vars']},\n",
      "                 'mediaTypeArray': {'description': 'an array of media types',\n",
      "                                    'items': {'format': 'media-type',\n",
      "                                              'type': 'string'},\n",
      "                                    'minItems': 1,\n",
      "                                    'notes': ['media-type format attribute '\n",
      "                                              'does not exist',\n",
      "                                              'Not said whether elements '\n",
      "                                              'should be unique, assuming they '\n",
      "                                              'must',\n",
      "                                              'Not said whether there should '\n",
      "                                              'be at least one element, '\n",
      "                                              'assuming there must be'],\n",
      "                                    'type': 'array',\n",
      "                                    'uniqueItems': True}},\n",
      " 'description': 'JSON Home',\n",
      " 'properties': {'resource': {'additionalItems': {'oneOf': [{'$ref': '#/definitions/href'},\n",
      "                                                           {'$ref': '#/definitions/hrefTemplate'}],\n",
      "                                                 'type': 'object'},\n",
      "                             'notes': ['member names must be URIs, but this is '\n",
      "                                       'unenforceable',\n",
      "                                       'member values must be unique, but this '\n",
      "                                       'is unenforceable'],\n",
      "                             'type': 'object'}},\n",
      " 'required': ['resources'],\n",
      " 'type': 'object'}\n"
     ]
    }
   ],
   "source": [
    "import json\n",
    "from pprint import pprint\n",
    "\n",
    "with open('files/example.json') as data_file:    \n",
    "    data = json.load(data_file)\n",
    "\n",
    "print(data)"
   ]
  },
  {
   "cell_type": "markdown",
   "metadata": {
    "collapsed": true
   },
   "source": [
    "## Pickle\n",
    "\n",
    "## HDF5"
   ]
  },
  {
   "cell_type": "code",
   "execution_count": null,
   "metadata": {
    "collapsed": true
   },
   "outputs": [],
   "source": []
  },
  {
   "cell_type": "markdown",
   "metadata": {
    "collapsed": true
   },
   "source": [
    "# Interfacing Python with compiled code, Cython\n",
    "\n",
    "There are numerous ways to do this:\n",
    "\n",
    "#### C API to Python and NumPy \n",
    "\n",
    "This is a library of C functions and variables that can be used\n",
    "to create wrapper functions that together with the targeted C code can be compiled into fast\n",
    "binary Python modules. See: https://docs.python.org/3/extending/extending.html for more information.\n",
    "\n",
    "#### ctypes module and attribute \n",
    "\n",
    "The ctypes module from the Python standard library and the\n",
    "ctypes attribute of NumPy arrays can be used to create a Python wrapper for an existing\n",
    "dynamically-loaded library written in C.\n",
    "\n",
    "#### Cython \n",
    "\n",
    "This facilitates the writing of C extensions for Python.\n",
    "weave This allows the inclusion of C code in Python programs.\n",
    "\n",
    "#### SWIG \n",
    "\n",
    "This automates the process of writing wrappers in C for C functions. SWIG is easy to\n",
    "use if the argument list is to be limited to builtin Python types but can be cumbersome if\n",
    "efficient conversion to NumPy arrays is desired. The difficulty is due to the need to match\n",
    "C array parameters to predefined patterns in the numpy.\n",
    "\n",
    "#### f2py \n",
    "\n",
    "This is for interfacing to Fortran.\n",
    "See http://www.scipy.org/Topical_Software for links to some of these. Presented here is the\n",
    "use of ctypes. Unlike the use of the C API or SWIG, it permits the interface to be written in\n",
    "Python.\n",
    "\n",
    "\n",
    "\n",
    "Let us start by writing some C code. The dot product of two vectors for instance:\n",
    "\n",
    "```C\n",
    "double dot_product(double v[], double u[], int n)\n",
    "{\n",
    "    double result = 0.0;\n",
    "    for (int i = 0; i < n; i++)\n",
    "        result += v[i]*u[i];\n",
    "    return result;\n",
    "}\n",
    "```\n",
    "\n",
    "Next we compile it, and build a shared object (in the command line, not in the notebook):\n",
    "\n",
    "```bash\n",
    "gcc -c -Wall -Werror -fpic my_dot.c \n",
    "gcc -shared -o my_dot.so my_dot.o\n",
    "```\n",
    "\n",
    "The ctypes module of the Python standard library provides definitions of fundamental data types that can be passed to C programs. For example, assuming we\n"
   ]
  },
  {
   "cell_type": "code",
   "execution_count": 37,
   "metadata": {
    "collapsed": false
   },
   "outputs": [
    {
     "name": "stdout",
     "output_type": "stream",
     "text": [
      "<class 'float'>\n",
      "<class 'ctypes.c_double'>\n"
     ]
    }
   ],
   "source": [
    "import ctypes as C\n",
    "#these types would have names like C.c int and C.c double.\n",
    "#They can be used constructors, e.g.,\n",
    "x = C.c_double(2.71828)\n",
    "#for which x.value returns the Python object.\n",
    "print(type(2.71828))\n",
    "print(type(x))"
   ]
  },
  {
   "cell_type": "code",
   "execution_count": 39,
   "metadata": {
    "collapsed": false
   },
   "outputs": [
    {
     "name": "stdout",
     "output_type": "stream",
     "text": [
      "<__main__.LP_c_double object at 0x105797b70>\n",
      "c_double(2.71828)\n"
     ]
    }
   ],
   "source": [
    "#Fundamental types can be composed to get new types, e.g.,\n",
    "xp = C.POINTER(C.c_double)(); \n",
    "xp.contents = x\n",
    "print(xp)\n",
    "print(x)"
   ]
  },
  {
   "cell_type": "code",
   "execution_count": 40,
   "metadata": {
    "collapsed": true
   },
   "outputs": [],
   "source": [
    "#or simply xp = C.POINTER(C.c_double)(x) . You can change the value of x using\n",
    "xp[0] = 3.14159"
   ]
  },
  {
   "cell_type": "code",
   "execution_count": 44,
   "metadata": {
    "collapsed": false
   },
   "outputs": [
    {
     "name": "stdout",
     "output_type": "stream",
     "text": [
      "[1.0, 2.3, 4.0, 5.0]\n",
      "1.0\n"
     ]
    }
   ],
   "source": [
    "#Array types can be created by \\multiplying\" a ctype by a positive integer, e.g.,\n",
    "ylist = [1.,2.3,4.,5.]\n",
    "n = len(ylist)\n",
    "y = (C.c_double*n)()\n",
    "y[:] = ylist\n",
    "#or simply\n",
    "y = (C.c_double*n)(*ylist)\n",
    "print(ylist)\n",
    "print(y[0])"
   ]
  },
  {
   "cell_type": "markdown",
   "metadata": {},
   "source": [
    "The asterisk is a Python operator for expanding the elements of a sequence into the arguments of a\n",
    "function. Convert a C array back to a Python value or list by indexing it with an int or a slice.\n",
    "The ctypes module has a utility subpackage to assist in locating a dynamically-loaded library,\n",
    "e.g.,"
   ]
  },
  {
   "cell_type": "code",
   "execution_count": 48,
   "metadata": {
    "collapsed": false
   },
   "outputs": [
    {
     "name": "stdout",
     "output_type": "stream",
     "text": [
      "<CDLL './my_dot.so', handle 10560dd60 at 0x105094fd0>\n"
     ]
    }
   ],
   "source": [
    "import ctypes.util # an explicit import is necessary\n",
    "C.util.find_library('my_dot')\n",
    "#locates the C math library. \n",
    "#For loading a library there are constructors, e.g.,\n",
    "myDL = C.CDLL('./my_dot.so')\n",
    "print(myDL)\n",
    "#which makes my a module-like object (a CDLL object to be precise)."
   ]
  },
  {
   "cell_type": "markdown",
   "metadata": {},
   "source": [
    "Similar to a Python module, myDL has as attributes function-like objects (C function pointers to\n",
    "be precise) which have the same names as the C functions in the library, e.g., myDL.dot. These\n",
    "function-like objects themselves have an attribute restype, which must be used to declare the type\n",
    "of its result. For a C function whose result type is void, use None. \n",
    "\n",
    "Here is a full example:"
   ]
  },
  {
   "cell_type": "code",
   "execution_count": 8,
   "metadata": {
    "collapsed": false
   },
   "outputs": [
    {
     "name": "stdout",
     "output_type": "stream",
     "text": [
      "3.333333283334632e+23\n",
      "Elaspsed time:  124.00988602638245\n"
     ]
    }
   ],
   "source": [
    "import time\n",
    "start = time.time()\n",
    "\n",
    "from ctypes import CDLL, c_int, c_double\n",
    "mydot = CDLL('my_dot.so').dot_product\n",
    "def dot(vec1, vec2): # vec1, vec2 are lists\n",
    "    n = len(vec1)\n",
    "    mydot.restype = c_double\n",
    "    return mydot((c_double*n)(*vec1), (c_double*n)(*vec2), c_int(n))\n",
    "\n",
    "vec1 = [x for x in range(100000000)]\n",
    "vec2 = [x for x in range(100000000)]\n",
    "print(dot(vec1,vec2))\n",
    "end = time.time()\n",
    "print(\"Elaspsed time: \", end-start)"
   ]
  },
  {
   "cell_type": "markdown",
   "metadata": {},
   "source": [
    "The arguments should be explicitly converted to the appropriate C type. \n",
    "The result is automatically converted to a regular Python type, based on the restype attribute.\n",
    "\n",
    "**Warning.** If you use the extension .so for the name of a file, do not make its stem the same as a\n",
    ".py file in the same directory, e.g., do not have both a funcs.py and a funcs.so. One convention\n",
    "is to use funcs.py and funcs.so.\n",
    "\n",
    "\n",
    "### Repeat the same in Cython\n",
    "\n",
    "The fundamental nature of Cython can be summed up as follows: Cython is Python with C data types.\n",
    "As Cython can accept almost any valid python source file, one of the hardest things in getting started is just figuring out how to compile your extension.\n",
    "\n",
    "Here is the bare Python implementation of the dot product of two lists/vectors:"
   ]
  },
  {
   "cell_type": "code",
   "execution_count": 25,
   "metadata": {
    "collapsed": false
   },
   "outputs": [
    {
     "ename": "KeyboardInterrupt",
     "evalue": "",
     "output_type": "error",
     "traceback": [
      "\u001b[0;31m---------------------------------------------------------------------------\u001b[0m",
      "\u001b[0;31mKeyboardInterrupt\u001b[0m                         Traceback (most recent call last)",
      "\u001b[0;32m<ipython-input-25-0b9adac8d3ab>\u001b[0m in \u001b[0;36m<module>\u001b[0;34m()\u001b[0m\n\u001b[1;32m     14\u001b[0m     \u001b[0;32mreturn\u001b[0m \u001b[0mresult\u001b[0m\u001b[0;34m\u001b[0m\u001b[0m\n\u001b[1;32m     15\u001b[0m \u001b[0;34m\u001b[0m\u001b[0m\n\u001b[0;32m---> 16\u001b[0;31m \u001b[0mvec1\u001b[0m \u001b[0;34m=\u001b[0m \u001b[0;34m[\u001b[0m\u001b[0mx\u001b[0m \u001b[0;32mfor\u001b[0m \u001b[0mx\u001b[0m \u001b[0;32min\u001b[0m \u001b[0mfrange\u001b[0m\u001b[0;34m(\u001b[0m\u001b[0;36m0\u001b[0m\u001b[0;34m,\u001b[0m\u001b[0;36m100000000\u001b[0m\u001b[0;34m,\u001b[0m\u001b[0;36m1\u001b[0m\u001b[0;34m)\u001b[0m\u001b[0;34m]\u001b[0m\u001b[0;34m\u001b[0m\u001b[0m\n\u001b[0m\u001b[1;32m     17\u001b[0m \u001b[0mvec2\u001b[0m \u001b[0;34m=\u001b[0m \u001b[0;34m[\u001b[0m\u001b[0mx\u001b[0m \u001b[0;32mfor\u001b[0m \u001b[0mx\u001b[0m \u001b[0;32min\u001b[0m \u001b[0mfrange\u001b[0m\u001b[0;34m(\u001b[0m\u001b[0;36m0\u001b[0m\u001b[0;34m,\u001b[0m\u001b[0;36m100000000\u001b[0m\u001b[0;34m,\u001b[0m\u001b[0;36m1\u001b[0m\u001b[0;34m)\u001b[0m\u001b[0;34m]\u001b[0m\u001b[0;34m\u001b[0m\u001b[0m\n\u001b[1;32m     18\u001b[0m \u001b[0mprint\u001b[0m\u001b[0;34m(\u001b[0m\u001b[0mdot_product\u001b[0m\u001b[0;34m(\u001b[0m\u001b[0mvec1\u001b[0m\u001b[0;34m,\u001b[0m\u001b[0mvec2\u001b[0m\u001b[0;34m)\u001b[0m\u001b[0;34m)\u001b[0m\u001b[0;34m\u001b[0m\u001b[0m\n",
      "\u001b[0;32m<ipython-input-25-0b9adac8d3ab>\u001b[0m in \u001b[0;36m<listcomp>\u001b[0;34m(.0)\u001b[0m\n\u001b[1;32m     14\u001b[0m     \u001b[0;32mreturn\u001b[0m \u001b[0mresult\u001b[0m\u001b[0;34m\u001b[0m\u001b[0m\n\u001b[1;32m     15\u001b[0m \u001b[0;34m\u001b[0m\u001b[0m\n\u001b[0;32m---> 16\u001b[0;31m \u001b[0mvec1\u001b[0m \u001b[0;34m=\u001b[0m \u001b[0;34m[\u001b[0m\u001b[0mx\u001b[0m \u001b[0;32mfor\u001b[0m \u001b[0mx\u001b[0m \u001b[0;32min\u001b[0m \u001b[0mfrange\u001b[0m\u001b[0;34m(\u001b[0m\u001b[0;36m0\u001b[0m\u001b[0;34m,\u001b[0m\u001b[0;36m100000000\u001b[0m\u001b[0;34m,\u001b[0m\u001b[0;36m1\u001b[0m\u001b[0;34m)\u001b[0m\u001b[0;34m]\u001b[0m\u001b[0;34m\u001b[0m\u001b[0m\n\u001b[0m\u001b[1;32m     17\u001b[0m \u001b[0mvec2\u001b[0m \u001b[0;34m=\u001b[0m \u001b[0;34m[\u001b[0m\u001b[0mx\u001b[0m \u001b[0;32mfor\u001b[0m \u001b[0mx\u001b[0m \u001b[0;32min\u001b[0m \u001b[0mfrange\u001b[0m\u001b[0;34m(\u001b[0m\u001b[0;36m0\u001b[0m\u001b[0;34m,\u001b[0m\u001b[0;36m100000000\u001b[0m\u001b[0;34m,\u001b[0m\u001b[0;36m1\u001b[0m\u001b[0;34m)\u001b[0m\u001b[0;34m]\u001b[0m\u001b[0;34m\u001b[0m\u001b[0m\n\u001b[1;32m     18\u001b[0m \u001b[0mprint\u001b[0m\u001b[0;34m(\u001b[0m\u001b[0mdot_product\u001b[0m\u001b[0;34m(\u001b[0m\u001b[0mvec1\u001b[0m\u001b[0;34m,\u001b[0m\u001b[0mvec2\u001b[0m\u001b[0;34m)\u001b[0m\u001b[0;34m)\u001b[0m\u001b[0;34m\u001b[0m\u001b[0m\n",
      "\u001b[0;31mKeyboardInterrupt\u001b[0m: "
     ]
    }
   ],
   "source": [
    "start = time.time()\n",
    "\n",
    "#def frange(x, y, jump):\n",
    "#    while x < y:\n",
    "#        yield x\n",
    "#    x += jump\n",
    "       \n",
    "def dot_product(vec1,vec2):\n",
    "    result = 0.0\n",
    "    n = len(vec1)\n",
    "    for i in range(n):\n",
    "        result += vec1[i]*vec2[i]\n",
    "    return result\n",
    "\n",
    "vec1 = [x for x in range(100000000)]\n",
    "vec2 = [x for x in range(100000000)]\n",
    "print(dot_product(vec1,vec2))\n",
    "end = time.time()\n",
    "print(\"Elaspsed time: \", end-start)"
   ]
  },
  {
   "cell_type": "markdown",
   "metadata": {},
   "source": [
    "Let us take the dot_product function and put it in the .pyx file:\n",
    "\n",
    "```python\n",
    "cimport cython\n",
    "\n",
    "\n",
    "@cython.boundscheck(False) # Will not check indexing, so ensure indices are valid and non-negative\n",
    "@cython.wraparound(False) # Will not allow negative indexing\n",
    "@cython.cdivision(True) # Will not check for division by zero\n",
    "def dot_product(vec1,vec2):\n",
    "    cdef float result = 0.0\n",
    "    cdef unsigned int n = len(vec1)\n",
    "\n",
    "    for i in range(n):\n",
    "        result += vec1[i]*vec2[i]\n",
    "\n",
    "    return result\n",
    "```\n",
    "\n",
    "We would need a setup file in addition to that:\n",
    "\n",
    "```python\n",
    "from distutils.core import setup\n",
    "from Cython.Build import cythonize\n",
    "\n",
    "setup(\n",
    "  name = 'my dot',\n",
    "  ext_modules = cythonize(\"cython_dot.pyx\")\n",
    ")\n",
    "```\n",
    "\n",
    "save it in cython_setup.py file and build:\n",
    "\n",
    "```bash\n",
    "python cython_setup.py build_ext --inplace\n",
    "```\n",
    "\n",
    "you will now see the .so file appear in your folder."
   ]
  },
  {
   "cell_type": "code",
   "execution_count": 18,
   "metadata": {
    "collapsed": false
   },
   "outputs": [
    {
     "name": "stdout",
     "output_type": "stream",
     "text": [
      "2.4287628162912635e+23\n",
      "Elaspsed time:  51.588934898376465\n"
     ]
    }
   ],
   "source": [
    "start = time.time()\n",
    "from cython_dot import dot_product\n",
    "vec1 = [x for x in range(100000000)]\n",
    "vec2 = [x for x in range(100000000)]\n",
    "print(dot_product(vec1,vec2))\n",
    "end = time.time()\n",
    "print(\"Elaspsed time: \", end-start)"
   ]
  },
  {
   "cell_type": "markdown",
   "metadata": {
    "collapsed": true
   },
   "source": [
    "How can we make Cython implementation even faster? use less python's generic data structures and more numpy arrays!\n",
    "Change the cython_dot.pyx file to look like:\n",
    "\n",
    "```python\n",
    "cimport cython\n",
    "import numpy as np\n",
    "cimport numpy as np\n",
    "\n",
    "DTYPE = np.float64\n",
    "ctypedef np.float64_t DTYPE_t\n",
    "\n",
    "@cython.boundscheck(False) # Will not check indexing, so ensure indices are valid and non-negative\n",
    "@cython.wraparound(False) # Will not allow negative indexing\n",
    "@cython.cdivision(True) # Will not check for division by zero\n",
    "def dot_product(np.ndarray[DTYPE_t, ndim=1] vec1, np.ndarray[DTYPE_t, ndim=1] vec2):\n",
    "    cdef float result = 0.0\n",
    "    cdef unsigned int i\n",
    "    cdef unsigned int n = vec1.shape[0]\n",
    "\n",
    "    for i in range(n):\n",
    "        result += vec1[i]*vec2[i]\n",
    "\n",
    "    return result\n",
    "```   \n",
    "\n",
    "and change the cython_setup.py to looks like this:\n",
    "\n",
    "```python\n",
    "#!/usr/bin/env python3\n",
    "\n",
    "from distutils.core import setup\n",
    "from Cython.Build import cythonize\n",
    "import numpy as np\n",
    "\n",
    "setup(\n",
    "  name = 'my dot',\n",
    "  ext_modules = cythonize(\"cython_dot2.pyx\"),\n",
    "  include_dirs = [np.get_include()]\n",
    ")\n",
    "```\n",
    "\n",
    "rebuild the shared object, and rerun:"
   ]
  },
  {
   "cell_type": "code",
   "execution_count": 26,
   "metadata": {
    "collapsed": false
   },
   "outputs": [
    {
     "name": "stdout",
     "output_type": "stream",
     "text": [
      "2.4287628162912635e+23\n",
      "Elaspsed time:  8.972913026809692\n"
     ]
    }
   ],
   "source": [
    "start = time.time()\n",
    "import numpy as np\n",
    "from cython_dot2 import dot_product\n",
    "vec1 = np.arange(100000000,dtype=float)\n",
    "vec2 = np.arange(100000000,dtype=float)\n",
    "print(dot_product(vec1,vec2))\n",
    "end = time.time()\n",
    "print(\"Elaspsed time: \", end-start)"
   ]
  },
  {
   "cell_type": "code",
   "execution_count": 27,
   "metadata": {
    "collapsed": false
   },
   "outputs": [
    {
     "name": "stdout",
     "output_type": "stream",
     "text": [
      "2.4287628162912635e+23\n",
      "Elaspsed time:  0.9875469207763672\n"
     ]
    }
   ],
   "source": [
    "#no recompile with fast math and O3\n",
    "\n",
    "start = time.time()\n",
    "import numpy as np\n",
    "from cython_dot2 import dot_product\n",
    "vec1 = np.arange(100000000,dtype=float)\n",
    "vec2 = np.arange(100000000,dtype=float)\n",
    "print(dot_product(vec1,vec2))\n",
    "end = time.time()\n",
    "print(\"Elaspsed time: \", end-start)"
   ]
  },
  {
   "cell_type": "markdown",
   "metadata": {},
   "source": [
    "Finally, try with OpenMP\n",
    "https://clang-omp.github.io"
   ]
  },
  {
   "cell_type": "code",
   "execution_count": null,
   "metadata": {
    "collapsed": true
   },
   "outputs": [],
   "source": []
  },
  {
   "cell_type": "markdown",
   "metadata": {},
   "source": [
    "# Parallel computing with Python\n",
    "\n",
    "https://docs.python.org/2/library/multiprocessing.html\n",
    "\n",
    "We have seen how one can use OpenMP and shared memory programming to parallelized python code (well, Cython).\n",
    "\n",
    "## Multiprocessing library\n",
    "The **multiprocessing** package offers both local and remote concurrency, effectively side-stepping the Global Interpreter Lock by using subprocesses instead of threads. Due to this, the multiprocessing module allows the programmer to fully leverage multiple processors on a given machine. It runs on both Unix and Windows.\n",
    "\n",
    "### Pool class\n",
    "\n",
    "This basic example of data parallelism is using the Pool:"
   ]
  },
  {
   "cell_type": "code",
   "execution_count": 83,
   "metadata": {
    "collapsed": false
   },
   "outputs": [
    {
     "name": "stdout",
     "output_type": "stream",
     "text": [
      "[1, 4, 9]\n",
      "4\n"
     ]
    }
   ],
   "source": [
    "import multiprocessing as mp\n",
    "\n",
    "def f(x):\n",
    "    return x*x\n",
    "\n",
    "if __name__ == '__main__':\n",
    "    p = mp.Pool(5)\n",
    "    print(p.map(f, [1, 2, 3]))\n",
    "    #print(mp.cpu_count())"
   ]
  },
  {
   "cell_type": "markdown",
   "metadata": {},
   "source": [
    "### Process class\n",
    "\n",
    "In multiprocessing, processes are spawned by creating a Process object and then calling its start() method. Process follows the API of threading.Thread. A trivial example of a multiprocess program is:"
   ]
  },
  {
   "cell_type": "code",
   "execution_count": 85,
   "metadata": {
    "collapsed": false
   },
   "outputs": [
    {
     "name": "stdout",
     "output_type": "stream",
     "text": [
      "hello bob\n"
     ]
    }
   ],
   "source": [
    "from multiprocessing import Process\n",
    "\n",
    "def f(name):\n",
    "    print('hello', name)\n",
    "\n",
    "if __name__ == '__main__':\n",
    "    p = Process(target=f, args=('bob',))\n",
    "    p.start()\n",
    "    p.join()"
   ]
  },
  {
   "cell_type": "markdown",
   "metadata": {},
   "source": [
    "To show the individual process IDs involved, here is an expanded example:\n",
    "\n"
   ]
  },
  {
   "cell_type": "code",
   "execution_count": 90,
   "metadata": {
    "collapsed": false
   },
   "outputs": [
    {
     "name": "stdout",
     "output_type": "stream",
     "text": [
      "main line\n",
      "module name: __main__\n",
      "parent process: 29401\n",
      "process id: 29411\n",
      "function f\n",
      "module name: __main__\n",
      "parent process: 29411\n",
      "process id: 33018\n",
      "hello bob\n"
     ]
    }
   ],
   "source": [
    "from multiprocessing import Process\n",
    "import os\n",
    "\n",
    "def info(title):\n",
    "    print(title)\n",
    "    print('module name:', __name__)\n",
    "    if hasattr(os, 'getppid'):  # only available on Unix\n",
    "        print('parent process:', os.getppid())\n",
    "    print('process id:', os.getpid())\n",
    "\n",
    "def f(name):\n",
    "    info('function f')\n",
    "    print('hello', name)\n",
    "\n",
    "if __name__ == '__main__':\n",
    "    info('main line')\n",
    "    p = Process(target=f, args=('bob',))\n",
    "    p.start()\n",
    "    p.join()"
   ]
  },
  {
   "cell_type": "markdown",
   "metadata": {},
   "source": [
    "## Joblib library\n",
    "\n",
    "https://pythonhosted.org/joblib/\n",
    "\n",
    "Let us go back to our dot poroduct example, and we will assume that we need to perfrom this to a list of vectors."
   ]
  },
  {
   "cell_type": "code",
   "execution_count": 92,
   "metadata": {
    "collapsed": false
   },
   "outputs": [
    {
     "name": "stdout",
     "output_type": "stream",
     "text": [
      "10\n",
      "Elaspsed time:  10.794227838516235\n"
     ]
    }
   ],
   "source": [
    "start = time.time()\n",
    "import numpy as np\n",
    "from cython_dot2 import dot_product\n",
    "\n",
    "Nvectors = 10\n",
    "results = list()\n",
    "\n",
    "for round in range(Nvectors):\n",
    "    vec1 = np.arange(100000000,dtype=float)\n",
    "    vec2 = np.arange(100000000,dtype=float)\n",
    "    results.append(dot_product(vec1,vec2))\n",
    "\n",
    "print(len(results))    \n",
    "end = time.time()\n",
    "print(\"Elaspsed time: \", end-start)"
   ]
  },
  {
   "cell_type": "code",
   "execution_count": 101,
   "metadata": {
    "collapsed": false
   },
   "outputs": [
    {
     "name": "stdout",
     "output_type": "stream",
     "text": [
      "Running on  2  CPU cores\n",
      "10\n",
      "Elaspsed time:  5.442961931228638\n"
     ]
    }
   ],
   "source": [
    "start = time.time()\n",
    "from joblib import Parallel, delayed  \n",
    "import multiprocessing\n",
    "import numpy as np\n",
    "from cython_dot2 import dot_product\n",
    "\n",
    "num_cores = 2 #multiprocessing.cpu_count()-1\n",
    "print(\"Running on \", num_cores, \" CPU cores\")\n",
    "\n",
    "Nvectors = 10\n",
    "results = list()\n",
    "\n",
    "def getProduct():\n",
    "    vec1 = np.arange(100000000,dtype=float)\n",
    "    vec2 = np.arange(100000000,dtype=float)\n",
    "    return dot_product(vec1,vec2)\n",
    "\n",
    "results = Parallel(n_jobs=num_cores)(delayed(getProduct)() for i in range(Nvectors))  \n",
    "\n",
    "print(len(results))    \n",
    "end = time.time()\n",
    "print(\"Elaspsed time: \", end-start)"
   ]
  },
  {
   "cell_type": "markdown",
   "metadata": {},
   "source": [
    "# Exception handling\n",
    "\n",
    "https://docs.python.org/2/tutorial/errors.html\n",
    "\n",
    "There is a difference between syntax errors and exceptions.\n",
    "Here, is an example of a syntax error:"
   ]
  },
  {
   "cell_type": "code",
   "execution_count": 28,
   "metadata": {
    "collapsed": false
   },
   "outputs": [
    {
     "ename": "SyntaxError",
     "evalue": "Missing parentheses in call to 'print' (<ipython-input-28-3c090b498326>, line 1)",
     "output_type": "error",
     "traceback": [
      "\u001b[0;36m  File \u001b[0;32m\"<ipython-input-28-3c090b498326>\"\u001b[0;36m, line \u001b[0;32m1\u001b[0m\n\u001b[0;31m    print \"Hello world\"\u001b[0m\n\u001b[0m                      ^\u001b[0m\n\u001b[0;31mSyntaxError\u001b[0m\u001b[0;31m:\u001b[0m Missing parentheses in call to 'print'\n"
     ]
    }
   ],
   "source": [
    "print \"Hello world\""
   ]
  },
  {
   "cell_type": "markdown",
   "metadata": {},
   "source": [
    "No need to handle this exception, just need to fix it.\n",
    "\n",
    "Let us consider a very simple example of a function, which takes an argument and converts it to integter:"
   ]
  },
  {
   "cell_type": "code",
   "execution_count": 52,
   "metadata": {
    "collapsed": true
   },
   "outputs": [],
   "source": [
    "def convert(x):\n",
    "    return int(x)    "
   ]
  },
  {
   "cell_type": "markdown",
   "metadata": {},
   "source": [
    "Clearly, all numeric types are OK:"
   ]
  },
  {
   "cell_type": "code",
   "execution_count": 47,
   "metadata": {
    "collapsed": false
   },
   "outputs": [
    {
     "data": {
      "text/plain": [
       "43"
      ]
     },
     "execution_count": 47,
     "metadata": {},
     "output_type": "execute_result"
    }
   ],
   "source": [
    "convert(43.)"
   ]
  },
  {
   "cell_type": "code",
   "execution_count": 48,
   "metadata": {
    "collapsed": false
   },
   "outputs": [
    {
     "data": {
      "text/plain": [
       "-1"
      ]
     },
     "execution_count": 48,
     "metadata": {},
     "output_type": "execute_result"
    }
   ],
   "source": [
    "convert(-1)"
   ]
  },
  {
   "cell_type": "markdown",
   "metadata": {},
   "source": [
    "Strings of number are OK too:"
   ]
  },
  {
   "cell_type": "code",
   "execution_count": 50,
   "metadata": {
    "collapsed": false
   },
   "outputs": [
    {
     "data": {
      "text/plain": [
       "43"
      ]
     },
     "execution_count": 50,
     "metadata": {},
     "output_type": "execute_result"
    }
   ],
   "source": [
    "convert(\"43\")"
   ]
  },
  {
   "cell_type": "markdown",
   "metadata": {},
   "source": [
    "Let us try some arbitrary long string:"
   ]
  },
  {
   "cell_type": "code",
   "execution_count": 53,
   "metadata": {
    "collapsed": false
   },
   "outputs": [
    {
     "ename": "ValueError",
     "evalue": "invalid literal for int() with base 10: 'Longer string'",
     "output_type": "error",
     "traceback": [
      "\u001b[0;31m---------------------------------------------------------------------------\u001b[0m",
      "\u001b[0;31mValueError\u001b[0m                                Traceback (most recent call last)",
      "\u001b[0;32m<ipython-input-53-91f6e8b3d186>\u001b[0m in \u001b[0;36m<module>\u001b[0;34m()\u001b[0m\n\u001b[0;32m----> 1\u001b[0;31m \u001b[0mconvert\u001b[0m\u001b[0;34m(\u001b[0m\u001b[0;34m\"Longer string\"\u001b[0m\u001b[0;34m)\u001b[0m\u001b[0;34m\u001b[0m\u001b[0m\n\u001b[0m",
      "\u001b[0;32m<ipython-input-52-49cfd1056462>\u001b[0m in \u001b[0;36mconvert\u001b[0;34m(x)\u001b[0m\n\u001b[1;32m      1\u001b[0m \u001b[0;32mdef\u001b[0m \u001b[0mconvert\u001b[0m\u001b[0;34m(\u001b[0m\u001b[0mx\u001b[0m\u001b[0;34m)\u001b[0m\u001b[0;34m:\u001b[0m\u001b[0;34m\u001b[0m\u001b[0m\n\u001b[0;32m----> 2\u001b[0;31m     \u001b[0;32mreturn\u001b[0m \u001b[0mint\u001b[0m\u001b[0;34m(\u001b[0m\u001b[0mx\u001b[0m\u001b[0;34m)\u001b[0m\u001b[0;34m\u001b[0m\u001b[0m\n\u001b[0m",
      "\u001b[0;31mValueError\u001b[0m: invalid literal for int() with base 10: 'Longer string'"
     ]
    }
   ],
   "source": [
    "convert(\"Longer string\")"
   ]
  },
  {
   "cell_type": "code",
   "execution_count": 43,
   "metadata": {
    "collapsed": true
   },
   "outputs": [],
   "source": [
    "def convert(x):\n",
    "    try: \n",
    "        return int(x)      \n",
    "    except (ValueError,TypeError) as e:\n",
    "        return x\n",
    "        raise\n",
    "        \n",
    "    return result    "
   ]
  },
  {
   "cell_type": "code",
   "execution_count": null,
   "metadata": {
    "collapsed": true
   },
   "outputs": [],
   "source": []
  },
  {
   "cell_type": "code",
   "execution_count": 42,
   "metadata": {
    "collapsed": false
   },
   "outputs": [
    {
     "name": "stdout",
     "output_type": "stream",
     "text": [
      "Convertion not possible\n"
     ]
    },
    {
     "data": {
      "text/plain": [
       "-1"
      ]
     },
     "execution_count": 42,
     "metadata": {},
     "output_type": "execute_result"
    }
   ],
   "source": [
    "convert([2,3,4])"
   ]
  },
  {
   "cell_type": "markdown",
   "metadata": {},
   "source": [
    "# Debugging\n",
    "\n",
    "Debugging is a very important step of Python application development. The easiest and most common way to debug among beginners is by inserting multiple print statements inside the code.\n",
    "\n",
    "Luckily, Python has a debugger, which is available as a module called **pdb** (stands for “Python DeBugger”). This is a very simple and useful tool to learn if you are writing any Python programs.\n",
    "\n",
    "Let us look at a simple (though not very meaningful) code below:"
   ]
  },
  {
   "cell_type": "code",
   "execution_count": 78,
   "metadata": {
    "collapsed": false
   },
   "outputs": [
    {
     "name": "stdout",
     "output_type": "stream",
     "text": [
      "aaabbbccc\n"
     ]
    }
   ],
   "source": [
    "# epdb1.py -- experiment with the Python debugger, pdb\n",
    "a = \"aaa\"\n",
    "b = \"bbb\"\n",
    "c = \"ccc\"\n",
    "final = a + b + c\n",
    "print(final)"
   ]
  },
  {
   "cell_type": "markdown",
   "metadata": {},
   "source": [
    "Debugging with PDB is as simple as importing the corresponding module:"
   ]
  },
  {
   "cell_type": "code",
   "execution_count": 56,
   "metadata": {
    "collapsed": true
   },
   "outputs": [],
   "source": [
    "import pdb"
   ]
  },
  {
   "cell_type": "markdown",
   "metadata": {},
   "source": [
    "Now find a spot where you would like tracing to begin, and insert the following code:"
   ]
  },
  {
   "cell_type": "code",
   "execution_count": null,
   "metadata": {
    "collapsed": true
   },
   "outputs": [],
   "source": [
    "#pdb.set_trace()"
   ]
  },
  {
   "cell_type": "markdown",
   "metadata": {},
   "source": [
    "So now our program looks like (we will copy it to the python file and run it from the command line):"
   ]
  },
  {
   "cell_type": "code",
   "execution_count": null,
   "metadata": {
    "collapsed": true
   },
   "outputs": [],
   "source": [
    "# epdb1.py -- experiment with the Python debugger, pdb\n",
    "import pdb\n",
    "a = \"aaa\"\n",
    "pdb.set_trace()\n",
    "b = \"bbb\"\n",
    "c = \"ccc\"\n",
    "final = a + b + c\n",
    "print(final)"
   ]
  },
  {
   "cell_type": "markdown",
   "metadata": {},
   "source": [
    "## Exploring the program with \"n\" command\n",
    "\n",
    "Start run the debug run by typing:\n",
    "\n",
    "```python\n",
    "python3 epdb1.py\n",
    "```\n",
    "\n",
    "Execute the next statemen with “n” (next)\n",
    "\n",
    "At the Pdb prompt, press the lower-case letter “n” (for “next”) on your keyboard, and then press the ENTER key. This will tell pdb to execute the current statement. Keep doing this — pressing “n”, then ENTER.\n",
    "\n",
    "Eventually you will come to the end of your program, and it will terminate and return you to the normal command prompt.\n",
    "\n",
    "## Repeating the last debugging command with ENTER\n",
    "\n",
    "This time, do the same thing as you did before. Start your program running. At the (Pdb) prompt, press the lower-case letter “n” (for “next”) on your keyboard, and then press the ENTER key.\n",
    "\n",
    "But this time, after the first time that you press “n” and then ENTER, don’t do it any more. Instead, when you see the (Pdb) prompt, just press ENTER. You will notice that pdb continues, just as if you had pressed “n”. \n",
    "\n",
    "**If you press ENTER without entering anything, pdb will re-execute the last command that you gave it.**\n",
    "\n",
    "In this case, the command was “n”, so you could just keep stepping through the program by pressing ENTER.\n",
    "\n",
    "Notice that as you passed the last line (the line with the “print” statement), it was executed and you saw the output of the print statement (“aaabbbccc”) displayed on your screen.\n",
    "\n",
    "## Quitting it all with “q” (quit)\n",
    "\n",
    "The debugger can do all sorts of things, some of which you may find totally mystifying. So the most important thing to learn now — before you learn anything else — is how to quit debugging.\n",
    "\n",
    "It is easy. When you see the (Pdb) prompt, just press “q” (for “quit”) and the ENTER key. Pdb will quit and you will be back at your command prompt. Try it, and see how it works.\n",
    "\n",
    "## Printing the value of variables with “p” (print)\n",
    "\n",
    "The most useful thing you can do at the (Pdb) prompt is to print the value of a variable. Here’s how to do it.\n",
    "\n",
    "When you see the (Pdb) prompt, enter “p” (for “print”) followed by the name of the variable you want to print. And of course, you end by pressing the ENTER key.\n",
    "\n",
    "Note that you can print multiple variables, by separating their names with commas (just as in a regular Python “print” statement). For example, you can print the value of the variables a, b, and c this way.\n",
    "\n",
    "\n",
    "## Seeing where you are with “l” (list)\n",
    "\n",
    "As you are debugging, there is a lot of stuff being written to the screen, and it gets really hard to get a feeling for where you are in your program. That’s where the “l” (for “list”) command comes in. \n",
    "\n",
    "“l” shows you, on the screen, the general area of your program’s souce code that you are executing. By default, it lists 11 (eleven) lines of code. The line of code that you are about to execute (the “current line”) is right in the middle, and there is a little arrow “–>” that points to it.\n",
    "\n",
    "So a typical interaction with pdb might go like this\n",
    "\n",
    "The pdb.set_trace() statement is encountered, and you start tracing with the (Pdb) prompt\n",
    "You press “n” and then ENTER, to start stepping through your code.\n",
    "You just press ENTER to step again.\n",
    "You just press ENTER to step again.\n",
    "You just press ENTER to step again. etc. etc. etc.\n",
    "Eventually, you realize that you are a bit lost. You’re not exactly sure where you are in your program any more. So…\n",
    "You press “l” and then ENTER. This lists the area of your program that is currently being executed.\n",
    "You inspect the display, get your bearings, and are ready to start again. So….\n",
    "You press “n” and then ENTER, to start stepping through your code.\n",
    "You just press ENTER to step again.\n",
    "You just press ENTER to step again. etc. etc. etc.\n",
    "\n",
    "## Stepping into subroutines… with “s” (step into)\n",
    "\n",
    "Eventually, you will need to debug larger programs — programs that use subroutines. And sometimes, the problem that you’re trying to find will lie buried in a subroutine. Consider the following program.\n",
    "\n",
    "Let us consider a more involved program:"
   ]
  },
  {
   "cell_type": "code",
   "execution_count": 79,
   "metadata": {
    "collapsed": false
   },
   "outputs": [
    {
     "name": "stdout",
     "output_type": "stream",
     "text": [
      "--Return--\n",
      "> <ipython-input-79-508ded407db0>(10)<module>()->None\n",
      "-> pdb.set_trace()\n",
      "(Pdb) q\n"
     ]
    },
    {
     "ename": "BdbQuit",
     "evalue": "",
     "output_type": "error",
     "traceback": [
      "\u001b[0;31m---------------------------------------------------------------------------\u001b[0m",
      "\u001b[0;31mBdbQuit\u001b[0m                                   Traceback (most recent call last)",
      "\u001b[0;32m<ipython-input-79-508ded407db0>\u001b[0m in \u001b[0;36m<module>\u001b[0;34m()\u001b[0m\n\u001b[1;32m      8\u001b[0m \u001b[0;34m\u001b[0m\u001b[0m\n\u001b[1;32m      9\u001b[0m \u001b[0ma\u001b[0m \u001b[0;34m=\u001b[0m \u001b[0;34m\"aaa\"\u001b[0m\u001b[0;34m\u001b[0m\u001b[0m\n\u001b[0;32m---> 10\u001b[0;31m \u001b[0mpdb\u001b[0m\u001b[0;34m.\u001b[0m\u001b[0mset_trace\u001b[0m\u001b[0;34m(\u001b[0m\u001b[0;34m)\u001b[0m\u001b[0;34m\u001b[0m\u001b[0m\n\u001b[0m\u001b[1;32m     11\u001b[0m \u001b[0mb\u001b[0m \u001b[0;34m=\u001b[0m \u001b[0;34m\"bbb\"\u001b[0m\u001b[0;34m\u001b[0m\u001b[0m\n\u001b[1;32m     12\u001b[0m \u001b[0mc\u001b[0m \u001b[0;34m=\u001b[0m \u001b[0;34m\"ccc\"\u001b[0m\u001b[0;34m\u001b[0m\u001b[0m\n",
      "\u001b[0;32m/Library/Frameworks/Python.framework/Versions/3.5/lib/python3.5/bdb.py\u001b[0m in \u001b[0;36mtrace_dispatch\u001b[0;34m(self, frame, event, arg)\u001b[0m\n\u001b[1;32m     50\u001b[0m             \u001b[0;32mreturn\u001b[0m \u001b[0mself\u001b[0m\u001b[0;34m.\u001b[0m\u001b[0mdispatch_call\u001b[0m\u001b[0;34m(\u001b[0m\u001b[0mframe\u001b[0m\u001b[0;34m,\u001b[0m \u001b[0marg\u001b[0m\u001b[0;34m)\u001b[0m\u001b[0;34m\u001b[0m\u001b[0m\n\u001b[1;32m     51\u001b[0m         \u001b[0;32mif\u001b[0m \u001b[0mevent\u001b[0m \u001b[0;34m==\u001b[0m \u001b[0;34m'return'\u001b[0m\u001b[0;34m:\u001b[0m\u001b[0;34m\u001b[0m\u001b[0m\n\u001b[0;32m---> 52\u001b[0;31m             \u001b[0;32mreturn\u001b[0m \u001b[0mself\u001b[0m\u001b[0;34m.\u001b[0m\u001b[0mdispatch_return\u001b[0m\u001b[0;34m(\u001b[0m\u001b[0mframe\u001b[0m\u001b[0;34m,\u001b[0m \u001b[0marg\u001b[0m\u001b[0;34m)\u001b[0m\u001b[0;34m\u001b[0m\u001b[0m\n\u001b[0m\u001b[1;32m     53\u001b[0m         \u001b[0;32mif\u001b[0m \u001b[0mevent\u001b[0m \u001b[0;34m==\u001b[0m \u001b[0;34m'exception'\u001b[0m\u001b[0;34m:\u001b[0m\u001b[0;34m\u001b[0m\u001b[0m\n\u001b[1;32m     54\u001b[0m             \u001b[0;32mreturn\u001b[0m \u001b[0mself\u001b[0m\u001b[0;34m.\u001b[0m\u001b[0mdispatch_exception\u001b[0m\u001b[0;34m(\u001b[0m\u001b[0mframe\u001b[0m\u001b[0;34m,\u001b[0m \u001b[0marg\u001b[0m\u001b[0;34m)\u001b[0m\u001b[0;34m\u001b[0m\u001b[0m\n",
      "\u001b[0;32m/Library/Frameworks/Python.framework/Versions/3.5/lib/python3.5/bdb.py\u001b[0m in \u001b[0;36mdispatch_return\u001b[0;34m(self, frame, arg)\u001b[0m\n\u001b[1;32m     94\u001b[0m             \u001b[0;32mfinally\u001b[0m\u001b[0;34m:\u001b[0m\u001b[0;34m\u001b[0m\u001b[0m\n\u001b[1;32m     95\u001b[0m                 \u001b[0mself\u001b[0m\u001b[0;34m.\u001b[0m\u001b[0mframe_returning\u001b[0m \u001b[0;34m=\u001b[0m \u001b[0;32mNone\u001b[0m\u001b[0;34m\u001b[0m\u001b[0m\n\u001b[0;32m---> 96\u001b[0;31m             \u001b[0;32mif\u001b[0m \u001b[0mself\u001b[0m\u001b[0;34m.\u001b[0m\u001b[0mquitting\u001b[0m\u001b[0;34m:\u001b[0m \u001b[0;32mraise\u001b[0m \u001b[0mBdbQuit\u001b[0m\u001b[0;34m\u001b[0m\u001b[0m\n\u001b[0m\u001b[1;32m     97\u001b[0m             \u001b[0;31m# The user issued a 'next' or 'until' command.\u001b[0m\u001b[0;34m\u001b[0m\u001b[0;34m\u001b[0m\u001b[0m\n\u001b[1;32m     98\u001b[0m             \u001b[0;32mif\u001b[0m \u001b[0mself\u001b[0m\u001b[0;34m.\u001b[0m\u001b[0mstopframe\u001b[0m \u001b[0;32mis\u001b[0m \u001b[0mframe\u001b[0m \u001b[0;32mand\u001b[0m \u001b[0mself\u001b[0m\u001b[0;34m.\u001b[0m\u001b[0mstoplineno\u001b[0m \u001b[0;34m!=\u001b[0m \u001b[0;34m-\u001b[0m\u001b[0;36m1\u001b[0m\u001b[0;34m:\u001b[0m\u001b[0;34m\u001b[0m\u001b[0m\n",
      "\u001b[0;31mBdbQuit\u001b[0m: "
     ]
    }
   ],
   "source": [
    "# epdb2.py -- experiment with the Python debugger, pdb\n",
    "import pdb\n",
    "\n",
    "def combine(s1,s2):      # define subroutine combine, which...\n",
    "    s3 = s1 + s2 + s1    # sandwiches s2 between copies of s1, ...\n",
    "    s3 = '\"' + s3 +'\"'   # encloses it in double quotes,...\n",
    "    return s3            # and returns it.\n",
    "\n",
    "a = \"aaa\"\n",
    "pdb.set_trace()\n",
    "b = \"bbb\"\n",
    "c = \"ccc\"\n",
    "final = combine(a,b)\n",
    "print(final)"
   ]
  },
  {
   "cell_type": "markdown",
   "metadata": {},
   "source": [
    "Unlike \"n\" command which steps through your program line by line starting at the line where you have inserted the *set_trace()* statement, command \"s\" will step into functions and subroutines. Namely, if you press \"n\" on:\n",
    "```python\n",
    "final = combine(a,b)\n",
    "```\n",
    "\n",
    "it will just proceed to:\n",
    "\n",
    "```python\n",
    "print(final)\n",
    "```\n",
    "\n",
    "while \"s\" will step into the combine() function.\n",
    "\n",
    "## Continuing to the end of the current subroutine with “r” (return)\n",
    "\n",
    "When you use “s” to step into subroutines, you will often find yourself trapped in a subroutine. You have examined the code that you’re interested in, but now you have to step through a lot of uninteresting code in the subroutine.\n",
    "\n",
    "In this situation, what you’d like to be able to do is just to skip ahead to the end of the subroutine. That is, you want to do something like the “c” (“continue”) command does, but you want just to continue to the end of the subroutine, and then resume your stepping through the code.\n",
    "\n",
    "You can do it. The command to do it is “r” (for “return” or, better, “continue until return”). If you are in a subroutine and you enter the “r” command at the (Pdb) prompt, pdb will continue executing until the end of the subroutine. At that point — the point when it is ready to return to the calling routine — it will stop and show the (Pdb) prompt again, and you can resume stepping through your code."
   ]
  },
  {
   "cell_type": "code",
   "execution_count": null,
   "metadata": {
    "collapsed": true
   },
   "outputs": [],
   "source": []
  }
 ],
 "metadata": {
  "kernelspec": {
   "display_name": "Python 3",
   "language": "python",
   "name": "python3"
  },
  "language_info": {
   "codemirror_mode": {
    "name": "ipython",
    "version": 3
   },
   "file_extension": ".py",
   "mimetype": "text/x-python",
   "name": "python",
   "nbconvert_exporter": "python",
   "pygments_lexer": "ipython3",
   "version": "3.5.1"
  }
 },
 "nbformat": 4,
 "nbformat_minor": 0
}
