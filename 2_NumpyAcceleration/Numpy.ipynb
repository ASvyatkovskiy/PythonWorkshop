{
 "cells": [
  {
   "cell_type": "markdown",
   "metadata": {},
   "source": [
    "# What is NumPy\n",
    "\n",
    "Numpy is Python library for scientific computing. It’s main object is the homogeneous multidimensional array. It is a table of elements, all of the same type, indexed by a tuple of positive integers. \n",
    "\n",
    "## Why numpy arrays can accelerate your applications?\n",
    "\n",
    "A NumPy ndarray array is described by metadata: number of dimensions, shape, data type, and so on, and the actual data stored in it. The data is stored in a homogeneous and contiguous blocks of memory, at a particular address in system memory (Random Access Memory, or RAM). This is the main difference with a pure Python data structures, in which the items are scattered across the system memory. This aspect is the critical feature that makes NumPy arrays efficient.\n",
    "\n",
    "## Why is this so important? \n",
    "\n",
    "Array computations can be implemented efficiently in a low-level language like C (and a large part of NumPy is actually written in C). Knowing the address of the memory block and the data type, it is just simple arithmetic to loop over all items, for example. There would be a significant overhead to do that in Python with a list.\n",
    "\n",
    "Spatial locality in memory access patterns results in significant performance gains, notably thanks to the CPU cache. \n",
    "\n",
    "Data elements are stored contiguously in memory, so that NumPy can take advantage of vectorized instructions on modern CPUs, like Intel's SSE and AVX, AMD's XOP, and so on. \n",
    "\n",
    "NumPy can be linked to highly optimized linear algebra libraries like BLAS and LAPACK, for example through the Intel Math Kernel Library (MKL). A few specific matrix computations may also be multithreaded, taking advantage of the power of modern multicore processors.\n",
    "\n",
    "In conclusion, storing data in a contiguous blocks of memory ensures that the architecture of modern CPUs is used optimally, in terms of memory access patterns, CPU cache, and vectorized instructions.\n",
    "\n",
    "\n",
    "# Motivation\n",
    "\n",
    "* Provide a uniform interface for handling numerical structured data\n",
    "* Collect, store, and manipulate numerical data efficiently\n",
    "* Low-cost abstractions\n",
    "* Universal glue for numerical information, used in lots of external libraries! The API establishes common functions and re-appears in many other settings with the same abstractions.\n",
    "\n",
    "\n",
    "<table>\n",
    "<tr>\n",
    "<th>\n",
    "<img src=\"assets/numba.png\" alt=\"http://numba.pydata.org/\" width=\"150\"></th><th><img src=\"assets/pandas.png\" alt=\"http://pandas.pydata.org/\"  width=\"150\"> </th><th><img src=\"assets/tf.png\" alt=\"https://github.com/tensorflow/tensorflow\" width=\"150\"></th><th> <img src=\"assets/sklearn.png\" alt=\"https://github.com/scikit-learn/scikit-learn\" width=\"150\"> </th><th><img src=\"assets/stan.png\" alt=\"http://mc-stan.org/\" width=\"150\"></th>\n",
    "</tr>\n",
    "</table>"
   ]
  },
  {
   "cell_type": "markdown",
   "metadata": {},
   "source": [
    "# Why not a Python list?\n",
    "\n",
    "A list is a resizing contiguous array of pointers.\n",
    "\n",
    "<img src=\"assets/pylist.png\" alt=\"http://www.laurentluce.com/posts/python-list-implementation/\">\n",
    "\n",
    "Nested lists are even worse - there are two levels of indirection.\n",
    "\n",
    "<img src=\"assets/nestlist.png\" alt=\"http://www.cs.toronto.edu/~gpenn/csc401/401_python_web/pyseq.html\">\n",
    "\n",
    "Imagine we're trying to apply a read or write operation over these arrays on our modern CPU:\n",
    "\n",
    "<img src=\"assets/vecproc.gif\" alt=\"http://www.netlib.org/utk/papers/advanced-computers_2004_10_14/sm-simd.html\">\n",
    "\n",
    "Compare to NumPy arrays:\n",
    "\n",
    "<img src=\"assets/nparr.png\" alt=\"https://www.safaribooksonline.com/library/view/python-for-data/9781491957653/ch04.html\" width=300>\n",
    "\n",
    "**Recurring theme**: NumPy lets us have the best of both worlds (high-level Python for development, optimized representation and speed via low-level C routines for execution)"
   ]
  },
  {
   "cell_type": "code",
   "execution_count": 2,
   "metadata": {
    "collapsed": true
   },
   "outputs": [],
   "source": [
    "import numpy as np\n",
    "import time\n",
    "import gc\n",
    "import sys\n",
    "\n",
    "assert sys.maxsize > 2 ** 32, \"get a new computer!\"\n",
    "\n",
    "# Allocation-sensitive timing needs to be done more carefully\n",
    "# Compares runtimes of f1, f2\n",
    "def compare_times(f1, f2, setup1=None, setup2=None, runs=5):\n",
    "    print('    format: mean seconds (standard error)', runs, 'runs')\n",
    "    maxpad = max(len(f.__name__) for f in (f1, f2))\n",
    "    means = []\n",
    "    for setup, f in [[setup1, f1], [setup2, f2]]:\n",
    "        setup = (lambda: tuple()) if setup is None else setup\n",
    "        \n",
    "        total_times = []\n",
    "        for _ in range(runs):\n",
    "            try:\n",
    "                gc.disable()\n",
    "                args = setup()\n",
    "                \n",
    "                start = time.time()\n",
    "                if isinstance(args, tuple):\n",
    "                    f(*args)\n",
    "                else:\n",
    "                    f(args)\n",
    "                end = time.time()\n",
    "                \n",
    "                total_times.append(end - start)\n",
    "            finally:\n",
    "                gc.enable()\n",
    "                \n",
    "        mean = np.mean(total_times)\n",
    "        se = np.std(total_times) / np.sqrt(len(total_times))\n",
    "        print('    {} {:.2e} ({:.2e})'.format(f.__name__.ljust(maxpad), mean, se))\n",
    "        means.append(mean)\n",
    "    print('    improvement ratio {:.1f}'.format(means[0] / means[1]))"
   ]
  },
  {
   "cell_type": "markdown",
   "metadata": {},
   "source": [
    "### Bandwidth-limited ops\n",
    "\n",
    "* Have to pull in more cache lines for the pointers\n",
    "* Poor locality causes pipeline stalls"
   ]
  },
  {
   "cell_type": "code",
   "execution_count": 3,
   "metadata": {},
   "outputs": [
    {
     "name": "stdout",
     "output_type": "stream",
     "text": [
      "('create a list 1, 2, ...', 10000000)\n",
      "('    format: mean seconds (standard error)', 5, 'runs')\n",
      "    create_list  3.20e-01 (3.88e-02)\n",
      "    create_array 2.62e-02 (5.87e-04)\n",
      "    improvement ratio 12.2\n"
     ]
    }
   ],
   "source": [
    "size = 10 ** 7 # ints will be un-intered past 258\n",
    "print('create a list 1, 2, ...', size)\n",
    "\n",
    "\n",
    "def create_list(): return list(range(size))\n",
    "def create_array(): return np.arange(size, dtype=int)\n",
    "\n",
    "compare_times(create_list, create_array)"
   ]
  },
  {
   "cell_type": "code",
   "execution_count": 4,
   "metadata": {},
   "outputs": [
    {
     "name": "stdout",
     "output_type": "stream",
     "text": [
      "deep copies (no pre-allocation)\n",
      "('    format: mean seconds (standard error)', 5, 'runs')\n",
      "    copy_list  1.17e-01 (4.36e-03)\n",
      "    copy_array 2.91e-02 (9.12e-04)\n",
      "    improvement ratio 4.0\n"
     ]
    }
   ],
   "source": [
    "print('deep copies (no pre-allocation)') # Shallow copy is cheap for both!\n",
    "size = 10 ** 7\n",
    "\n",
    "ls = list(range(size))\n",
    "def copy_list(): return ls[:]\n",
    "\n",
    "ar = np.arange(size, dtype=int)\n",
    "def copy_array(): return np.copy(ar)\n",
    "\n",
    "compare_times(copy_list, copy_array)"
   ]
  },
  {
   "cell_type": "code",
   "execution_count": 5,
   "metadata": {},
   "outputs": [
    {
     "name": "stdout",
     "output_type": "stream",
     "text": [
      "Deep copy (pre-allocated)\n",
      "('    format: mean seconds (standard error)', 5, 'runs')\n",
      "    deep_copy_lists  1.14e-01 (1.41e-02)\n",
      "    deep_copy_arrays 2.38e-02 (8.40e-03)\n",
      "    improvement ratio 4.8\n"
     ]
    }
   ],
   "source": [
    "print('Deep copy (pre-allocated)')\n",
    "size = 10 ** 7\n",
    "\n",
    "def create_lists(): return list(range(size)), [0] * size\n",
    "def deep_copy_lists(src, dst): dst[:] = src\n",
    "\n",
    "def create_arrays(): return np.arange(size, dtype=int), np.empty(size, dtype=int)\n",
    "def deep_copy_arrays(src, dst): dst[:] = src\n",
    "\n",
    "compare_times(deep_copy_lists, deep_copy_arrays, create_lists, create_arrays)"
   ]
  },
  {
   "cell_type": "markdown",
   "metadata": {},
   "source": [
    "### Flop-limited ops\n",
    "\n",
    "* Can't engage VPU on non-contiguous memory: won't saturate CPU computational capabilities of your hardware."
   ]
  },
  {
   "cell_type": "code",
   "execution_count": 6,
   "metadata": {},
   "outputs": [
    {
     "name": "stdout",
     "output_type": "stream",
     "text": [
      "square out-of-place\n",
      "('    format: mean seconds (standard error)', 5, 'runs')\n",
      "    square_lists  2.28e+00 (1.10e-02)\n",
      "    square_arrays 2.00e-02 (2.49e-03)\n",
      "    improvement ratio 113.7\n"
     ]
    }
   ],
   "source": [
    "print('square out-of-place')\n",
    "\n",
    "def square_lists(src, dst):\n",
    "    for i, v in enumerate(src):\n",
    "        dst[i] = v * v\n",
    "\n",
    "def square_arrays(src, dst):\n",
    "    np.square(src, out=dst)\n",
    "    \n",
    "compare_times(square_lists, square_arrays, create_lists, create_arrays)"
   ]
  },
  {
   "cell_type": "code",
   "execution_count": 7,
   "metadata": {},
   "outputs": [
    {
     "name": "stdout",
     "output_type": "stream",
     "text": [
      "square in-place\n",
      "('    format: mean seconds (standard error)', 5, 'runs')\n",
      "    square_list  2.25e+00 (3.16e-03)\n",
      "    square_array 9.89e-03 (4.48e-05)\n",
      "    improvement ratio 227.1\n"
     ]
    }
   ],
   "source": [
    "# Caching and SSE can have huge cumulative effects\n",
    "\n",
    "print('square in-place')\n",
    "size = 10 ** 7\n",
    "\n",
    "def create_list(): return list(range(size))\n",
    "def square_list(ls):\n",
    "    for i, v in enumerate(ls):\n",
    "        ls[i] = v * v\n",
    "\n",
    "def create_array(): return np.arange(size, dtype=int)\n",
    "def square_array(ar):\n",
    "    np.square(ar, out=ar)\n",
    "    \n",
    "compare_times(square_list, square_array, create_list, create_array)"
   ]
  },
  {
   "cell_type": "markdown",
   "metadata": {},
   "source": [
    "### Memory consumption\n",
    "\n",
    "List representation uses 8 extra bytes for every value (assuming 64-bit here and henceforth)!"
   ]
  },
  {
   "cell_type": "code",
   "execution_count": 8,
   "metadata": {},
   "outputs": [
    {
     "name": "stdout",
     "output_type": "stream",
     "text": [
      "('list  kb', 322)\n",
      "('array kb', 78)\n"
     ]
    }
   ],
   "source": [
    "from pympler import asizeof\n",
    "size = 10 ** 4\n",
    "\n",
    "print('list  kb', asizeof.asizeof(list(range(size))) // 1024)\n",
    "print('array kb', asizeof.asizeof(np.arange(size, dtype=int)) // 1024)"
   ]
  },
  {
   "cell_type": "markdown",
   "metadata": {
    "collapsed": true
   },
   "source": [
    "### Disclaimer\n",
    "\n",
    "Regular python lists are still useful! They do a lot of things arrays can't:\n",
    "\n",
    "* List comprehensions `[x * x for x in range(10) if x % 2 == 0]`\n",
    "* Ragged nested lists `[[1, 2, 3], [1, [2]]]`"
   ]
  },
  {
   "cell_type": "markdown",
   "metadata": {},
   "source": [
    "# The NumPy Array\n",
    "\n",
    "[doc](https://docs.scipy.org/doc/numpy/reference/arrays.ndarray.html#internal-memory-layout-of-an-ndarray)\n",
    "\n",
    "### Abstraction\n",
    "\n",
    "We know what an array is -- a contiugous chunk of memory holding an indexed list of things from 0 to its size minus 1. If the things have a particular type, using, say, `dtype` as a placeholder, then we can refer to this as a `classical_array` of `dtype`s.\n",
    "\n",
    "The NumPy array, an `ndarray` with a _datatype, or dtype,_ `dtype` is an _N_-dimensional array for arbitrary _N_. This is defined recursively:\n",
    "* For _N > 0_, an _N_-dimensional `ndarray` of _dtype_ `dtype` is a `classical_array` of _N - 1_ dimensional `ndarray`s of _dtype_ `dtype`, all with the same size.\n",
    "* For _N = 0_, the `ndarray` is a `dtype`\n",
    "\n",
    "We note some familiar special cases:\n",
    "* _N = 0_, we have a scalar, or the datatype itself\n",
    "* _N = 1_, we have a `classical_array`\n",
    "* _N = 2_, we have a matrix\n",
    "\n",
    "Each _axis_ has its own `classical_array` length: this yields the shape."
   ]
  },
  {
   "cell_type": "code",
   "execution_count": 9,
   "metadata": {},
   "outputs": [
    {
     "name": "stdout",
     "output_type": "stream",
     "text": [
      "ndim 0 shape ()\n",
      "3.0\n",
      "ndim 1 shape (4,)\n",
      "[ 3.  3.  3.  3.]\n",
      "ndim 2 shape (2, 4)\n",
      "[[ 3.  3.  3.  3.]\n",
      " [ 3.  3.  3.  3.]]\n",
      "ndim 3 shape (2, 2, 4)\n",
      "[[[ 3.  3.  3.  3.]\n",
      "  [ 3.  3.  3.  3.]]\n",
      "\n",
      " [[ 3.  3.  3.  3.]\n",
      "  [ 3.  3.  3.  3.]]]\n"
     ]
    }
   ],
   "source": [
    "n0 = np.array(3, dtype=float)\n",
    "n1 = np.stack([n0, n0, n0, n0])\n",
    "n2 = np.stack([n1, n1])\n",
    "n3 = np.stack([n2, n2])\n",
    "\n",
    "for x in [n0, n1, n2, n3]:\n",
    "    print('ndim', x.ndim, 'shape', x.shape)\n",
    "    print(x)"
   ]
  },
  {
   "cell_type": "markdown",
   "metadata": {},
   "source": [
    "**Axes are read LEFT to RIGHT: an array of shape `(n0, n1, ..., nN-1)` has axis `0` with length `n0`, etc.**\n",
    "\n",
    "### Detour: Formal Representation\n",
    "\n",
    "Formally, a NumPy array can be viewed as a mathematical object. If:\n",
    "\n",
    "* The `dtype` belongs to some (usually field) $F$\n",
    "* The array has dimension $N$, with the $i$-th axis having length $n_i$\n",
    "* $N>1$\n",
    "\n",
    "Then this array is an object in:\n",
    "\n",
    "$$\n",
    "F^{n_0}\\otimes F^{n_{1}}\\otimes\\cdots \\otimes F^{n_{N-1}}\n",
    "$$\n",
    "\n",
    "$F^n$ is an $n$-dimensional vector space over $F$. An element in here can be represented by its canonical basis $\\textbf{e}_i^{(n)}$ as a sum for elements $f_i\\in F$:\n",
    "\n",
    "$$\n",
    "f_1\\textbf{e}_1^{(n)}+f_{2}\\textbf{e}_{2}^{(n)}+\\cdots +f_{n}\\textbf{e}_{n}^{(n)}\n",
    "$$\n",
    "\n",
    "$F^n\\otimes F^m$ is a tensor product, which takes two vector spaces and gives you another. Then the tensor product is a special kind of vector space with dimension $nm$. Elements in here have a special structure which we can tie to the original vector spaces $F^n,F^m$:\n",
    "\n",
    "$$\n",
    "\\sum_{i=1}^n\\sum_{j=1}^mf_{ij}(\\textbf{e}_{i}^{(n)}\\otimes \\textbf{e}_{j}^{(m)})\n",
    "$$\n",
    "\n",
    "Above, $(\\textbf{e}_{i}^{(n)}\\otimes \\textbf{e}_{j}^{(m)})$ is a basis vector of $F^n\\otimes F^m$ for each pair $i,j$.\n",
    "\n",
    "We will discuss what $F$ can be later; but most of this intuition (and a lot of NumPy functionality) is based on $F$ being a type corresponding to a field.\n",
    "\n",
    "# Back to CS / Mutability / Losing the Abstraction\n",
    "\n",
    "The above is a (simplified) view of `ndarray` as a tensor, but gives useful intuition for arrays that are **not mutated**.\n",
    "\n",
    "An `ndarray` **Python object** is a actually a _view_ into a shared `ndarray`. The _base_ is a representative of the equaivalence class of views of the same array\n",
    "\n",
    "<img src=\"assets/ndarrayrep.png\" alt=\"https://docs.scipy.org/doc/numpy/reference/arrays.html\">"
   ]
  },
  {
   "cell_type": "code",
   "execution_count": 10,
   "metadata": {},
   "outputs": [
    {
     "name": "stdout",
     "output_type": "stream",
     "text": [
      "[0 1 2 3 4 5 6 7 8 9]\n"
     ]
    }
   ],
   "source": [
    "original = np.arange(10)\n",
    "\n",
    "# shallow copies\n",
    "s1 = original[:]\n",
    "s2 = s1.view()\n",
    "s3 = original[:5]\n",
    "\n",
    "print(original)"
   ]
  },
  {
   "cell_type": "code",
   "execution_count": 11,
   "metadata": {},
   "outputs": [
    {
     "name": "stdout",
     "output_type": "stream",
     "text": [
      "s1 [ 0  1 -1  3  4  5  6  7  8  9]\n",
      "s2 [ 0  1 -1  3  4  5  6  7  8  9]\n",
      "s3 [ 0  1 -1  3  4]\n"
     ]
    }
   ],
   "source": [
    "original[2] = -1\n",
    "print('s1', s1)\n",
    "print('s2', s2)\n",
    "print('s3', s3)"
   ]
  },
  {
   "cell_type": "code",
   "execution_count": 12,
   "metadata": {},
   "outputs": [
    {
     "data": {
      "text/plain": [
       "(140674547832432, 140674547832432, 140674547832432, 140674547832432, None)"
      ]
     },
     "execution_count": 12,
     "metadata": {},
     "output_type": "execute_result"
    }
   ],
   "source": [
    "id(original), id(s1.base), id(s2.base), id(s3.base), original.base"
   ]
  },
  {
   "cell_type": "markdown",
   "metadata": {},
   "source": [
    "### Dtypes\n",
    "\n",
    "$F$ (our `dtype`) can be ([doc](https://docs.scipy.org/doc/numpy/reference/arrays.dtypes.html)):\n",
    "\n",
    "* boolean\n",
    "* integral\n",
    "* floating-point\n",
    "* complex floating-point\n",
    "* any structure ([record array](https://docs.scipy.org/doc/numpy/user/basics.rec.html)) of the above, e.g. [complex integral values](http://stackoverflow.com/questions/13863523/is-it-possible-to-create-a-numpy-ndarray-that-holds-complex-integers)\n",
    "\n",
    "The `dtype` can also be unicode, a date, or an arbitrary object, but those don't form fields. This means that most NumPy functions aren't usful for this data, since it's not numeric. Why have them at all?\n",
    "\n",
    "* for all: NumPy `ndarray`s offer the tensor abstraction described above.\n",
    "* unicode: consistent format in memory for bit operations and for I/O\n",
    "* [date](https://docs.scipy.org/doc/numpy/reference/arrays.datetime.html): compact representation, addition/subtraction, basic parsing"
   ]
  },
  {
   "cell_type": "code",
   "execution_count": 13,
   "metadata": {},
   "outputs": [
    {
     "name": "stdout",
     "output_type": "stream",
     "text": [
      "i16 296 i64 896\n"
     ]
    }
   ],
   "source": [
    "# Names are pretty intuitive for basic types\n",
    "\n",
    "i16 = np.arange(100, dtype=np.uint16)\n",
    "i64 = np.arange(100, dtype=np.uint64)\n",
    "print('i16', asizeof.asizeof(i16), 'i64', asizeof.asizeof(i64))"
   ]
  },
  {
   "cell_type": "code",
   "execution_count": 14,
   "metadata": {},
   "outputs": [
    {
     "name": "stdout",
     "output_type": "stream",
     "text": [
      "[(1,  1) (2, -1)]\n",
      "1+1i\n",
      "2-1i\n"
     ]
    }
   ],
   "source": [
    "# We can use arbitrary structures for our own types\n",
    "# For example, exact Gaussian (complex) integers\n",
    "\n",
    "gauss = np.dtype([('re', np.int32), ('im', np.int32)])\n",
    "c2 = np.zeros(2, dtype=gauss)\n",
    "c2[0] = (1, 1)\n",
    "c2[1] = (2, -1)\n",
    "\n",
    "def print_gauss(g):\n",
    "    print('{}{:+d}i'.format(g['re'], g['im']))\n",
    "          \n",
    "print(c2)\n",
    "for x in c2:\n",
    "    print_gauss(x)"
   ]
  },
  {
   "cell_type": "code",
   "execution_count": 15,
   "metadata": {},
   "outputs": [
    {
     "name": "stdout",
     "output_type": "stream",
     "text": [
      "b'\\x00\\x05' 0000000000000101\n",
      "b'\\x05\\x00' 0000000000000101\n"
     ]
    }
   ],
   "source": [
    "l16 = np.array(5, dtype='>u2') # little endian signed char\n",
    "b16 = l16.astype('<u2') # big endian unsigned char\n",
    "print(l16.tobytes(), np.binary_repr(l16, width=16))\n",
    "print(b16.tobytes(), np.binary_repr(b16, width=16))"
   ]
  },
  {
   "cell_type": "markdown",
   "metadata": {},
   "source": [
    "# Indexing [doc](https://docs.scipy.org/doc/numpy/reference/arrays.indexing.html)\n",
    "\n",
    "Probably the most creative, unique part of the entire library. This is what makes NumPy `ndarray` better than any other array.\n",
    "\n",
    "And index returns an `ndarray` view based on the other `ndarray`.\n",
    "\n",
    "### Basic Indexing"
   ]
  },
  {
   "cell_type": "code",
   "execution_count": 16,
   "metadata": {},
   "outputs": [
    {
     "name": "stdout",
     "output_type": "stream",
     "text": [
      "[0 1 2 3 4 5 6 7 8 9]\n",
      "[2 4]\n",
      "140673956945232 140673956945232\n"
     ]
    }
   ],
   "source": [
    "x = np.arange(10)\n",
    "\n",
    "# start:stop:step\n",
    "# inclusive start, exclusive stop\n",
    "print(x)\n",
    "print(x[2:6:2])\n",
    "print(id(x), id(x[2:6:2].base))"
   ]
  },
  {
   "cell_type": "code",
   "execution_count": 17,
   "metadata": {},
   "outputs": [
    {
     "name": "stdout",
     "output_type": "stream",
     "text": [
      "[0 1 2]\n",
      "[7 8 9]\n"
     ]
    }
   ],
   "source": [
    "# Default start is 0, default end is length, default step is 1\n",
    "print(x[:3])\n",
    "print(x[7:])"
   ]
  },
  {
   "cell_type": "code",
   "execution_count": 18,
   "metadata": {
    "scrolled": true
   },
   "outputs": [
    {
     "name": "stdout",
     "output_type": "stream",
     "text": [
      "[0 1 2 3 4 5 6 7 8 9]\n",
      "[]\n"
     ]
    }
   ],
   "source": [
    "# Don't worry about overshooting\n",
    "print(x[:100])\n",
    "print(x[7:2:1])"
   ]
  },
  {
   "cell_type": "code",
   "execution_count": 19,
   "metadata": {},
   "outputs": [
    {
     "name": "stdout",
     "output_type": "stream",
     "text": [
      "[6 7 8]\n"
     ]
    }
   ],
   "source": [
    "# Negatives wrap around (taken mod length of axis)\n",
    "print(x[-4:-1])"
   ]
  },
  {
   "cell_type": "code",
   "execution_count": 20,
   "metadata": {},
   "outputs": [
    {
     "name": "stdout",
     "output_type": "stream",
     "text": [
      "[9 8 7 6 5 4 3 2 1 0]\n",
      "[9 8 7]\n"
     ]
    }
   ],
   "source": [
    "# An array whose index goes up in reverse\n",
    "print(x[::-1]) # default start = n-1 and stop = -1 for negative step [GOTCHA]\n",
    "print(x[::-1][:3])"
   ]
  },
  {
   "cell_type": "code",
   "execution_count": 21,
   "metadata": {},
   "outputs": [
    {
     "name": "stdout",
     "output_type": "stream",
     "text": [
      "x[:5]                [0 1 2 3 4]\n",
      "x[:5][::-1]          [4 3 2 1 0]\n",
      "calling x[:5][::-1].sort()\n",
      "x[:5][::-1] (sorted) [0 1 2 3 4]\n",
      "x[:5] (rev-sorted)   [4 3 2 1 0]\n",
      "x                    [4 3 2 1 0 5 6 7 8 9]\n"
     ]
    }
   ],
   "source": [
    "# What happens if we do an ascending sort on an array with the reverse index?\n",
    "x = np.arange(10)\n",
    "\n",
    "print('x[:5]               ', x[:5])\n",
    "print('x[:5][::-1]         ', x[:5][::-1])\n",
    "x[:5][::-1].sort()\n",
    "print('calling x[:5][::-1].sort()')\n",
    "print('x[:5][::-1] (sorted)', x[:5][::-1])\n",
    "print('x[:5] (rev-sorted)  ', x[:5])\n",
    "print('x                   ', x)"
   ]
  },
  {
   "cell_type": "code",
   "execution_count": 22,
   "metadata": {},
   "outputs": [
    {
     "name": "stdout",
     "output_type": "stream",
     "text": [
      "x (2, 4, 4)\n",
      "[[[ 0  1  2  3]\n",
      "  [ 4  5  6  7]\n",
      "  [ 8  9 10 11]\n",
      "  [12 13 14 15]]\n",
      "\n",
      " [[16 17 18 19]\n",
      "  [20 21 22 23]\n",
      "  [24 25 26 27]\n",
      "  [28 29 30 31]]]\n",
      "\n",
      "x[1, :, :1] (4, 1)\n",
      "[[16]\n",
      " [20]\n",
      " [24]\n",
      " [28]]\n",
      "\n",
      "x[1, :, 0] (4,)\n",
      "[16 20 24 28]\n",
      "\n"
     ]
    }
   ],
   "source": [
    "# Multi-dimensional\n",
    "\n",
    "def display(exp):\n",
    "    print(exp, eval(exp).shape)\n",
    "    print(eval(exp))\n",
    "    print()\n",
    "    \n",
    "x = np.arange(4 * 4 * 2).reshape(2, 4, 4)\n",
    "display('x')\n",
    "display('x[1, :, :1]')\n",
    "display('x[1, :, 0]')"
   ]
  },
  {
   "cell_type": "code",
   "execution_count": 23,
   "metadata": {},
   "outputs": [
    {
     "name": "stdout",
     "output_type": "stream",
     "text": [
      "y (2, 2)\n",
      "[[0 1]\n",
      " [2 3]]\n",
      "\n",
      "y[:, :, np.newaxis] (2, 2, 1)\n",
      "[[[0]\n",
      "  [1]]\n",
      "\n",
      " [[2]\n",
      "  [3]]]\n",
      "\n",
      "y[np.newaxis, :, :, np.newaxis] (1, 2, 2, 1)\n",
      "[[[[0]\n",
      "   [1]]\n",
      "\n",
      "  [[2]\n",
      "   [3]]]]\n",
      "\n"
     ]
    }
   ],
   "source": [
    "# Add as many length-1 axes as you want [we'll see why later]\n",
    "y = np.arange(2 * 2).reshape(2, 2)\n",
    "display('y')\n",
    "display('y[:, :, np.newaxis]')\n",
    "display('y[np.newaxis, :, :, np.newaxis]')"
   ]
  },
  {
   "cell_type": "code",
   "execution_count": 24,
   "metadata": {},
   "outputs": [
    {
     "name": "stdout",
     "output_type": "stream",
     "text": [
      "slice 0 2 1\n",
      "x[0, 0, s] (2,)\n",
      "[0 1]\n",
      "\n",
      "x[tuple([0, 0, s])] (2,)\n",
      "[0 1]\n",
      "\n",
      "x[(0, 0, s)] (2,)\n",
      "[0 1]\n",
      "\n"
     ]
    }
   ],
   "source": [
    "# Programatically create indices\n",
    "def f(): return slice(0, 2, 1)\n",
    "s = f()\n",
    "print('slice', s.start, s.stop, s.step)\n",
    "display('x[0, 0, s]')\n",
    "# equivalent notation\n",
    "display('x[tuple([0, 0, s])]')\n",
    "display('x[(0, 0, s)]')"
   ]
  },
  {
   "cell_type": "markdown",
   "metadata": {},
   "source": [
    "Basic indices let us access hyper-rectangles with strides:\n",
    "\n",
    "<img src=\"assets/slices.png\" alt=\"http://www.scipy-lectures.org/intro/numpy/numpy.html\" width=\"300\">\n",
    "\n",
    "### Advanced Indexing\n",
    "\n",
    "Arbitrary combinations of basic indexing. **GOTCHA: All advanced index results are copies, not views**."
   ]
  },
  {
   "cell_type": "code",
   "execution_count": 25,
   "metadata": {},
   "outputs": [
    {
     "name": "stdout",
     "output_type": "stream",
     "text": [
      "m (4, 5)\n",
      "[[ 0  1  2  3  4]\n",
      " [ 5  6  7  8  9]\n",
      " [10 11 12 13 14]\n",
      " [15 16 17 18 19]]\n",
      "\n",
      "m[[1,2,1],:] (3, 5)\n",
      "[[ 5  6  7  8  9]\n",
      " [10 11 12 13 14]\n",
      " [ 5  6  7  8  9]]\n",
      "\n"
     ]
    }
   ],
   "source": [
    "m = np.arange(4 * 5).reshape(4, 5)\n",
    "\n",
    "# 1D advanced index\n",
    "display('m')\n",
    "display('m[[1,2,1],:]')"
   ]
  },
  {
   "cell_type": "code",
   "execution_count": 26,
   "metadata": {},
   "outputs": [
    {
     "name": "stdout",
     "output_type": "stream",
     "text": [
      "original indices\n",
      "  rows [0 1 2 3]\n",
      "  cols [0 1 2 3 4]\n",
      "new indices\n",
      "  rows [1, 2, 1]\n",
      "  cols [0 1 2 3 4]\n"
     ]
    }
   ],
   "source": [
    "print('original indices')\n",
    "print('  rows', np.arange(m.shape[0]))\n",
    "print('  cols', np.arange(m.shape[1]))\n",
    "print('new indices')\n",
    "print('  rows', ([1, 2, 1]))\n",
    "print('  cols', np.arange(m.shape[1]))"
   ]
  },
  {
   "cell_type": "code",
   "execution_count": 27,
   "metadata": {},
   "outputs": [
    {
     "name": "stdout",
     "output_type": "stream",
     "text": [
      "m (4, 5)\n",
      "[[ 0  1  2  3  4]\n",
      " [ 5  6  7  8  9]\n",
      " [10 11 12 13 14]\n",
      " [15 16 17 18 19]]\n",
      "\n",
      "m[0:1, [[1, 1, 2],[0, 1, 2]]] (1, 2, 3)\n",
      "[[[1 1 2]\n",
      "  [0 1 2]]]\n",
      "\n"
     ]
    }
   ],
   "source": [
    "# 2D advanced index\n",
    "display('m')\n",
    "display('m[0:1, [[1, 1, 2],[0, 1, 2]]]')"
   ]
  },
  {
   "cell_type": "markdown",
   "metadata": {},
   "source": [
    "Why on earth would you do the above? Selection, sampling, algorithms that are based on offsets of arrays (i.e., basically all of them).\n",
    "\n",
    "**What's going on?**\n",
    "\n",
    "Advanced indexing is best thought of in the following way:\n",
    "\n",
    "A typical `ndarray`, `x`, with shape `(n0, ..., nN-1)` has `N` corresponding _indices_. \n",
    "\n",
    "`(range(n0), ..., range(nN-1))`\n",
    "\n",
    "Indices work like this: the `(i0, ..., iN-1)`-th element in an array with the above indices  over `x` is:\n",
    "\n",
    "`(range(n0)[i0], ..., range(n2)[iN-1]) == (i0, ..., iN-1)`\n",
    "\n",
    "So the `(i0, ..., iN-1)`-th element of `x` is the `(i0, ..., iN-1)`-th element of \"x with indices `(range(n0), ..., range(nN-1))`\".\n",
    "\n",
    "An advanced index `x[:, ..., ind, ..., :]`, where `ind` is some 1D list of integers for axis `j` between `0` and `nj`, possibly with repretition, replaces the straightforward increasing indices with:\n",
    "\n",
    "`(range(n0), ..., ind, ..., range(nN-1))`\n",
    "\n",
    "The `(i0, ..., iN-1)`-th element is `(i0, ..., ind[ij], ..., iN-1)` from `x`.\n",
    "\n",
    "So the shape will now be `(n0, ..., len(ind), ..., nN-1)`.\n",
    "\n",
    "It can get even more complicated -- `ind` can be higher dimensional."
   ]
  },
  {
   "cell_type": "code",
   "execution_count": 28,
   "metadata": {},
   "outputs": [
    {
     "name": "stdout",
     "output_type": "stream",
     "text": [
      "x (2, 4, 4)\n",
      "[[[ 0  1  2  3]\n",
      "  [ 4  5  6  7]\n",
      "  [ 8  9 10 11]\n",
      "  [12 13 14 15]]\n",
      "\n",
      " [[16 17 18 19]\n",
      "  [20 21 22 23]\n",
      "  [24 25 26 27]\n",
      "  [28 29 30 31]]]\n",
      "\n",
      "x[(0, 0, 1),] (3, 4, 4)\n",
      "[[[ 0  1  2  3]\n",
      "  [ 4  5  6  7]\n",
      "  [ 8  9 10 11]\n",
      "  [12 13 14 15]]\n",
      "\n",
      " [[ 0  1  2  3]\n",
      "  [ 4  5  6  7]\n",
      "  [ 8  9 10 11]\n",
      "  [12 13 14 15]]\n",
      "\n",
      " [[16 17 18 19]\n",
      "  [20 21 22 23]\n",
      "  [24 25 26 27]\n",
      "  [28 29 30 31]]]\n",
      "\n",
      "x[(0, 0, 1)] ()\n",
      "1\n",
      "\n"
     ]
    }
   ],
   "source": [
    "# GOTCHA: accidentally invoking advanced indexing\n",
    "display('x')\n",
    "display('x[(0, 0, 1),]') # advanced\n",
    "display('x[(0, 0, 1)]') # basic\n",
    "# best policy: don't parenthesize when you want basic"
   ]
  },
  {
   "cell_type": "markdown",
   "metadata": {},
   "source": [
    "The above covers the case of one advanced index and the rest being basic. One other common situation that comes up in practice is every index is advanced.\n",
    "\n",
    "Recall array `x` with shape `(n0, ..., nN-1)`. Let `indj` be integer `ndarrays` all of the same shape (say, `(m0, ..., mM-1)`).\n",
    "\n",
    "Then `x[ind0, ... indN-1]` has shape `(m0, ..., mM-1)` and its `t=(j0, ..., jM-1)`-th element is the `(ind0[t], ..., indN-1(t))`-th element of `x`."
   ]
  },
  {
   "cell_type": "code",
   "execution_count": 29,
   "metadata": {},
   "outputs": [
    {
     "name": "stdout",
     "output_type": "stream",
     "text": [
      "m (4, 5)\n",
      "[[ 0  1  2  3  4]\n",
      " [ 5  6  7  8  9]\n",
      " [10 11 12 13 14]\n",
      " [15 16 17 18 19]]\n",
      "\n",
      "m[[1,2],[3,4]] (2,)\n",
      "[ 8 14]\n",
      "\n",
      "m[np.ix_([1,2],[3,4])] (2, 2)\n",
      "[[ 8  9]\n",
      " [13 14]]\n",
      "\n",
      "m[0, np.r_[:2, slice(3, 1, -1), 2]] (5,)\n",
      "[0 1 3 2 2]\n",
      "\n"
     ]
    }
   ],
   "source": [
    "display('m')\n",
    "display('m[[1,2],[3,4]]')\n",
    "\n",
    "# ix_: only applies to 1D indices. computes the cross product\n",
    "display('m[np.ix_([1,2],[3,4])]')\n",
    "\n",
    "# r_: concatenates slices and all forms of indices\n",
    "display('m[0, np.r_[:2, slice(3, 1, -1), 2]]')"
   ]
  },
  {
   "cell_type": "code",
   "execution_count": 30,
   "metadata": {},
   "outputs": [
    {
     "name": "stdout",
     "output_type": "stream",
     "text": [
      "[7 2 9 1 0 8 4 5 6 3]\n",
      "[1 0 1 1 0 0 0 1 0 1]\n",
      "[ True False  True  True False False False  True False  True]\n",
      "[2 7 2 2 7 7 7 2 7 2]\n",
      "[7 9 1 5 3]\n"
     ]
    }
   ],
   "source": [
    "# Boolean arrays are converted to integers where they're true\n",
    "# Then they're treated like the corresponding integer arrays\n",
    "np.random.seed(1234)\n",
    "digits = np.random.permutation(np.arange(10))\n",
    "is_odd = digits % 2\n",
    "print(digits)\n",
    "print(is_odd)\n",
    "print(is_odd.astype(bool))\n",
    "print(digits[is_odd]) # GOTCHA\n",
    "print(digits[is_odd.astype(bool)])"
   ]
  },
  {
   "cell_type": "code",
   "execution_count": 31,
   "metadata": {},
   "outputs": [
    {
     "name": "stdout",
     "output_type": "stream",
     "text": [
      "[7 2 9 1 0 8 4 5 6 3]\n",
      "[0 2 3 7 9]\n",
      "[7 9 1 5 3]\n"
     ]
    }
   ],
   "source": [
    "print(digits)\n",
    "print(is_odd.nonzero()[0])\n",
    "print(digits[is_odd.nonzero()])"
   ]
  },
  {
   "cell_type": "code",
   "execution_count": 32,
   "metadata": {},
   "outputs": [
    {
     "name": "stdout",
     "output_type": "stream",
     "text": [
      "[[0 1]\n",
      " [2 3]]\n",
      "[[False  True]\n",
      " [False  True]]\n",
      "(array([0, 1]), array([1, 1]))\n",
      "[1 3]\n"
     ]
    }
   ],
   "source": [
    "# Boolean selection in higher dimensions:\n",
    "x = np.arange(2 *2).reshape(2, -1)\n",
    "y = (x % 2).astype(bool)\n",
    "print(x)\n",
    "print(y)\n",
    "print(y.nonzero())\n",
    "print(x[y]) # becomes double advanced index"
   ]
  },
  {
   "cell_type": "markdown",
   "metadata": {},
   "source": [
    "# Array Creation and Initialization\n",
    "\n",
    "[doc](https://docs.scipy.org/doc/numpy-dev/reference/routines.array-creation.html)\n",
    "\n",
    "If unspecified, default dtype is usually float, with an exception for arange."
   ]
  },
  {
   "cell_type": "code",
   "execution_count": 42,
   "metadata": {},
   "outputs": [
    {
     "name": "stdout",
     "output_type": "stream",
     "text": [
      "np.linspace(4, 8, 2) (2,)\n",
      "[ 4.  8.]\n",
      "\n",
      "np.arange(4, 8, 2) (2,)\n",
      "[4 6]\n",
      "\n"
     ]
    }
   ],
   "source": [
    "display('np.linspace(4, 8, 2)')\n",
    "display('np.arange(4, 8, 2)') # GOTCHA"
   ]
  },
  {
   "cell_type": "code",
   "execution_count": 43,
   "metadata": {},
   "outputs": [
    {
     "data": {
      "image/png": "[encoded data removed]",
      "text/plain": [
       "<matplotlib.figure.Figure at 0x7ff132ba3588>"
      ]
     },
     "metadata": {},
     "output_type": "display_data"
    }
   ],
   "source": [
    "plt.plot(np.linspace(1, 4, 10), np.logspace(1, 4, 10))\n",
    "plt.show()"
   ]
  },
  {
   "cell_type": "code",
   "execution_count": 44,
   "metadata": {},
   "outputs": [
    {
     "name": "stdout",
     "output_type": "stream",
     "text": [
      "[[ 0.  0.]\n",
      " [ 0.  0.]\n",
      " [ 0.  0.]\n",
      " [ 0.  0.]]\n",
      "[[ 1.  2.]\n",
      " [ 0.  0.]\n",
      " [ 0.  0.]\n",
      " [ 0.  0.]]\n"
     ]
    }
   ],
   "source": [
    "shape = (4, 2)\n",
    "print(np.zeros(shape)) # init to zero. Use np.ones or np.full accordingly\n",
    "\n",
    "# [GOTCHA] np.empty won't initialize anything; it will just grab the first available chunk of memory\n",
    "x = np.zeros(shape)\n",
    "x[0] = [1, 2]\n",
    "del x\n",
    "print(np.empty(shape))"
   ]
  },
  {
   "cell_type": "code",
   "execution_count": 45,
   "metadata": {},
   "outputs": [
    {
     "data": {
      "text/plain": [
       "array([[1, 2],\n",
       "       [3, 4],\n",
       "       [5, 6]])"
      ]
     },
     "execution_count": 45,
     "metadata": {},
     "output_type": "execute_result"
    }
   ],
   "source": [
    "# From iterator/list/array - can just use constructor\n",
    "np.array([[1, 2], range(3, 5), np.array([5, 6])]) # auto-flatten (if possible)"
   ]
  },
  {
   "cell_type": "code",
   "execution_count": 46,
   "metadata": {},
   "outputs": [
    {
     "name": "stdout",
     "output_type": "stream",
     "text": [
      "[[0 1]\n",
      " [2 5]]\n",
      "[[0 1]\n",
      " [2 3]]\n",
      "[[0 0]\n",
      " [0 0]]\n"
     ]
    }
   ],
   "source": [
    "# Deep copies & shape/dtype preserving creations\n",
    "x = np.arange(4).reshape(2, 2)\n",
    "y = np.copy(x)\n",
    "z = np.zeros_like(x)\n",
    "x[1, 1] = 5\n",
    "print(x)\n",
    "print(y)\n",
    "print(z)"
   ]
  },
  {
   "cell_type": "markdown",
   "metadata": {},
   "source": [
    "Extremely extensive [random generation](https://docs.scipy.org/doc/numpy/reference/routines.random.html). Remember to seed!\n",
    "\n",
    "# Transposition\n",
    "\n",
    "**Under the hood**. So far, we've just been looking at the abstraction that NumPy offers. How does it actually keep things contiguous in memory?\n",
    "\n",
    "We have a base array, which is one long contiguous array from 0 to size - 1."
   ]
  },
  {
   "cell_type": "code",
   "execution_count": 47,
   "metadata": {},
   "outputs": [
    {
     "name": "stdout",
     "output_type": "stream",
     "text": [
      "(2, 3, 4)\n",
      "24\n"
     ]
    }
   ],
   "source": [
    "x = np.arange(2 * 3 * 4).reshape(2, 3, 4)\n",
    "print(x.shape)\n",
    "print(x.size)"
   ]
  },
  {
   "cell_type": "code",
   "execution_count": 48,
   "metadata": {},
   "outputs": [
    {
     "name": "stdout",
     "output_type": "stream",
     "text": [
      "[[[ 0  1  2  3]\n",
      "  [ 4  5  6  7]\n",
      "  [ 8  9 10 11]]\n",
      "\n",
      " [[12 13 14 15]\n",
      "  [16 17 18 19]\n",
      "  [20 21 22 23]]]\n",
      "[ 0  1  2  3  4  5  6  7  8  9 10 11 12 13 14 15 16 17 18 19 20 21 22 23]\n"
     ]
    }
   ],
   "source": [
    "# Use ravel() to get the underlying flat array. np.flatten() will give you the original\n",
    "print(x)\n",
    "print(x.ravel())"
   ]
  },
  {
   "cell_type": "code",
   "execution_count": 49,
   "metadata": {},
   "outputs": [
    {
     "name": "stdout",
     "output_type": "stream",
     "text": [
      "transpose (2, 3, 4) -> (4, 3, 2)\n",
      "rollaxis (2, 3, 4) -> (3, 2, 4)\n",
      "\n",
      "arbitrary permutation [0, 1, 2] [0 2 1]\n",
      "(2, 3, 4) -> (2, 4, 3)\n",
      "moved[1, 2, 0] 14 x[1, 0, 2] 14\n"
     ]
    }
   ],
   "source": [
    "# np.transpose or *.T will reverse axes\n",
    "print('transpose', x.shape, '->', x.T.shape)\n",
    "# rollaxis pulls the argument axis to axis 0, keeping all else the same.\n",
    "print('rollaxis', x.shape, '->', np.rollaxis(x, 1, 0).shape)\n",
    "\n",
    "print()\n",
    "# all the above are instances of np.moveaxis\n",
    "# it's clear how these behave:\n",
    "\n",
    "perm = np.array([0, 2, 1])\n",
    "moved = np.moveaxis(x, range(3), perm)\n",
    "\n",
    "print('arbitrary permutation', list(range(3)), perm)\n",
    "print(x.shape, '->', moved.shape)\n",
    "print('moved[1, 2, 0]', moved[1, 2, 0], 'x[1, 0, 2]', x[1, 0, 2])"
   ]
  },
  {
   "cell_type": "code",
   "execution_count": 50,
   "metadata": {},
   "outputs": [
    {
     "name": "stdout",
     "output_type": "stream",
     "text": [
      "sigma 3.19, eig 3.19\n"
     ]
    }
   ],
   "source": [
    "# When is transposition useful?\n",
    "# Matrix stuff, mostly:\n",
    "np.random.seed(1234)\n",
    "\n",
    "X = np.random.randn(3, 4)\n",
    "print('sigma {:.2f}, eig {:.2f}'.format(\n",
    "    np.linalg.svd(X)[1].max(),\n",
    "    np.sqrt(np.linalg.eigvalsh(X.dot(X.T)).max())))"
   ]
  },
  {
   "cell_type": "code",
   "execution_count": 51,
   "metadata": {},
   "outputs": [
    {
     "data": {
      "image/png": "[encoded data removed]",
      "text/plain": [
       "<matplotlib.figure.Figure at 0x7ff123303a58>"
      ]
     },
     "metadata": {},
     "output_type": "display_data"
    },
    {
     "data": {
      "image/png": "[encoded data removed]",
      "text/plain": [
       "<matplotlib.figure.Figure at 0x7ff1226a1278>"
      ]
     },
     "metadata": {},
     "output_type": "display_data"
    },
    {
     "name": "stdout",
     "output_type": "stream",
     "text": [
      "Check frob norm upper vs lower tri 0.0\n"
     ]
    }
   ],
   "source": [
    "# Create a random symmetric matrix\n",
    "X = np.random.randn(3, 3)\n",
    "plt.imshow(X)\n",
    "plt.show()\n",
    "\n",
    "X += X.T\n",
    "plt.imshow(X)\n",
    "plt.show()\n",
    "\n",
    "print('Check frob norm upper vs lower tri', np.linalg.norm(np.triu(X) - np.tril(X).T))"
   ]
  },
  {
   "cell_type": "code",
   "execution_count": 52,
   "metadata": {},
   "outputs": [
    {
     "name": "stdout",
     "output_type": "stream",
     "text": [
      "[[0 1 2]\n",
      " [3 4 5]]\n",
      "[[0 1 2]\n",
      " [3 4 5]]\n"
     ]
    }
   ],
   "source": [
    "# Row-major, C-order\n",
    "# largest axis changes fastest\n",
    "A = np.arange(2 * 3).reshape(2, 3).copy(order='C')\n",
    "\n",
    "# Row-major, Fortran-order\n",
    "# smallest axis changes fastest\n",
    "# GOTCHA: many numpy funcitons assume C ordering\n",
    "B = np.arange(2 * 3).reshape(2, 3).copy(order='F')\n",
    "\n",
    "# Differences in representation don't manifest in abstraction\n",
    "print(A)\n",
    "print(B)"
   ]
  },
  {
   "cell_type": "code",
   "execution_count": 53,
   "metadata": {},
   "outputs": [
    {
     "name": "stdout",
     "output_type": "stream",
     "text": [
      "[0 1 2 3 4 5]\n",
      "[0 3 1 4 2 5]\n",
      "[[0 3 1]\n",
      " [4 2 5]]\n",
      "[[0 1 2]\n",
      " [3 4 5]]\n"
     ]
    }
   ],
   "source": [
    "# Array manipulation functions with order option\n",
    "# will use C/F ordering, but this is independent of the underlying layout\n",
    "print(A.ravel())\n",
    "print(A.ravel(order='F'))\n",
    "\n",
    "# Reshape ravels an array, then folds back into shape, according to the given order\n",
    "# Note reshape can infer one dimension; we leave it as -1.\n",
    "print(A.ravel(order='F').reshape(-1, 3))\n",
    "print(A.ravel(order='F').reshape(-1, 3, order='F'))"
   ]
  },
  {
   "cell_type": "code",
   "execution_count": 54,
   "metadata": {},
   "outputs": [
    {
     "name": "stdout",
     "output_type": "stream",
     "text": [
      "140675174489296 140673647644144 140675174489296\n"
     ]
    }
   ],
   "source": [
    "# GOTCHA: ravel will copy the array so that everything is contiguous\n",
    "# if the order differs\n",
    "print(id(A.base), id(A.ravel().base), id(A.ravel(order='F').base))"
   ]
  },
  {
   "cell_type": "markdown",
   "metadata": {},
   "source": [
    "# Ufuncs and Broadcasting\n",
    "\n",
    "[doc](https://docs.scipy.org/doc/numpy-dev/reference/ufuncs.html)"
   ]
  },
  {
   "cell_type": "code",
   "execution_count": 57,
   "metadata": {},
   "outputs": [
    {
     "name": "stdout",
     "output_type": "stream",
     "text": [
      "[0 1 2 3 4 5]\n",
      "[1 1 1 2 2 2]\n",
      "[1 2 3 5 6 7]\n",
      "[1 2 3 5 6 7]\n"
     ]
    }
   ],
   "source": [
    "# A ufunc is the most common way to modify arrays\n",
    "\n",
    "# In its simplest form, an n-ary ufunc takes in n numpy arrays\n",
    "# of the same shape, and applies some standard operation to \"parallel elements\"\n",
    "\n",
    "a = np.arange(6)\n",
    "b = np.repeat([1, 2], 3)\n",
    "print(a)\n",
    "print(b)\n",
    "print(a + b)\n",
    "print(np.add(a, b))"
   ]
  },
  {
   "cell_type": "code",
   "execution_count": 58,
   "metadata": {},
   "outputs": [
    {
     "name": "stdout",
     "output_type": "stream",
     "text": [
      "A (2, 3)\n",
      "[[0 1 2]\n",
      " [3 4 5]]\n",
      "\n",
      "b (2,)\n",
      "[0 1]\n",
      "\n",
      "c (3,)\n",
      "[0 1 2]\n",
      "\n"
     ]
    }
   ],
   "source": [
    "# If any of the arguments are of lower dimension, they're prepended with 1\n",
    "# Any arguments that have dimension 1 are repeated along that axis\n",
    "\n",
    "A = np.arange(2 * 3).reshape(2, 3)\n",
    "b = np.arange(2)\n",
    "c = np.arange(3)\n",
    "for i in ['A', 'b', 'c']:\n",
    "    display(i)"
   ]
  },
  {
   "cell_type": "code",
   "execution_count": 59,
   "metadata": {},
   "outputs": [
    {
     "name": "stdout",
     "output_type": "stream",
     "text": [
      "A * c (2, 3)\n",
      "[[ 0  1  4]\n",
      " [ 0  4 10]]\n",
      "\n",
      "c.reshape(1, 3) (1, 3)\n",
      "[[0 1 2]]\n",
      "\n",
      "np.repeat(c.reshape(1, 3), 2, axis=0) (2, 3)\n",
      "[[0 1 2]\n",
      " [0 1 2]]\n",
      "\n"
     ]
    }
   ],
   "source": [
    "# On the right, broadcasting rules will automatically make the conversion\n",
    "# of c, which has shape (3,) to shape (1, 3)\n",
    "display('A * c')\n",
    "display('c.reshape(1, 3)')\n",
    "display('np.repeat(c.reshape(1, 3), 2, axis=0)')"
   ]
  },
  {
   "cell_type": "code",
   "execution_count": 60,
   "metadata": {},
   "outputs": [
    {
     "name": "stdout",
     "output_type": "stream",
     "text": [
      "np.diag(c) (3, 3)\n",
      "[[0 0 0]\n",
      " [0 1 0]\n",
      " [0 0 2]]\n",
      "\n",
      "A.dot(np.diag(c)) (2, 3)\n",
      "[[ 0  1  4]\n",
      " [ 0  4 10]]\n",
      "\n",
      "A * c (2, 3)\n",
      "[[ 0  1  4]\n",
      " [ 0  4 10]]\n",
      "\n"
     ]
    }
   ],
   "source": [
    "display('np.diag(c)')\n",
    "display('A.dot(np.diag(c))')\n",
    "display('A * c')"
   ]
  },
  {
   "cell_type": "code",
   "execution_count": 61,
   "metadata": {
    "collapsed": true
   },
   "outputs": [],
   "source": [
    "# GOTCHA: this won't compile your code to C: it will just make a slow convenience wrapper\n",
    "demo = np.frompyfunc('f({}, {})'.format, 2, 1)"
   ]
  },
  {
   "cell_type": "code",
   "execution_count": 62,
   "metadata": {},
   "outputs": [
    {
     "name": "stdout",
     "output_type": "stream",
     "text": [
      "A (2, 3)\n",
      "[[0 1 2]\n",
      " [3 4 5]]\n",
      "\n",
      "b (2,)\n",
      "[0 1]\n",
      "\n",
      "ValueError!\n",
      "operands could not be broadcast together with shapes (2,3) (2,) \n"
     ]
    }
   ],
   "source": [
    "# GOTCHA: common broadcasting mistake -- append instead of prepend\n",
    "display('A')\n",
    "display('b')\n",
    "try:\n",
    "    demo(A, b) # can't prepend to (2,) with 1 to get something compatible with (2, 3)\n",
    "except ValueError as e:\n",
    "    print('ValueError!')\n",
    "    print(e)"
   ]
  },
  {
   "cell_type": "code",
   "execution_count": 63,
   "metadata": {},
   "outputs": [
    {
     "name": "stdout",
     "output_type": "stream",
     "text": [
      "b[:, np.newaxis] (2, 1)\n",
      "[[0]\n",
      " [1]]\n",
      "\n",
      "np.repeat(b[:, np.newaxis], 3, axis=1) (2, 3)\n",
      "[[0 0 0]\n",
      " [1 1 1]]\n",
      "\n",
      "demo(A, b[:, np.newaxis]) (2, 3)\n",
      "[['f(0, 0)' 'f(1, 0)' 'f(2, 0)']\n",
      " ['f(3, 1)' 'f(4, 1)' 'f(5, 1)']]\n",
      "\n",
      "demo(b[:, np.newaxis], A) (2, 3)\n",
      "[['f(0, 0)' 'f(0, 1)' 'f(0, 2)']\n",
      " ['f(1, 3)' 'f(1, 4)' 'f(1, 5)']]\n",
      "\n"
     ]
    }
   ],
   "source": [
    "# np.newaxis adds a 1 in the corresponding axis\n",
    "display('b[:, np.newaxis]')\n",
    "display('np.repeat(b[:, np.newaxis], 3, axis=1)')\n",
    "display('demo(A, b[:, np.newaxis])')\n",
    "# note broadcasting rules are invariant to order\n",
    "# even if the ufunc isn't \n",
    "display('demo(b[:, np.newaxis], A)')"
   ]
  },
  {
   "cell_type": "code",
   "execution_count": 64,
   "metadata": {},
   "outputs": [
    {
     "name": "stdout",
     "output_type": "stream",
     "text": [
      "b (2,)\n",
      "[0 1]\n",
      "\n",
      "np.diag(b) (2, 2)\n",
      "[[0 0]\n",
      " [0 1]]\n",
      "\n",
      "b[:, np.newaxis] * A (2, 3)\n",
      "[[0 0 0]\n",
      " [3 4 5]]\n",
      "\n",
      "np.diag(b).dot(A) (2, 3)\n",
      "[[0 0 0]\n",
      " [3 4 5]]\n",
      "\n"
     ]
    }
   ],
   "source": [
    "# Using broadcasting, we can do cheap diagonal matrix multiplication\n",
    "display('b')\n",
    "display('np.diag(b)')\n",
    "# without representing the full diagonal matrix.\n",
    "display('b[:, np.newaxis] * A')\n",
    "display('np.diag(b).dot(A)')"
   ]
  },
  {
   "cell_type": "code",
   "execution_count": 65,
   "metadata": {},
   "outputs": [
    {
     "name": "stdout",
     "output_type": "stream",
     "text": [
      "demo.outer(a, b) (4, 4)\n",
      "[['f(0, 4)' 'f(0, 5)' 'f(0, 6)' 'f(0, 7)']\n",
      " ['f(1, 4)' 'f(1, 5)' 'f(1, 6)' 'f(1, 7)']\n",
      " ['f(2, 4)' 'f(2, 5)' 'f(2, 6)' 'f(2, 7)']\n",
      " ['f(3, 4)' 'f(3, 5)' 'f(3, 6)' 'f(3, 7)']]\n",
      "\n",
      "np.bitwise_or.accumulate(b) (4,)\n",
      "[4 5 7 7]\n",
      "\n",
      "np.bitwise_or.reduce(b) ()\n",
      "7\n",
      "\n"
     ]
    }
   ],
   "source": [
    "# (Binary) ufuncs get lots of efficient implementation stuff for free\n",
    "a = np.arange(4)\n",
    "b = np.arange(4, 8)\n",
    "display('demo.outer(a, b)')\n",
    "display('np.bitwise_or.accumulate(b)')\n",
    "display('np.bitwise_or.reduce(b)') # last result of accumulate"
   ]
  },
  {
   "cell_type": "code",
   "execution_count": 66,
   "metadata": {},
   "outputs": [
    {
     "name": "stdout",
     "output_type": "stream",
     "text": [
      "accumulation speed comparison\n",
      "    format: mean seconds (standard error) 5 runs\n",
      "    manual_accum 2.83e-01 (1.66e-02)\n",
      "    np_accum     1.85e-03 (9.30e-06)\n",
      "    improvement ratio 152.8\n"
     ]
    }
   ],
   "source": [
    "def setup(): return np.arange(10 ** 6)\n",
    "\n",
    "def manual_accum(x):\n",
    "    res = np.zeros_like(x)\n",
    "    for i, v in enumerate(x):\n",
    "        res[i] = res[i-1] | v\n",
    "        \n",
    "def np_accum(x):\n",
    "    np.bitwise_or.accumulate(x)\n",
    "    \n",
    "print('accumulation speed comparison')\n",
    "compare_times(manual_accum, np_accum, setup, setup)"
   ]
  },
  {
   "cell_type": "markdown",
   "metadata": {},
   "source": [
    "# Aliasing\n",
    "\n",
    "You can save on allocations and copies by providing the output array to copy into.\n",
    "\n",
    "**Aliasing** occurs when all or part of the input is repeated in the output\n",
    "\n",
    "[Ufuncs allow aliasing](https://github.com/numpy/numpy/pull/8043)"
   ]
  },
  {
   "cell_type": "code",
   "execution_count": 67,
   "metadata": {},
   "outputs": [
    {
     "name": "stdout",
     "output_type": "stream",
     "text": [
      "[[3 5 0]\n",
      " [7 7 9]\n",
      " [4 0 8]]\n",
      "[[ 6 12  4]\n",
      " [12 14  9]\n",
      " [ 4  9 16]]\n"
     ]
    }
   ],
   "source": [
    "# Example: generating random symmetric matrices\n",
    "A = np.random.randint(0, 10, size=(3,3))\n",
    "print(A)\n",
    "A += A.T # this operation is WELL-DEFINED, even though A is changing\n",
    "print(A)"
   ]
  },
  {
   "cell_type": "code",
   "execution_count": 68,
   "metadata": {},
   "outputs": [
    {
     "data": {
      "text/plain": [
       "array([[12, 24,  8],\n",
       "       [24, 28, 18],\n",
       "       [ 8, 18, 32]])"
      ]
     },
     "execution_count": 68,
     "metadata": {},
     "output_type": "execute_result"
    }
   ],
   "source": [
    "# Above is sugar for\n",
    "np.add(A, A, out=A)"
   ]
  },
  {
   "cell_type": "code",
   "execution_count": 69,
   "metadata": {},
   "outputs": [
    {
     "name": "stdout",
     "output_type": "stream",
     "text": [
      "[0 1 2 3 4 5 6 7 8 9]\n",
      "[-5 -5 -5 -5 -5  5  6  7  8  9]\n"
     ]
    }
   ],
   "source": [
    "x = np.arange(10)\n",
    "print(x)\n",
    "np.subtract(x[:5], x[5:], x[:5])\n",
    "print(x)"
   ]
  },
  {
   "cell_type": "markdown",
   "metadata": {},
   "source": [
    "**[GOTCHA]: If it's not a ufunc, aliasing is VERY BAD**: [search for \"In general the rule\"](https://github.com/numpy/numpy/issues/8440)."
   ]
  },
  {
   "cell_type": "code",
   "execution_count": 70,
   "metadata": {},
   "outputs": [
    {
     "name": "stdout",
     "output_type": "stream",
     "text": [
      "output array is not acceptable (must have the right type, nr dimensions, and be a C-Array)\n"
     ]
    }
   ],
   "source": [
    "x = np.arange(2 * 2).reshape(2, 2)\n",
    "try:\n",
    "    x.dot(np.arange(2), out=x)\n",
    "    # GOTCHA: some other functions won't warn you!\n",
    "except ValueError as e:\n",
    "    print(e)"
   ]
  },
  {
   "cell_type": "markdown",
   "metadata": {
    "collapsed": true
   },
   "source": [
    "# Configuration and Hardware Acceleration\n",
    "\n",
    "NumPy works quickly because it _can_ perform vectorization by linking to C functions that were built for **your** particular system.\n",
    "\n",
    "**[GOTCHA] There are two different high-level ways in which NumPy uses hardware to accelerate your computations**.\n",
    "\n",
    "### Ufunc\n",
    "\n",
    "When you perform a built-in ufunc:\n",
    "* The corresponding C function is called directly from the Python interpreter\n",
    "* It is not **parallelized**\n",
    "* It may be **vectorized**\n",
    "\n",
    "In general, it is tough to check whether your code is using vectorized instructions (or, in particular, which instruction set is being used, like SSE or AVX512.\n",
    "\n",
    "* If you installed from pip or Anaconda, you're probably not vectorized.\n",
    "* If you compiled NumPy yourself (and select the correct flags), you're probably fine.\n",
    "* If you're using the [Numba](http://numba.pydata.org/) JIT, then you'll be vectorized too.\n",
    "* If have access to `icc` and MKL, then you can use [the Intel guide](https://software.intel.com/en-us/articles/numpyscipy-with-intel-mkl) or [Anaconda](https://docs.continuum.io/mkl-optimizations/)\n",
    "\n",
    "### BLAS\n",
    "\n",
    "These are optimized linear algebra routines, and are only called when you invoke operations that rely on these routines.\n",
    "\n",
    "This won't make your vectors add faster (first, NumPy doesn't ask BLAS to nor could it, since bandwidth-limited ops are not the focus of BLAS). It will help with:\n",
    "* Matrix multiplication (`np.dot`)\n",
    "* Linear algebra (SVD, eigenvalues, etc) (`np.linalg`)\n",
    "* Similar stuff from other libraries that accept NumPy arrays may use BLAS too.\n",
    "\n",
    "There are different implementations for BLAS. Some are free, and some are proprietary and built for specific chips (MKL). You can check which version you're using [this way](http://stackoverflow.com/questions/9000164/how-to-check-blas-lapack-linkage-in-numpy-scipy), though you can only be sure [by inspecting the binaries manually](http://stackoverflow.com/questions/37184618/find-out-if-which-blas-library-is-used-by-numpy).\n",
    "\n",
    "Any NumPy routine that uses **BLAS** will use, by default **ALL AVAILABLE CORES**. This is a departure from the standard parallelism of `ufunc` or other numpy transformations. You can change BLAS parallelism with the `OMP_NUM_THREADS` environment variable."
   ]
  },
  {
   "cell_type": "markdown",
   "metadata": {},
   "source": [
    "# Stuff to Avoid\n",
    "\n",
    "NumPy has some cruft left over due to backwards compatibility. There are some edge cases when you would (maybe) use these things (but probably not). In general, avoid them:\n",
    "\n",
    "* `np.chararray`: use an `np.ndarray` with `unicode` `dtype`\n",
    "* `np.MaskedArrays`: use a boolean advanced index\n",
    "* `np.matrix`: use a 2-dimensional `np.ndarray`"
   ]
  },
  {
   "cell_type": "markdown",
   "metadata": {},
   "source": [
    "# Stuff Not Mentioned\n",
    "\n",
    "* [General array manipulation](https://docs.scipy.org/doc/numpy-dev/reference/routines.array-manipulation.html)\n",
    "    * Selection-related convenience methods `np.sort, np.unique`\n",
    "    * Array composition and decomposition `np.split, np.stack`\n",
    "    * Reductions many-to-1 `np.sum, np.prod, np.count_nonzero`\n",
    "    * Many-to-many array transformations `np.fft, np.linalg.cholesky`\n",
    "* [String formatting](https://docs.scipy.org/doc/numpy/reference/generated/numpy.array2string.html) `np.array2string`\n",
    "* [IO](https://docs.scipy.org/doc/numpy/reference/routines.io.html#string-formatting) `np.loadtxt, np.savetxt`\n",
    "* [Polynomial interpolation](https://docs.scipy.org/doc/numpy/reference/routines.polynomials.html) and related [scipy integration](https://docs.scipy.org/doc/scipy/reference/tutorial/integrate.html)\n",
    "* [Equality testing](https://docs.scipy.org/doc/numpy/reference/routines.testing.html)"
   ]
  }
 ],
 "metadata": {
  "celltoolbar": "Raw Cell Format",
  "kernelspec": {
   "display_name": "Python 2",
   "language": "python",
   "name": "python2"
  },
  "language_info": {
   "codemirror_mode": {
    "name": "ipython",
    "version": 2
   },
   "file_extension": ".py",
   "mimetype": "text/x-python",
   "name": "python",
   "nbconvert_exporter": "python",
   "pygments_lexer": "ipython2",
   "version": "2.7.14"
  }
 },
 "nbformat": 4,
 "nbformat_minor": 2
}
