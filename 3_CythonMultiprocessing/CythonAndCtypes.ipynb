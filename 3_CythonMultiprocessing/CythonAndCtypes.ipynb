{
 "cells": [
  {
   "cell_type": "markdown",
   "metadata": {
    "collapsed": true
   },
   "source": [
    "# Interfacing Python with compiled code, Cython\n",
    "\n",
    "Interfacing python with compiled code lets you speed up some critical part of the code.\n",
    "There are numerous ways to do this:\n",
    "\n",
    "#### C API to Python and NumPy \n",
    "\n",
    "This is a library of C functions and variables that can be used\n",
    "to create wrapper functions that together with the targeted C code can be compiled into fast\n",
    "binary Python modules. See: https://docs.python.org/3/extending/extending.html for more information.\n",
    "\n",
    "#### ctypes module and attribute \n",
    "\n",
    "The ctypes module from the Python standard library and the\n",
    "ctypes attribute of NumPy arrays can be used to create a Python wrapper for an existing\n",
    "dynamically-loaded library written in C.\n",
    "\n",
    "#### Cython \n",
    "\n",
    "This facilitates the writing of C extensions for Python.\n",
    "weave This allows the inclusion of C code in Python programs.\n",
    "\n",
    "#### SWIG \n",
    "\n",
    "This automates the process of writing wrappers in C for C functions. SWIG is easy to\n",
    "use if the argument list is to be limited to builtin Python types but can be cumbersome if\n",
    "efficient conversion to NumPy arrays is desired. The difficulty is due to the need to match\n",
    "C array parameters to predefined patterns in the numpy.\n",
    "\n",
    "#### f2py \n",
    "\n",
    "This is for interfacing to Fortran.\n",
    "See http://www.scipy.org/Topical_Software for links to some of these. Presented here is the\n",
    "use of ctypes. Unlike the use of the C API or SWIG, it permits the interface to be written in\n",
    "Python.\n",
    "\n",
    "\n",
    "\n",
    "Let us start by writing some C code. The dot product of two vectors for instance:\n",
    "\n",
    "```C\n",
    "double dot_product(double v[], double u[], int n)\n",
    "{\n",
    "    double result = 0.0;\n",
    "    for (int i = 0; i < n; i++)\n",
    "        result += v[i]*u[i];\n",
    "    return result;\n",
    "}\n",
    "```\n",
    "\n",
    "Next we compile it, and build a shared object (please open another terminal window, not in the notebook):\n",
    "\n",
    "```bash\n",
    "gcc -c -Wall -Werror -fpic my_dot.c \n",
    "gcc -shared -o my_dot.so my_dot.o\n",
    "```\n",
    "\n",
    "The ctypes module of the Python standard library provides definitions of fundamental data types that can be passed to C programs. For example:\n"
   ]
  },
  {
   "cell_type": "code",
   "execution_count": 1,
   "metadata": {
    "collapsed": false
   },
   "outputs": [
    {
     "name": "stdout",
     "output_type": "stream",
     "text": [
      "<type 'float'>\n",
      "<class 'ctypes.c_double'>\n"
     ]
    }
   ],
   "source": [
    "import ctypes as C\n",
    "#these types would have names like C.c int and C.c double.\n",
    "#They can be used constructors, e.g.,\n",
    "x = C.c_double(2.71828)\n",
    "#for which x.value returns the Python object.\n",
    "print(type(2.71828))\n",
    "print(type(x))"
   ]
  },
  {
   "cell_type": "code",
   "execution_count": 2,
   "metadata": {
    "collapsed": false
   },
   "outputs": [
    {
     "name": "stdout",
     "output_type": "stream",
     "text": [
      "<__main__.LP_c_double object at 0x10515f5f0>\n",
      "c_double(2.71828)\n"
     ]
    }
   ],
   "source": [
    "#Fundamental types can be composed to get new types, e.g.,\n",
    "xp = C.POINTER(C.c_double)(); \n",
    "xp.contents = x\n",
    "print(xp)\n",
    "print(x)"
   ]
  },
  {
   "cell_type": "code",
   "execution_count": 3,
   "metadata": {
    "collapsed": true
   },
   "outputs": [],
   "source": [
    "#or simply xp = C.POINTER(C.c_double)(x) . You can change the value of x using\n",
    "xp[0] = 3.14159"
   ]
  },
  {
   "cell_type": "code",
   "execution_count": 4,
   "metadata": {
    "collapsed": false
   },
   "outputs": [
    {
     "name": "stdout",
     "output_type": "stream",
     "text": [
      "[1.0, 2.3, 4.0, 5.0]\n",
      "1.0\n"
     ]
    }
   ],
   "source": [
    "#Array types can be created by \\multiplying\" a ctype by a positive integer, e.g.,\n",
    "ylist = [1.,2.3,4.,5.]\n",
    "n = len(ylist)\n",
    "y = (C.c_double*n)()\n",
    "y[:] = ylist\n",
    "#or simply\n",
    "y = (C.c_double*n)(*ylist)\n",
    "print(ylist)\n",
    "print(y[0])"
   ]
  },
  {
   "cell_type": "markdown",
   "metadata": {},
   "source": [
    "The asterisk is a Python operator for expanding the elements of a sequence into the arguments of a\n",
    "function. Convert a C array back to a Python value or list by indexing it with an int or a slice.\n",
    "The ctypes module has a utility subpackage to assist in locating a dynamically-loaded library,\n",
    "e.g.,"
   ]
  },
  {
   "cell_type": "code",
   "execution_count": 5,
   "metadata": {
    "collapsed": false
   },
   "outputs": [
    {
     "name": "stdout",
     "output_type": "stream",
     "text": [
      "<CDLL './my_dot.so', handle 105208a50 at 103d6d650>\n"
     ]
    }
   ],
   "source": [
    "import ctypes.util # an explicit import is necessary\n",
    "C.util.find_library('my_dot')\n",
    "#locates the C math library. \n",
    "#For loading a library there are constructors, e.g.,\n",
    "myDL = C.CDLL('./my_dot.so')\n",
    "print(myDL)\n",
    "#which makes my a module-like object (a CDLL object to be precise)."
   ]
  },
  {
   "cell_type": "markdown",
   "metadata": {},
   "source": [
    "Similar to a Python module, myDL has as attributes function-like objects (C function pointers to\n",
    "be precise) which have the same names as the C functions in the library, e.g., myDL.dot. These\n",
    "function-like objects themselves have an attribute restype, which must be used to declare the type\n",
    "of its result. For a C function whose result type is void, use None. \n",
    "\n",
    "Here is a full example:"
   ]
  },
  {
   "cell_type": "code",
   "execution_count": 6,
   "metadata": {
    "collapsed": false
   },
   "outputs": [
    {
     "name": "stdout",
     "output_type": "stream",
     "text": [
      "1 loop, best of 3: 499 ms per loop\n"
     ]
    }
   ],
   "source": [
    "from ctypes import CDLL, c_int, c_double\n",
    "mydot = CDLL('my_dot.so').dot_product\n",
    "def dot(vec1, vec2): # vec1, vec2 are Python lists\n",
    "    n = len(vec1)\n",
    "    mydot.restype = c_double\n",
    "    return mydot((c_double*n)(*vec1), (c_double*n)(*vec2), c_int(n))\n",
    "\n",
    "vec1 = [x for x in range(1000000)]\n",
    "vec2 = [x for x in range(1000000)]\n",
    "%timeit dot(vec1,vec2)"
   ]
  },
  {
   "cell_type": "markdown",
   "metadata": {},
   "source": [
    "The arguments should be explicitly converted to the appropriate C type. \n",
    "The result is automatically converted to a regular Python type, based on the restype attribute.\n",
    "\n",
    "**Warning.** If you use the extension .so for the name of a file, do not make its stem the same as a\n",
    ".py file in the same directory, e.g., do not have both a funcs.py and a funcs.so. \n",
    "\n",
    "\n",
    "### Repeat the same in Cython\n",
    "\n",
    "The fundamental nature of Cython can be summed up as follows: Cython is Python with C data types.\n",
    "As Cython can accept almost any valid python source file, one of the hardest things in getting started is just figuring out how to compile your extension.\n",
    "\n",
    "Here is the bare Python implementation of the dot product of two lists/vectors:"
   ]
  },
  {
   "cell_type": "code",
   "execution_count": 7,
   "metadata": {
    "collapsed": false
   },
   "outputs": [
    {
     "name": "stdout",
     "output_type": "stream",
     "text": [
      "CPU times: user 284 ms, sys: 2.02 ms, total: 286 ms\n",
      "Wall time: 287 ms\n"
     ]
    },
    {
     "data": {
      "text/plain": [
       "3.3333283333312755e+17"
      ]
     },
     "execution_count": 7,
     "metadata": {},
     "output_type": "execute_result"
    }
   ],
   "source": [
    "#def frange(x, y, jump):\n",
    "#    while x < y:\n",
    "#        yield x\n",
    "#    x += jump\n",
    "       \n",
    "def dot_product(vec1,vec2):\n",
    "    result = 0.0\n",
    "    n = len(vec1)\n",
    "    for i in range(n):\n",
    "        result += vec1[i]*vec2[i]\n",
    "    return result\n",
    "\n",
    "vec1 = [x for x in range(1000000)]\n",
    "vec2 = [x for x in range(1000000)]\n",
    "%time dot_product(vec1,vec2)"
   ]
  },
  {
   "cell_type": "markdown",
   "metadata": {},
   "source": [
    "### Prepare cython_dot.pyx file\n",
    "\n",
    "Let us take the dot_product function and put it in the .pyx file:\n",
    "\n",
    "```python\n",
    "cimport cython\n",
    "\n",
    "\n",
    "@cython.boundscheck(False) # Will not check indexing, so ensure indices are valid and non-negative\n",
    "@cython.wraparound(False)  # Will not allow negative indexing\n",
    "@cython.cdivision(True)    # Will not check for division by zero\n",
    "def dot_product(vec1,vec2):\n",
    "    cdef float result = 0.0\n",
    "    cdef unsigned int n = len(vec1)\n",
    "\n",
    "    for i in range(n):\n",
    "        result += vec1[i]*vec2[i]\n",
    "\n",
    "    return result\n",
    "```\n",
    "\n",
    "### Prepare cython_setup.py file\n",
    "\n",
    "We would need a setup file in addition to that:\n",
    "\n",
    "```python\n",
    "from distutils.core import setup\n",
    "from Cython.Build import cythonize\n",
    "\n",
    "setup(\n",
    "  name = 'my dot',\n",
    "  ext_modules = cythonize(\"cython_dot.pyx\")\n",
    ")\n",
    "```\n",
    "\n",
    "save it in cython_setup.py file and build:\n",
    "\n",
    "```bash\n",
    "python cython_setup.py build_ext --inplace\n",
    "```\n",
    "\n",
    "you will now see the `cython_dot.so` file appear in your folder."
   ]
  },
  {
   "cell_type": "code",
   "execution_count": 13,
   "metadata": {
    "collapsed": false
   },
   "outputs": [
    {
     "name": "stdout",
     "output_type": "stream",
     "text": [
      "CPU times: user 41.5 ms, sys: 98 µs, total: 41.6 ms\n",
      "Wall time: 41.6 ms\n"
     ]
    },
    {
     "data": {
      "text/plain": [
       "3.3338099651261235e+17"
      ]
     },
     "execution_count": 13,
     "metadata": {},
     "output_type": "execute_result"
    }
   ],
   "source": [
    "from cython_dot import dot_product\n",
    "vec1 = [x for x in range(1000000)]\n",
    "vec2 = [x for x in range(1000000)]\n",
    "%time dot_product(vec1,vec2)"
   ]
  },
  {
   "cell_type": "markdown",
   "metadata": {
    "collapsed": true
   },
   "source": [
    "### Use ndarray in Cython code\n",
    "\n",
    "How can we make Cython implementation even faster? use less python's generic data structures and more numpy arrays!\n",
    "Change the cython_dot.pyx file to look like:\n",
    "\n",
    "```python\n",
    "cimport cython\n",
    "import numpy as np\n",
    "cimport numpy as np\n",
    "\n",
    "DTYPE = np.float64\n",
    "ctypedef np.float64_t DTYPE_t\n",
    "\n",
    "@cython.boundscheck(False) # Will not check indexing, so ensure indices are valid and non-negative\n",
    "@cython.wraparound(False) # Will not allow negative indexing\n",
    "@cython.cdivision(True) # Will not check for division by zero\n",
    "def dot_product(np.ndarray[DTYPE_t, ndim=1] vec1, np.ndarray[DTYPE_t, ndim=1] vec2):\n",
    "    cdef float result = 0.0\n",
    "    cdef unsigned int i\n",
    "    cdef unsigned int n = vec1.shape[0]\n",
    "\n",
    "    for i in range(n):\n",
    "        result += vec1[i]*vec2[i]\n",
    "\n",
    "    return result\n",
    "```   \n",
    "\n",
    "and change the cython_setup.py to looks like this:\n",
    "\n",
    "```python\n",
    "#!/usr/bin/env python3\n",
    "\n",
    "from distutils.core import setup\n",
    "from Cython.Build import cythonize\n",
    "import numpy as np\n",
    "\n",
    "setup(\n",
    "  name = 'my dot',\n",
    "  ext_modules = cythonize(\"cython_dot2.pyx\"),\n",
    "  include_dirs = [np.get_include()]\n",
    ")\n",
    "```\n",
    "\n",
    "rebuild the shared object, and rerun:"
   ]
  },
  {
   "cell_type": "code",
   "execution_count": 17,
   "metadata": {
    "collapsed": false
   },
   "outputs": [
    {
     "name": "stdout",
     "output_type": "stream",
     "text": [
      "CPU times: user 3.31 ms, sys: 0 ns, total: 3.31 ms\n",
      "Wall time: 3.32 ms\n"
     ]
    },
    {
     "data": {
      "text/plain": [
       "3.3338099651261235e+17"
      ]
     },
     "execution_count": 17,
     "metadata": {},
     "output_type": "execute_result"
    }
   ],
   "source": [
    "import numpy as np\n",
    "from cython_dot2 import dot_product\n",
    "vec1 = np.arange(1000000,dtype=float)\n",
    "vec2 = np.arange(1000000,dtype=float)\n",
    "%time dot_product(vec1,vec2)"
   ]
  },
  {
   "cell_type": "markdown",
   "metadata": {},
   "source": [
    "### Compiler optimization in Cython\n",
    "\n",
    "Note, that we have also included the compiler optimization flags in our Cython setup file:\n",
    "\n",
    "```python\n",
    "extra_compile_args = [\"-O3\", \"-ffast-math\", \"-march=native\"],\n",
    "```\n",
    "\n",
    "\n",
    "### Open MP (demo only)\n",
    "\n",
    "Finally, we can try improving our Cython code with OpenMP\n",
    "https://clang-omp.github.io"
   ]
  },
  {
   "cell_type": "code",
   "execution_count": 18,
   "metadata": {
    "collapsed": false
   },
   "outputs": [
    {
     "ename": "ImportError",
     "evalue": "No module named cython_dot3",
     "output_type": "error",
     "traceback": [
      "\u001b[0;31m---------------------------------------------------------------------------\u001b[0m",
      "\u001b[0;31mImportError\u001b[0m                               Traceback (most recent call last)",
      "\u001b[0;32m<ipython-input-18-38bb181ee592>\u001b[0m in \u001b[0;36m<module>\u001b[0;34m()\u001b[0m\n\u001b[1;32m      1\u001b[0m \u001b[0;32mimport\u001b[0m \u001b[0mnumpy\u001b[0m \u001b[0;32mas\u001b[0m \u001b[0mnp\u001b[0m\u001b[0;34m\u001b[0m\u001b[0m\n\u001b[0;32m----> 2\u001b[0;31m \u001b[0;32mfrom\u001b[0m \u001b[0mcython_dot3\u001b[0m \u001b[0;32mimport\u001b[0m \u001b[0mdot_product\u001b[0m\u001b[0;34m\u001b[0m\u001b[0m\n\u001b[0m\u001b[1;32m      3\u001b[0m \u001b[0mvec1\u001b[0m \u001b[0;34m=\u001b[0m \u001b[0mnp\u001b[0m\u001b[0;34m.\u001b[0m\u001b[0marange\u001b[0m\u001b[0;34m(\u001b[0m\u001b[0;36m1000000\u001b[0m\u001b[0;34m,\u001b[0m\u001b[0mdtype\u001b[0m\u001b[0;34m=\u001b[0m\u001b[0mfloat\u001b[0m\u001b[0;34m)\u001b[0m\u001b[0;34m\u001b[0m\u001b[0m\n\u001b[1;32m      4\u001b[0m \u001b[0mvec2\u001b[0m \u001b[0;34m=\u001b[0m \u001b[0mnp\u001b[0m\u001b[0;34m.\u001b[0m\u001b[0marange\u001b[0m\u001b[0;34m(\u001b[0m\u001b[0;36m1000000\u001b[0m\u001b[0;34m,\u001b[0m\u001b[0mdtype\u001b[0m\u001b[0;34m=\u001b[0m\u001b[0mfloat\u001b[0m\u001b[0;34m)\u001b[0m\u001b[0;34m\u001b[0m\u001b[0m\n\u001b[1;32m      5\u001b[0m \u001b[0mget_ipython\u001b[0m\u001b[0;34m(\u001b[0m\u001b[0;34m)\u001b[0m\u001b[0;34m.\u001b[0m\u001b[0mmagic\u001b[0m\u001b[0;34m(\u001b[0m\u001b[0;34mu'time dot_product(vec1,vec2)'\u001b[0m\u001b[0;34m)\u001b[0m\u001b[0;34m\u001b[0m\u001b[0m\n",
      "\u001b[0;31mImportError\u001b[0m: No module named cython_dot3"
     ]
    }
   ],
   "source": [
    "import numpy as np\n",
    "from cython_dot3 import dot_product\n",
    "vec1 = np.arange(1000000,dtype=float)\n",
    "vec2 = np.arange(1000000,dtype=float)\n",
    "%time dot_product(vec1,vec2)"
   ]
  },
  {
   "cell_type": "markdown",
   "metadata": {},
   "source": [
    "<p>Continue on to the Data parallelism exercise: [JoblibMultiprocessing.ipynb](JoblibMultiprocessing.ipynb).</p>"
   ]
  },
  {
   "cell_type": "code",
   "execution_count": null,
   "metadata": {
    "collapsed": true
   },
   "outputs": [],
   "source": []
  },
  {
   "cell_type": "code",
   "execution_count": null,
   "metadata": {
    "collapsed": true
   },
   "outputs": [],
   "source": []
  }
 ],
 "metadata": {
  "anaconda-cloud": {},
  "kernelspec": {
   "display_name": "Python [conda env:BDcourseFall2016]",
   "language": "python",
   "name": "conda-env-BDcourseFall2016-py"
  },
  "language_info": {
   "codemirror_mode": {
    "name": "ipython",
    "version": 2
   },
   "file_extension": ".py",
   "mimetype": "text/x-python",
   "name": "python",
   "nbconvert_exporter": "python",
   "pygments_lexer": "ipython2",
   "version": "2.7.12"
  }
 },
 "nbformat": 4,
 "nbformat_minor": 0
}
