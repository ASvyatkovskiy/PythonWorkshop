{
 "cells": [
  {
   "cell_type": "markdown",
   "metadata": {
    "collapsed": true
   },
   "source": [
    "# Interfacing Python with compiled code, Cython\n",
    "\n",
    "Interfacing python with compiled code lets you speed up some critical part of the code.\n",
    "There are numerous ways to do this:\n",
    "\n",
    "#### C API to Python and NumPy \n",
    "\n",
    "This is a library of C functions and variables that can be used\n",
    "to create wrapper functions that together with the targeted C code can be compiled into fast\n",
    "binary Python modules. See: https://docs.python.org/3/extending/extending.html for more information.\n",
    "\n",
    "#### ctypes module and attribute \n",
    "\n",
    "The ctypes module from the Python standard library and the\n",
    "ctypes attribute of NumPy arrays can be used to create a Python wrapper for an existing\n",
    "dynamically-loaded library written in C.\n",
    "\n",
    "#### Cython \n",
    "\n",
    "This facilitates the writing of C extensions for Python.\n",
    "weave This allows the inclusion of C code in Python programs.\n",
    "\n",
    "#### SWIG \n",
    "\n",
    "This automates the process of writing wrappers in C for C functions. SWIG is easy to\n",
    "use if the argument list is to be limited to builtin Python types but can be cumbersome if\n",
    "efficient conversion to NumPy arrays is desired. The difficulty is due to the need to match\n",
    "C array parameters to predefined patterns in the numpy.\n",
    "\n",
    "#### f2py \n",
    "\n",
    "This is for interfacing to Fortran.\n",
    "See http://www.scipy.org/Topical_Software for links to some of these. Presented here is the\n",
    "use of ctypes. Unlike the use of the C API or SWIG, it permits the interface to be written in\n",
    "Python.\n",
    "\n",
    "\n",
    "\n",
    "Let us start by writing some C code. The dot product of two vectors for instance:\n",
    "\n",
    "```C\n",
    "double dot_product(double v[], double u[], int n)\n",
    "{\n",
    "    double result = 0.0;\n",
    "    for (int i = 0; i < n; i++)\n",
    "        result += v[i]*u[i];\n",
    "    return result;\n",
    "}\n",
    "```\n",
    "\n",
    "Next we compile it, and build a shared object (please open another terminal window, not in the notebook):\n",
    "\n",
    "```bash\n",
    "gcc -c -Wall -Werror -fpic my_dot.c \n",
    "gcc -shared -o my_dot.so my_dot.o\n",
    "```\n",
    "\n",
    "The ctypes module of the Python standard library provides definitions of fundamental data types that can be passed to C programs. For example, assuming we\n"
   ]
  },
  {
   "cell_type": "code",
   "execution_count": 37,
   "metadata": {
    "collapsed": false
   },
   "outputs": [
    {
     "name": "stdout",
     "output_type": "stream",
     "text": [
      "<class 'float'>\n",
      "<class 'ctypes.c_double'>\n"
     ]
    }
   ],
   "source": [
    "import ctypes as C\n",
    "#these types would have names like C.c int and C.c double.\n",
    "#They can be used constructors, e.g.,\n",
    "x = C.c_double(2.71828)\n",
    "#for which x.value returns the Python object.\n",
    "print(type(2.71828))\n",
    "print(type(x))"
   ]
  },
  {
   "cell_type": "code",
   "execution_count": 39,
   "metadata": {
    "collapsed": false
   },
   "outputs": [
    {
     "name": "stdout",
     "output_type": "stream",
     "text": [
      "<__main__.LP_c_double object at 0x105797b70>\n",
      "c_double(2.71828)\n"
     ]
    }
   ],
   "source": [
    "#Fundamental types can be composed to get new types, e.g.,\n",
    "xp = C.POINTER(C.c_double)(); \n",
    "xp.contents = x\n",
    "print(xp)\n",
    "print(x)"
   ]
  },
  {
   "cell_type": "code",
   "execution_count": 40,
   "metadata": {
    "collapsed": true
   },
   "outputs": [],
   "source": [
    "#or simply xp = C.POINTER(C.c_double)(x) . You can change the value of x using\n",
    "xp[0] = 3.14159"
   ]
  },
  {
   "cell_type": "code",
   "execution_count": 44,
   "metadata": {
    "collapsed": false
   },
   "outputs": [
    {
     "name": "stdout",
     "output_type": "stream",
     "text": [
      "[1.0, 2.3, 4.0, 5.0]\n",
      "1.0\n"
     ]
    }
   ],
   "source": [
    "#Array types can be created by \\multiplying\" a ctype by a positive integer, e.g.,\n",
    "ylist = [1.,2.3,4.,5.]\n",
    "n = len(ylist)\n",
    "y = (C.c_double*n)()\n",
    "y[:] = ylist\n",
    "#or simply\n",
    "y = (C.c_double*n)(*ylist)\n",
    "print(ylist)\n",
    "print(y[0])"
   ]
  },
  {
   "cell_type": "markdown",
   "metadata": {},
   "source": [
    "The asterisk is a Python operator for expanding the elements of a sequence into the arguments of a\n",
    "function. Convert a C array back to a Python value or list by indexing it with an int or a slice.\n",
    "The ctypes module has a utility subpackage to assist in locating a dynamically-loaded library,\n",
    "e.g.,"
   ]
  },
  {
   "cell_type": "code",
   "execution_count": 48,
   "metadata": {
    "collapsed": false
   },
   "outputs": [
    {
     "name": "stdout",
     "output_type": "stream",
     "text": [
      "<CDLL './my_dot.so', handle 10560dd60 at 0x105094fd0>\n"
     ]
    }
   ],
   "source": [
    "import ctypes.util # an explicit import is necessary\n",
    "C.util.find_library('my_dot')\n",
    "#locates the C math library. \n",
    "#For loading a library there are constructors, e.g.,\n",
    "myDL = C.CDLL('./my_dot.so')\n",
    "print(myDL)\n",
    "#which makes my a module-like object (a CDLL object to be precise)."
   ]
  },
  {
   "cell_type": "markdown",
   "metadata": {},
   "source": [
    "Similar to a Python module, myDL has as attributes function-like objects (C function pointers to\n",
    "be precise) which have the same names as the C functions in the library, e.g., myDL.dot. These\n",
    "function-like objects themselves have an attribute restype, which must be used to declare the type\n",
    "of its result. For a C function whose result type is void, use None. \n",
    "\n",
    "Here is a full example:"
   ]
  },
  {
   "cell_type": "code",
   "execution_count": 8,
   "metadata": {
    "collapsed": false
   },
   "outputs": [
    {
     "name": "stdout",
     "output_type": "stream",
     "text": [
      "3.333333283334632e+23\n",
      "Elaspsed time:  124.00988602638245\n"
     ]
    }
   ],
   "source": [
    "import time\n",
    "start = time.time()\n",
    "\n",
    "from ctypes import CDLL, c_int, c_double\n",
    "mydot = CDLL('my_dot.so').dot_product\n",
    "def dot(vec1, vec2): # vec1, vec2 are lists\n",
    "    n = len(vec1)\n",
    "    mydot.restype = c_double\n",
    "    return mydot((c_double*n)(*vec1), (c_double*n)(*vec2), c_int(n))\n",
    "\n",
    "vec1 = [x for x in range(100000000)]\n",
    "vec2 = [x for x in range(100000000)]\n",
    "print(dot(vec1,vec2))\n",
    "end = time.time()\n",
    "print(\"Elaspsed time: \", end-start)"
   ]
  },
  {
   "cell_type": "markdown",
   "metadata": {},
   "source": [
    "The arguments should be explicitly converted to the appropriate C type. \n",
    "The result is automatically converted to a regular Python type, based on the restype attribute.\n",
    "\n",
    "**Warning.** If you use the extension .so for the name of a file, do not make its stem the same as a\n",
    ".py file in the same directory, e.g., do not have both a funcs.py and a funcs.so. One convention\n",
    "is to use funcs.py and funcs.so.\n",
    "\n",
    "\n",
    "### Repeat the same in Cython\n",
    "\n",
    "The fundamental nature of Cython can be summed up as follows: Cython is Python with C data types.\n",
    "As Cython can accept almost any valid python source file, one of the hardest things in getting started is just figuring out how to compile your extension.\n",
    "\n",
    "Here is the bare Python implementation of the dot product of two lists/vectors:"
   ]
  },
  {
   "cell_type": "code",
   "execution_count": 25,
   "metadata": {
    "collapsed": false
   },
   "outputs": [
    {
     "ename": "KeyboardInterrupt",
     "evalue": "",
     "output_type": "error",
     "traceback": [
      "\u001b[0;31m---------------------------------------------------------------------------\u001b[0m",
      "\u001b[0;31mKeyboardInterrupt\u001b[0m                         Traceback (most recent call last)",
      "\u001b[0;32m<ipython-input-25-0b9adac8d3ab>\u001b[0m in \u001b[0;36m<module>\u001b[0;34m()\u001b[0m\n\u001b[1;32m     14\u001b[0m     \u001b[0;32mreturn\u001b[0m \u001b[0mresult\u001b[0m\u001b[0;34m\u001b[0m\u001b[0m\n\u001b[1;32m     15\u001b[0m \u001b[0;34m\u001b[0m\u001b[0m\n\u001b[0;32m---> 16\u001b[0;31m \u001b[0mvec1\u001b[0m \u001b[0;34m=\u001b[0m \u001b[0;34m[\u001b[0m\u001b[0mx\u001b[0m \u001b[0;32mfor\u001b[0m \u001b[0mx\u001b[0m \u001b[0;32min\u001b[0m \u001b[0mfrange\u001b[0m\u001b[0;34m(\u001b[0m\u001b[0;36m0\u001b[0m\u001b[0;34m,\u001b[0m\u001b[0;36m100000000\u001b[0m\u001b[0;34m,\u001b[0m\u001b[0;36m1\u001b[0m\u001b[0;34m)\u001b[0m\u001b[0;34m]\u001b[0m\u001b[0;34m\u001b[0m\u001b[0m\n\u001b[0m\u001b[1;32m     17\u001b[0m \u001b[0mvec2\u001b[0m \u001b[0;34m=\u001b[0m \u001b[0;34m[\u001b[0m\u001b[0mx\u001b[0m \u001b[0;32mfor\u001b[0m \u001b[0mx\u001b[0m \u001b[0;32min\u001b[0m \u001b[0mfrange\u001b[0m\u001b[0;34m(\u001b[0m\u001b[0;36m0\u001b[0m\u001b[0;34m,\u001b[0m\u001b[0;36m100000000\u001b[0m\u001b[0;34m,\u001b[0m\u001b[0;36m1\u001b[0m\u001b[0;34m)\u001b[0m\u001b[0;34m]\u001b[0m\u001b[0;34m\u001b[0m\u001b[0m\n\u001b[1;32m     18\u001b[0m \u001b[0mprint\u001b[0m\u001b[0;34m(\u001b[0m\u001b[0mdot_product\u001b[0m\u001b[0;34m(\u001b[0m\u001b[0mvec1\u001b[0m\u001b[0;34m,\u001b[0m\u001b[0mvec2\u001b[0m\u001b[0;34m)\u001b[0m\u001b[0;34m)\u001b[0m\u001b[0;34m\u001b[0m\u001b[0m\n",
      "\u001b[0;32m<ipython-input-25-0b9adac8d3ab>\u001b[0m in \u001b[0;36m<listcomp>\u001b[0;34m(.0)\u001b[0m\n\u001b[1;32m     14\u001b[0m     \u001b[0;32mreturn\u001b[0m \u001b[0mresult\u001b[0m\u001b[0;34m\u001b[0m\u001b[0m\n\u001b[1;32m     15\u001b[0m \u001b[0;34m\u001b[0m\u001b[0m\n\u001b[0;32m---> 16\u001b[0;31m \u001b[0mvec1\u001b[0m \u001b[0;34m=\u001b[0m \u001b[0;34m[\u001b[0m\u001b[0mx\u001b[0m \u001b[0;32mfor\u001b[0m \u001b[0mx\u001b[0m \u001b[0;32min\u001b[0m \u001b[0mfrange\u001b[0m\u001b[0;34m(\u001b[0m\u001b[0;36m0\u001b[0m\u001b[0;34m,\u001b[0m\u001b[0;36m100000000\u001b[0m\u001b[0;34m,\u001b[0m\u001b[0;36m1\u001b[0m\u001b[0;34m)\u001b[0m\u001b[0;34m]\u001b[0m\u001b[0;34m\u001b[0m\u001b[0m\n\u001b[0m\u001b[1;32m     17\u001b[0m \u001b[0mvec2\u001b[0m \u001b[0;34m=\u001b[0m \u001b[0;34m[\u001b[0m\u001b[0mx\u001b[0m \u001b[0;32mfor\u001b[0m \u001b[0mx\u001b[0m \u001b[0;32min\u001b[0m \u001b[0mfrange\u001b[0m\u001b[0;34m(\u001b[0m\u001b[0;36m0\u001b[0m\u001b[0;34m,\u001b[0m\u001b[0;36m100000000\u001b[0m\u001b[0;34m,\u001b[0m\u001b[0;36m1\u001b[0m\u001b[0;34m)\u001b[0m\u001b[0;34m]\u001b[0m\u001b[0;34m\u001b[0m\u001b[0m\n\u001b[1;32m     18\u001b[0m \u001b[0mprint\u001b[0m\u001b[0;34m(\u001b[0m\u001b[0mdot_product\u001b[0m\u001b[0;34m(\u001b[0m\u001b[0mvec1\u001b[0m\u001b[0;34m,\u001b[0m\u001b[0mvec2\u001b[0m\u001b[0;34m)\u001b[0m\u001b[0;34m)\u001b[0m\u001b[0;34m\u001b[0m\u001b[0m\n",
      "\u001b[0;31mKeyboardInterrupt\u001b[0m: "
     ]
    }
   ],
   "source": [
    "start = time.time()\n",
    "\n",
    "#def frange(x, y, jump):\n",
    "#    while x < y:\n",
    "#        yield x\n",
    "#    x += jump\n",
    "       \n",
    "def dot_product(vec1,vec2):\n",
    "    result = 0.0\n",
    "    n = len(vec1)\n",
    "    for i in range(n):\n",
    "        result += vec1[i]*vec2[i]\n",
    "    return result\n",
    "\n",
    "vec1 = [x for x in range(100000000)]\n",
    "vec2 = [x for x in range(100000000)]\n",
    "print(dot_product(vec1,vec2))\n",
    "end = time.time()\n",
    "print(\"Elaspsed time: \", end-start)"
   ]
  },
  {
   "cell_type": "markdown",
   "metadata": {},
   "source": [
    "Let us take the dot_product function and put it in the .pyx file:\n",
    "\n",
    "```python\n",
    "cimport cython\n",
    "\n",
    "\n",
    "@cython.boundscheck(False) # Will not check indexing, so ensure indices are valid and non-negative\n",
    "@cython.wraparound(False) # Will not allow negative indexing\n",
    "@cython.cdivision(True) # Will not check for division by zero\n",
    "def dot_product(vec1,vec2):\n",
    "    cdef float result = 0.0\n",
    "    cdef unsigned int n = len(vec1)\n",
    "\n",
    "    for i in range(n):\n",
    "        result += vec1[i]*vec2[i]\n",
    "\n",
    "    return result\n",
    "```\n",
    "\n",
    "We would need a setup file in addition to that:\n",
    "\n",
    "```python\n",
    "from distutils.core import setup\n",
    "from Cython.Build import cythonize\n",
    "\n",
    "setup(\n",
    "  name = 'my dot',\n",
    "  ext_modules = cythonize(\"cython_dot.pyx\")\n",
    ")\n",
    "```\n",
    "\n",
    "save it in cython_setup.py file and build:\n",
    "\n",
    "```bash\n",
    "python cython_setup.py build_ext --inplace\n",
    "```\n",
    "\n",
    "you will now see the .so file appear in your folder."
   ]
  },
  {
   "cell_type": "code",
   "execution_count": 18,
   "metadata": {
    "collapsed": false
   },
   "outputs": [
    {
     "name": "stdout",
     "output_type": "stream",
     "text": [
      "2.4287628162912635e+23\n",
      "Elaspsed time:  51.588934898376465\n"
     ]
    }
   ],
   "source": [
    "start = time.time()\n",
    "from cython_dot import dot_product\n",
    "vec1 = [x for x in range(100000000)]\n",
    "vec2 = [x for x in range(100000000)]\n",
    "print(dot_product(vec1,vec2))\n",
    "end = time.time()\n",
    "print(\"Elaspsed time: \", end-start)"
   ]
  },
  {
   "cell_type": "markdown",
   "metadata": {
    "collapsed": true
   },
   "source": [
    "How can we make Cython implementation even faster? use less python's generic data structures and more numpy arrays!\n",
    "Change the cython_dot.pyx file to look like:\n",
    "\n",
    "```python\n",
    "cimport cython\n",
    "import numpy as np\n",
    "cimport numpy as np\n",
    "\n",
    "DTYPE = np.float64\n",
    "ctypedef np.float64_t DTYPE_t\n",
    "\n",
    "@cython.boundscheck(False) # Will not check indexing, so ensure indices are valid and non-negative\n",
    "@cython.wraparound(False) # Will not allow negative indexing\n",
    "@cython.cdivision(True) # Will not check for division by zero\n",
    "def dot_product(np.ndarray[DTYPE_t, ndim=1] vec1, np.ndarray[DTYPE_t, ndim=1] vec2):\n",
    "    cdef float result = 0.0\n",
    "    cdef unsigned int i\n",
    "    cdef unsigned int n = vec1.shape[0]\n",
    "\n",
    "    for i in range(n):\n",
    "        result += vec1[i]*vec2[i]\n",
    "\n",
    "    return result\n",
    "```   \n",
    "\n",
    "and change the cython_setup.py to looks like this:\n",
    "\n",
    "```python\n",
    "#!/usr/bin/env python3\n",
    "\n",
    "from distutils.core import setup\n",
    "from Cython.Build import cythonize\n",
    "import numpy as np\n",
    "\n",
    "setup(\n",
    "  name = 'my dot',\n",
    "  ext_modules = cythonize(\"cython_dot2.pyx\"),\n",
    "  include_dirs = [np.get_include()]\n",
    ")\n",
    "```\n",
    "\n",
    "rebuild the shared object, and rerun:"
   ]
  },
  {
   "cell_type": "code",
   "execution_count": 26,
   "metadata": {
    "collapsed": false
   },
   "outputs": [
    {
     "name": "stdout",
     "output_type": "stream",
     "text": [
      "2.4287628162912635e+23\n",
      "Elaspsed time:  8.972913026809692\n"
     ]
    }
   ],
   "source": [
    "start = time.time()\n",
    "import numpy as np\n",
    "from cython_dot2 import dot_product\n",
    "vec1 = np.arange(100000000,dtype=float)\n",
    "vec2 = np.arange(100000000,dtype=float)\n",
    "print(dot_product(vec1,vec2))\n",
    "end = time.time()\n",
    "print(\"Elaspsed time: \", end-start)"
   ]
  },
  {
   "cell_type": "code",
   "execution_count": 27,
   "metadata": {
    "collapsed": false
   },
   "outputs": [
    {
     "name": "stdout",
     "output_type": "stream",
     "text": [
      "2.4287628162912635e+23\n",
      "Elaspsed time:  0.9875469207763672\n"
     ]
    }
   ],
   "source": [
    "#no recompile with fast math and O3\n",
    "\n",
    "start = time.time()\n",
    "import numpy as np\n",
    "from cython_dot2 import dot_product\n",
    "vec1 = np.arange(100000000,dtype=float)\n",
    "vec2 = np.arange(100000000,dtype=float)\n",
    "print(dot_product(vec1,vec2))\n",
    "end = time.time()\n",
    "print(\"Elaspsed time: \", end-start)"
   ]
  },
  {
   "cell_type": "markdown",
   "metadata": {},
   "source": [
    "Finally, try with OpenMP\n",
    "https://clang-omp.github.io"
   ]
  },
  {
   "cell_type": "code",
   "execution_count": null,
   "metadata": {
    "collapsed": true
   },
   "outputs": [],
   "source": []
  },
  {
   "cell_type": "code",
   "execution_count": null,
   "metadata": {
    "collapsed": true
   },
   "outputs": [],
   "source": []
  }
 ],
 "metadata": {
  "anaconda-cloud": {},
  "kernelspec": {
   "display_name": "Python [conda env:BDcourseFall2016]",
   "language": "python",
   "name": "conda-env-BDcourseFall2016-py"
  },
  "language_info": {
   "codemirror_mode": {
    "name": "ipython",
    "version": 2
   },
   "file_extension": ".py",
   "mimetype": "text/x-python",
   "name": "python",
   "nbconvert_exporter": "python",
   "pygments_lexer": "ipython2",
   "version": "2.7.12"
  }
 },
 "nbformat": 4,
 "nbformat_minor": 0
}
