{
 "cells": [
  {
   "cell_type": "markdown",
   "metadata": {},
   "source": [
    "# Parallel computing with Python\n",
    "\n",
    "https://docs.python.org/2/library/multiprocessing.html\n",
    "\n",
    "We have seen how one can use OpenMP and shared memory programming to parallelized python code (well, Cython).\n",
    "\n",
    "## Multiprocessing library\n",
    "\n",
    "**multiprocessing** allows to utilize multiple processors on a given machine. It introduces a Pool object which offers a means of parallelizing the execution of a function across multiple input values, distributing the input data across processes (**data parallelism**). \n",
    "\n",
    "### Pool class\n",
    "\n",
    "This basic example of data parallelism using the Pool class:"
   ]
  },
  {
   "cell_type": "code",
   "execution_count": 2,
   "metadata": {
    "collapsed": false
   },
   "outputs": [
    {
     "name": "stdout",
     "output_type": "stream",
     "text": [
      "[1, 4, 9]\n",
      "4\n"
     ]
    }
   ],
   "source": [
    "import multiprocessing as mp\n",
    "\n",
    "def f(x):\n",
    "    return x*x\n",
    "\n",
    "if __name__ == '__main__':\n",
    "    #specify number of child processes to spawn, use <= number of processes available\n",
    "    nprocs = mp.cpu_count()\n",
    "    p = mp.Pool(nprocs)\n",
    "    print(p.map(f, [1, 2, 3, 4]))\n",
    "    print(mp.cpu_count())"
   ]
  },
  {
   "cell_type": "markdown",
   "metadata": {},
   "source": [
    "### Process and Queue classes\n",
    "\n",
    "In `multiprocessing`, individual processes are spawned by creating a `Process` object or sub-classing it.\n",
    "In the following example we are going to use the `multiprocessing.Queue` class which returns a process shared queue implemented using a pipe and a few locks. When a process first puts an item on the queue a feeder thread is started which transfers objects from a buffer into the pipe."
   ]
  },
  {
   "cell_type": "code",
   "execution_count": 6,
   "metadata": {
    "collapsed": false
   },
   "outputs": [
    {
     "name": "stdout",
     "output_type": "stream",
     "text": [
      "RESULT: Process idx=0 is called 'Worker-19'\n",
      "RESULT: Process idx=1 is called 'Worker-20'\n",
      "RESULT: Process idx=2 is called 'Worker-21'\n",
      "RESULT: Process idx=3 is called 'Worker-22'\n",
      "RESULT: Process idx=4 is called 'Worker-23'\n"
     ]
    }
   ],
   "source": [
    "from multiprocessing import Process, Queue\n",
    "\n",
    "class Worker(Process):\n",
    "\n",
    "    def __init__(self, queue, idx, data):\n",
    "        super(Worker, self).__init__()\n",
    "        self.queue = queue\n",
    "        self.idx = idx\n",
    "        self.data = data\n",
    "\n",
    "    def square(self):\n",
    "        self.data = map(lambda x: x*x, self.data)\n",
    "        return \"Process idx=%s is called '%s'\" % (self.idx, self.name)\n",
    "\n",
    "    def run(self):\n",
    "        self.queue.put(self.square())\n",
    "\n",
    "## Create a list to hold running Worker objects\n",
    "worker_processes = list()\n",
    "\n",
    "if __name__ == \"__main__\":\n",
    "\n",
    "    data = [1,2,3,4]  \n",
    "    q = Queue()\n",
    "    for i in range(0,5):\n",
    "        p=Worker(queue=q, idx=i,data=data)\n",
    "        worker_processes.append(p)\n",
    "        p.start()\n",
    "    for proc in worker_processes:\n",
    "        proc.join()\n",
    "        print \"RESULT: %s\" % q.get()"
   ]
  },
  {
   "cell_type": "markdown",
   "metadata": {},
   "source": [
    "## Joblib library\n",
    "\n",
    "https://pythonhosted.org/joblib/\n",
    "\n",
    "Joblib is a set of tools to provide data parallelism and pipelining in Python. \n",
    "\n",
    "joblib offers:\n",
    "   1. disk-caching of the output values and lazy re-evaluation\n",
    "   1. easy simple parallel computing\n",
    "\n",
    "Let us go back to our dot poroduct example, and we will assume that we need to perfrom this to a list of vectors."
   ]
  },
  {
   "cell_type": "code",
   "execution_count": 9,
   "metadata": {
    "collapsed": false
   },
   "outputs": [
    {
     "ename": "ImportError",
     "evalue": "No module named cython_dot2",
     "output_type": "error",
     "traceback": [
      "\u001b[0;31m---------------------------------------------------------------------------\u001b[0m",
      "\u001b[0;31mImportError\u001b[0m                               Traceback (most recent call last)",
      "\u001b[0;32m<ipython-input-9-868d873e3157>\u001b[0m in \u001b[0;36m<module>\u001b[0;34m()\u001b[0m\n\u001b[1;32m      1\u001b[0m \u001b[0;32mimport\u001b[0m \u001b[0mnumpy\u001b[0m \u001b[0;32mas\u001b[0m \u001b[0mnp\u001b[0m\u001b[0;34m\u001b[0m\u001b[0m\n\u001b[0;32m----> 2\u001b[0;31m \u001b[0;32mfrom\u001b[0m \u001b[0mcython_dot2\u001b[0m \u001b[0;32mimport\u001b[0m \u001b[0mdot_product\u001b[0m\u001b[0;34m\u001b[0m\u001b[0m\n\u001b[0m\u001b[1;32m      3\u001b[0m \u001b[0;34m\u001b[0m\u001b[0m\n\u001b[1;32m      4\u001b[0m \u001b[0mNvectors\u001b[0m \u001b[0;34m=\u001b[0m \u001b[0;36m10\u001b[0m\u001b[0;34m\u001b[0m\u001b[0m\n\u001b[1;32m      5\u001b[0m \u001b[0mresults\u001b[0m \u001b[0;34m=\u001b[0m \u001b[0mlist\u001b[0m\u001b[0;34m(\u001b[0m\u001b[0;34m)\u001b[0m\u001b[0;34m\u001b[0m\u001b[0m\n",
      "\u001b[0;31mImportError\u001b[0m: No module named cython_dot2"
     ]
    }
   ],
   "source": [
    "import numpy as np\n",
    "from cython_dot2 import dot_product\n",
    "\n",
    "Nvectors = 10\n",
    "results = list()\n",
    "\n",
    "for round in range(Nvectors):\n",
    "    vec1 = np.arange(100000000,dtype=float)\n",
    "    vec2 = np.arange(100000000,dtype=float)\n",
    "    results.append(dot_product(vec1,vec2))\n",
    "\n",
    "%time results "
   ]
  },
  {
   "cell_type": "code",
   "execution_count": 10,
   "metadata": {
    "collapsed": false
   },
   "outputs": [
    {
     "ename": "ImportError",
     "evalue": "No module named joblib",
     "output_type": "error",
     "traceback": [
      "\u001b[0;31m---------------------------------------------------------------------------\u001b[0m",
      "\u001b[0;31mImportError\u001b[0m                               Traceback (most recent call last)",
      "\u001b[0;32m<ipython-input-10-9e15056f6344>\u001b[0m in \u001b[0;36m<module>\u001b[0;34m()\u001b[0m\n\u001b[0;32m----> 1\u001b[0;31m \u001b[0;32mfrom\u001b[0m \u001b[0mjoblib\u001b[0m \u001b[0;32mimport\u001b[0m \u001b[0mParallel\u001b[0m\u001b[0;34m,\u001b[0m \u001b[0mdelayed\u001b[0m\u001b[0;34m\u001b[0m\u001b[0m\n\u001b[0m\u001b[1;32m      2\u001b[0m \u001b[0;32mimport\u001b[0m \u001b[0mmultiprocessing\u001b[0m\u001b[0;34m\u001b[0m\u001b[0m\n\u001b[1;32m      3\u001b[0m \u001b[0;32mimport\u001b[0m \u001b[0mnumpy\u001b[0m \u001b[0;32mas\u001b[0m \u001b[0mnp\u001b[0m\u001b[0;34m\u001b[0m\u001b[0m\n\u001b[1;32m      4\u001b[0m \u001b[0;32mfrom\u001b[0m \u001b[0mcython_dot2\u001b[0m \u001b[0;32mimport\u001b[0m \u001b[0mdot_product\u001b[0m\u001b[0;34m\u001b[0m\u001b[0m\n\u001b[1;32m      5\u001b[0m \u001b[0;34m\u001b[0m\u001b[0m\n",
      "\u001b[0;31mImportError\u001b[0m: No module named joblib"
     ]
    }
   ],
   "source": [
    "from joblib import Parallel, delayed  \n",
    "import multiprocessing\n",
    "import numpy as np\n",
    "from cython_dot2 import dot_product\n",
    "\n",
    "num_cores = 2 #multiprocessing.cpu_count()-1\n",
    "print(\"Running on \", num_cores, \" CPU cores\")\n",
    "\n",
    "Nvectors = 10\n",
    "results = list()\n",
    "\n",
    "def getProduct():\n",
    "    vec1 = np.arange(100000000,dtype=float)\n",
    "    vec2 = np.arange(100000000,dtype=float)\n",
    "    return dot_product(vec1,vec2)\n",
    "\n",
    "results = Parallel(n_jobs=num_cores)(delayed(getProduct)() for i in range(Nvectors))  \n",
    "\n",
    "%time results    "
   ]
  },
  {
   "cell_type": "code",
   "execution_count": null,
   "metadata": {
    "collapsed": true
   },
   "outputs": [],
   "source": []
  }
 ],
 "metadata": {
  "anaconda-cloud": {},
  "kernelspec": {
   "display_name": "Python [conda env:BDcourseFall2016]",
   "language": "python",
   "name": "conda-env-BDcourseFall2016-py"
  },
  "language_info": {
   "codemirror_mode": {
    "name": "ipython",
    "version": 2
   },
   "file_extension": ".py",
   "mimetype": "text/x-python",
   "name": "python",
   "nbconvert_exporter": "python",
   "pygments_lexer": "ipython2",
   "version": "2.7.12"
  }
 },
 "nbformat": 4,
 "nbformat_minor": 0
}
