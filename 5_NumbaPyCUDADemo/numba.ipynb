{
 "cells": [
  {
   "cell_type": "code",
   "execution_count": null,
   "metadata": {
    "collapsed": true,
    "slideshow": {
     "slide_type": "slide"
    }
   },
   "outputs": [],
   "source": [
    "import numba"
   ]
  },
  {
   "cell_type": "code",
   "execution_count": null,
   "metadata": {
    "collapsed": true,
    "slideshow": {
     "slide_type": "fragment"
    }
   },
   "outputs": [],
   "source": [
    "def pyfunc(x):\n",
    "    return 3.0*x**2 + 2.0*x + 1.0\n",
    "\n",
    "pyfunc(3.14)"
   ]
  },
  {
   "cell_type": "code",
   "execution_count": null,
   "metadata": {
    "collapsed": true,
    "slideshow": {
     "slide_type": "fragment"
    }
   },
   "outputs": [],
   "source": [
    "# a compiled function that has no Python objects in the body,\n",
    "# but it can be used in Python because it interprets Python on the way in\n",
    "@numba.jit(nopython=True)\n",
    "def fastfunc(x):\n",
    "    return 3.0*x**2 + 2.0*x + 1.0\n",
    "\n",
    "fastfunc(3.14)"
   ]
  },
  {
   "cell_type": "code",
   "execution_count": null,
   "metadata": {
    "collapsed": true,
    "slideshow": {
     "slide_type": "slide"
    }
   },
   "outputs": [],
   "source": [
    "# have to provide a signature: \"double (double, void*)\"\n",
    "sig = numba.types.double(numba.types.double,\n",
    "                         numba.types.CPointer(numba.types.void))\n",
    "# a pure C function that doesn't interpret Python arguments\n",
    "@numba.cfunc(sig, nopython=True)\n",
    "def cfunc(x, params):\n",
    "    return 3.0*x**2 + 2.0*x + 1.0\n",
    "\n",
    "cfunc(3.14)   # should raise an error"
   ]
  },
  {
   "cell_type": "code",
   "execution_count": null,
   "metadata": {
    "collapsed": true,
    "slideshow": {
     "slide_type": "slide"
    }
   },
   "outputs": [],
   "source": [
    "# we get a function pointer instead\n",
    "cfunc.address"
   ]
  },
  {
   "cell_type": "code",
   "execution_count": null,
   "metadata": {
    "collapsed": true,
    "slideshow": {
     "slide_type": "fragment"
    }
   },
   "outputs": [],
   "source": [
    "# just to verify that this pointer works, get ctypes to use it\n",
    "import ctypes\n",
    "\n",
    "func_type = ctypes.CFUNCTYPE(ctypes.c_double, ctypes.c_double, ctypes.POINTER(None))\n",
    "\n",
    "func_type(cfunc.address)(3.14, None)"
   ]
  },
  {
   "cell_type": "markdown",
   "metadata": {
    "slideshow": {
     "slide_type": "fragment"
    }
   },
   "source": [
    "Now look up the `gsl_deriv_central` example in [ctypes.ipynb](ctypes.ipynb) and repeat it here with a Numba function pointer (pure native), rather than a ctypes function pointer (entry point into Python).\n",
    "\n",
    "If that's too easy, find a highly iterative functional in the [GNU Scientific Library](https://www.gnu.org/software/gsl/) and show that the Numba function pointer is much faster than the ctypes one. Minimization of a very bumpy function would be a good test."
   ]
  }
 ],
 "metadata": {
  "celltoolbar": "Slideshow",
  "kernelspec": {
   "display_name": "Python 2",
   "language": "python",
   "name": "python2"
  },
  "language_info": {
   "codemirror_mode": {
    "name": "ipython",
    "version": 2
   },
   "file_extension": ".py",
   "mimetype": "text/x-python",
   "name": "python",
   "nbconvert_exporter": "python",
   "pygments_lexer": "ipython2",
   "version": "2.7.14"
  }
 },
 "nbformat": 4,
 "nbformat_minor": 1
}
