{
 "cells": [
  {
   "cell_type": "markdown",
   "metadata": {},
   "source": [
    "# Purpose of the course\n",
    "\n",
    "The purpose of the course is to expose students to computational concepts, tools, and skills useful for\n",
    "research in computational science and engineering, beyond what is learned in a first programming\n",
    "course.\n",
    "\n",
    "In addition, it show how to take advantage of Princeton University computing resources\n",
    "\n",
    "# Role of Computing in Science and Engineering\n",
    "\n",
    "Computation has joined experiment and theory to become the third component of science.\n",
    "Nowadays, even social scientist need computing resources to carry out their research and extract meangful insights.\n",
    "\n",
    "Three stages of scientific computing might be identified as:\n",
    "\n",
    "1) model building: produces equations\n",
    "\n",
    "2) simulation/experiment: produces data\n",
    "\n",
    "3) analysis and visulaization \n",
    "\n",
    "\n",
    "# Installing Python on different operating systems \n",
    "\n",
    "Most of the applications I am currently developing or working with are in Python2 (as probably for most of those who have used Python in the past). \n",
    "\n",
    "<img src=\"graphics/pythons.png\">\n",
    "\n",
    "Python3 and Python2 are not strictly speaking backwards compatible, and Python2 has better library support as of now, but Python3 is definitely ready as a language and eventually it will supersede the Python2.\n",
    "\n",
    "You can just install Python3 along side with Python2 on your laptop for the course (both Python2 and Python3 are already available on our Princeton clusters). You can create an isolated anaconda environment for this course (I will provide the details on what packages are we going to need) with no harm for your Python2.\n",
    "\n",
    "Most of the things we will discuss during the course are applicable for Python2 as well, so it will be useful in any case.\n",
    "\n",
    "\n",
    "# Python development environments\n",
    "\n",
    "For this course, I will use iPython notebook and occasionally I will resort to the command line and vim text editor.\n",
    "I will asume you do the same.\n",
    "\n",
    "You can refer to the following wikipedia entry to learn about various development environments you can use with Python: http://en.wikipedia.org/wiki/Integrated_development_environment.\n",
    "\n",
    "An integrated development environment (IDE) includes language-aware editors, compilers/interpreters,\n",
    "build systems, debuggers, etc.\n",
    "1) IDLE is an example of a Python-specific IDE.\n",
    "\n",
    "2) Microsoft Visual Studio and Xcode (for OS X) each support several programming languages.\n",
    "\n",
    "3) The best examples of multi-language cross-platform IDEs are Eclipse and Netbeans, though the latter does not currently support Python."
   ]
  },
  {
   "cell_type": "code",
   "execution_count": null,
   "metadata": {
    "collapsed": true
   },
   "outputs": [],
   "source": []
  }
 ],
 "metadata": {
  "kernelspec": {
   "display_name": "Python 3",
   "language": "python",
   "name": "python3"
  },
  "language_info": {
   "codemirror_mode": {
    "name": "ipython",
    "version": 3
   },
   "file_extension": ".py",
   "mimetype": "text/x-python",
   "name": "python",
   "nbconvert_exporter": "python",
   "pygments_lexer": "ipython3",
   "version": "3.5.1"
  }
 },
 "nbformat": 4,
 "nbformat_minor": 0
}
