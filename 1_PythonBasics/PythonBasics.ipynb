{
 "cells": [
  {
   "cell_type": "markdown",
   "metadata": {},
   "source": [
    "# Python basics: recap\n",
    "\n",
    "To get started, let us take a deep dive into Python and write our first script. We will calculate a factorial of an integer in a few different ways. \n",
    "\n",
    "Here, you will learn about:\n",
    "##### How to use of significant whitespace\n",
    "##### Writing basic for loops\n",
    "##### Importing from python standard library\n",
    "\n",
    "\n",
    "## Recursive implementation of n-factorial"
   ]
  },
  {
   "cell_type": "code",
   "execution_count": 1,
   "metadata": {
    "collapsed": false
   },
   "outputs": [
    {
     "name": "stdout",
     "output_type": "stream",
     "text": [
      "Calculate factorial with a for-loop\n",
      "6\n",
      "Calculate factorial using a recursive call\n",
      "6\n"
     ]
    }
   ],
   "source": [
    "from __future__ import print_function\n",
    "\n",
    "def simple_factorial(n):\n",
    "    result = 1\n",
    "    for i in range(2,n+1):\n",
    "        result *= i\n",
    "    return result\n",
    "\n",
    "print(\"Calculate factorial with a for-loop\")\n",
    "print(simple_factorial(3))\n",
    "\n",
    "def recursive_factorial(n):\n",
    "    if n == 0:\n",
    "        return 1\n",
    "    else:\n",
    "        return n * recursive_factorial(n-1)\n",
    "\n",
    "print(\"Calculate factorial using a recursive call\")\n",
    "print(recursive_factorial(3))    "
   ]
  },
  {
   "cell_type": "markdown",
   "metadata": {},
   "source": [
    "# Calculcte n-factorial using Python standard library \n",
    "\n",
    "<img src=\"../graphics/std_lib.png\">"
   ]
  },
  {
   "cell_type": "code",
   "execution_count": 2,
   "metadata": {
    "collapsed": false
   },
   "outputs": [
    {
     "name": "stdout",
     "output_type": "stream",
     "text": [
      "6\n"
     ]
    }
   ],
   "source": [
    "from math import factorial\n",
    "#from math import *\n",
    "#import math\n",
    "#import as math as my\n",
    "\n",
    "print(factorial(3))"
   ]
  },
  {
   "cell_type": "markdown",
   "metadata": {},
   "source": [
    "# Python coding best practices and Python Enhancement Proposals\n",
    "\n",
    "Coding style matters. I would strongly recommend evryone to spend some time and get acquianted with basic Python rules formulated in the Zen of Python:"
   ]
  },
  {
   "cell_type": "code",
   "execution_count": 3,
   "metadata": {
    "collapsed": false
   },
   "outputs": [
    {
     "name": "stdout",
     "output_type": "stream",
     "text": [
      "The Zen of Python, by Tim Peters\n",
      "\n",
      "Beautiful is better than ugly.\n",
      "Explicit is better than implicit.\n",
      "Simple is better than complex.\n",
      "Complex is better than complicated.\n",
      "Flat is better than nested.\n",
      "Sparse is better than dense.\n",
      "Readability counts.\n",
      "Special cases aren't special enough to break the rules.\n",
      "Although practicality beats purity.\n",
      "Errors should never pass silently.\n",
      "Unless explicitly silenced.\n",
      "In the face of ambiguity, refuse the temptation to guess.\n",
      "There should be one-- and preferably only one --obvious way to do it.\n",
      "Although that way may not be obvious at first unless you're Dutch.\n",
      "Now is better than never.\n",
      "Although never is often better than *right* now.\n",
      "If the implementation is hard to explain, it's a bad idea.\n",
      "If the implementation is easy to explain, it may be a good idea.\n",
      "Namespaces are one honking great idea -- let's do more of those!\n"
     ]
    }
   ],
   "source": [
    "import this"
   ]
  },
  {
   "cell_type": "markdown",
   "metadata": {},
   "source": [
    "**As well as more advanced PEPs:** https://www.python.org/dev/peps/"
   ]
  },
  {
   "cell_type": "markdown",
   "metadata": {},
   "source": [
    "# Python scalar types\n",
    "\n",
    "Variables are nothing but reserved memory locations to store values. This means that when you create a variable you reserve some space in memory.\n",
    "\n",
    "Based on the data type of a variable, the interpreter allocates memory and decides what can be stored in the reserved memory. Therefore, by assigning different data types to variables, you can store integers, decimals or characters in these variables.\n",
    "\n",
    "There are four **scalar** fundamental types supported in Python: \n",
    "*Int*, *long*, *Float*, *Bool* and *None*\n",
    "\n",
    "<img src=\"../graphics/int.png\">\n",
    "\n",
    "Python has arbitrary precision integers so there is no true fixed maximum. You're only limited by available memory."
   ]
  },
  {
   "cell_type": "code",
   "execution_count": 4,
   "metadata": {
    "collapsed": false
   },
   "outputs": [
    {
     "data": {
      "text/plain": [
       "10"
      ]
     },
     "execution_count": 4,
     "metadata": {},
     "output_type": "execute_result"
    }
   ],
   "source": [
    "# Integers are implemented using long in C, which gives them at least 32 bits of precision\n",
    "10"
   ]
  },
  {
   "cell_type": "code",
   "execution_count": 5,
   "metadata": {
    "collapsed": false
   },
   "outputs": [
    {
     "data": {
      "text/plain": [
       "int"
      ]
     },
     "execution_count": 5,
     "metadata": {},
     "output_type": "execute_result"
    }
   ],
   "source": [
    "type(10)"
   ]
  },
  {
   "cell_type": "code",
   "execution_count": 6,
   "metadata": {
    "collapsed": false
   },
   "outputs": [
    {
     "data": {
      "text/plain": [
       "10L"
      ]
     },
     "execution_count": 6,
     "metadata": {},
     "output_type": "execute_result"
    }
   ],
   "source": [
    "#Unlimited precision\n",
    "long(10)\n",
    "\n",
    "#In Python3 int and long were unified into a single arbitrary precision int type."
   ]
  },
  {
   "cell_type": "code",
   "execution_count": 7,
   "metadata": {
    "collapsed": false
   },
   "outputs": [
    {
     "data": {
      "text/plain": [
       "2"
      ]
     },
     "execution_count": 7,
     "metadata": {},
     "output_type": "execute_result"
    }
   ],
   "source": [
    "#binary representation of integers\n",
    "0b10"
   ]
  },
  {
   "cell_type": "code",
   "execution_count": 8,
   "metadata": {
    "collapsed": false
   },
   "outputs": [
    {
     "data": {
      "text/plain": [
       "8"
      ]
     },
     "execution_count": 8,
     "metadata": {},
     "output_type": "execute_result"
    }
   ],
   "source": [
    "#octal\n",
    "0o10"
   ]
  },
  {
   "cell_type": "code",
   "execution_count": 9,
   "metadata": {
    "collapsed": false
   },
   "outputs": [
    {
     "data": {
      "text/plain": [
       "16"
      ]
     },
     "execution_count": 9,
     "metadata": {},
     "output_type": "execute_result"
    }
   ],
   "source": [
    "#hexadecimal\n",
    "0x10"
   ]
  },
  {
   "cell_type": "markdown",
   "metadata": {},
   "source": [
    "<img src=\"../graphics/bool.png\">\n",
    "\n",
    "Bool is a subtype of integer."
   ]
  },
  {
   "cell_type": "code",
   "execution_count": 15,
   "metadata": {
    "collapsed": false
   },
   "outputs": [
    {
     "data": {
      "text/plain": [
       "False"
      ]
     },
     "execution_count": 15,
     "metadata": {},
     "output_type": "execute_result"
    }
   ],
   "source": [
    "bool(0)"
   ]
  },
  {
   "cell_type": "code",
   "execution_count": 16,
   "metadata": {
    "collapsed": false
   },
   "outputs": [
    {
     "data": {
      "text/plain": [
       "bool"
      ]
     },
     "execution_count": 16,
     "metadata": {},
     "output_type": "execute_result"
    }
   ],
   "source": [
    "type(False)"
   ]
  },
  {
   "cell_type": "code",
   "execution_count": 17,
   "metadata": {
    "collapsed": false
   },
   "outputs": [
    {
     "data": {
      "text/plain": [
       "True"
      ]
     },
     "execution_count": 17,
     "metadata": {},
     "output_type": "execute_result"
    }
   ],
   "source": [
    "bool(1)"
   ]
  },
  {
   "cell_type": "code",
   "execution_count": 18,
   "metadata": {
    "collapsed": false
   },
   "outputs": [
    {
     "data": {
      "text/plain": [
       "False"
      ]
     },
     "execution_count": 18,
     "metadata": {},
     "output_type": "execute_result"
    }
   ],
   "source": [
    "bool(\"\")"
   ]
  },
  {
   "cell_type": "code",
   "execution_count": 19,
   "metadata": {
    "collapsed": false
   },
   "outputs": [
    {
     "data": {
      "text/plain": [
       "True"
      ]
     },
     "execution_count": 19,
     "metadata": {},
     "output_type": "execute_result"
    }
   ],
   "source": [
    "bool(\"zero\")"
   ]
  },
  {
   "cell_type": "markdown",
   "metadata": {},
   "source": [
    "<img src=\"../graphics/none.png\"> "
   ]
  },
  {
   "cell_type": "code",
   "execution_count": 20,
   "metadata": {
    "collapsed": false
   },
   "outputs": [
    {
     "data": {
      "text/plain": [
       "NoneType"
      ]
     },
     "execution_count": 20,
     "metadata": {},
     "output_type": "execute_result"
    }
   ],
   "source": [
    "type(None)"
   ]
  },
  {
   "cell_type": "markdown",
   "metadata": {},
   "source": [
    "<img src=\"../graphics/float.png\">"
   ]
  },
  {
   "cell_type": "code",
   "execution_count": 21,
   "metadata": {
    "collapsed": false
   },
   "outputs": [
    {
     "data": {
      "text/plain": [
       "float"
      ]
     },
     "execution_count": 21,
     "metadata": {},
     "output_type": "execute_result"
    }
   ],
   "source": [
    "type(3.)"
   ]
  },
  {
   "cell_type": "code",
   "execution_count": 23,
   "metadata": {
    "collapsed": false
   },
   "outputs": [
    {
     "data": {
      "text/plain": [
       "sys.float_info(max=1.7976931348623157e+308, max_exp=1024, max_10_exp=308, min=2.2250738585072014e-308, min_exp=-1021, min_10_exp=-307, dig=15, mant_dig=53, epsilon=2.220446049250313e-16, radix=2, rounds=1)"
      ]
     },
     "execution_count": 23,
     "metadata": {},
     "output_type": "execute_result"
    }
   ],
   "source": [
    "import sys\n",
    "sys.float_info"
   ]
  },
  {
   "cell_type": "markdown",
   "metadata": {},
   "source": [
    "# Interacting Between Different Variable Types\n",
    "\n",
    "Beware of integer division with Python 2. Unlike R, Python 2 doesn't assume that everything is a float unless explicitly told; it recognises that 2 is an integer, and this can be good and bad. In Python 3, we don't need to worry about this; the following code was run under a Python 3 kernel, but test it under Python 2 to see the difference."
   ]
  },
  {
   "cell_type": "code",
   "execution_count": 10,
   "metadata": {
    "collapsed": false
   },
   "outputs": [
    {
     "name": "stdout",
     "output_type": "stream",
     "text": [
      "<type 'int'> <type 'float'>\n"
     ]
    }
   ],
   "source": [
    "myint = 2\n",
    "myfloat = 3.14\n",
    "print(type(myint), type(myfloat))"
   ]
  },
  {
   "cell_type": "code",
   "execution_count": 11,
   "metadata": {
    "collapsed": false
   },
   "outputs": [
    {
     "name": "stdout",
     "output_type": "stream",
     "text": [
      "6.28\n",
      "<type 'float'>\n"
     ]
    }
   ],
   "source": [
    "# Multiplying an int with a float gives a float : the int was promoted.\n",
    "print(myint * myfloat)\n",
    "print(type(myint * myfloat))"
   ]
  },
  {
   "cell_type": "code",
   "execution_count": 12,
   "metadata": {
    "collapsed": false
   },
   "outputs": [
    {
     "name": "stdout",
     "output_type": "stream",
     "text": [
      "2\n"
     ]
    }
   ],
   "source": [
    "# A minor difference between Python 2 and Python 3 :\n",
    "print(7 / 3)\n",
    "# Py2 : 2\n",
    "# Py3 : 2.3333"
   ]
  },
  {
   "cell_type": "code",
   "execution_count": 13,
   "metadata": {
    "collapsed": false
   },
   "outputs": [
    {
     "name": "stdout",
     "output_type": "stream",
     "text": [
      "<type 'int'>\n"
     ]
    }
   ],
   "source": [
    "# In Python 2, operations between same type gives the same type :\n",
    "print(type(7 / 3))\n",
    "# Py2 : <type 'int'>\n",
    "# Py3 : <class 'float'>"
   ]
  },
  {
   "cell_type": "code",
   "execution_count": 14,
   "metadata": {
    "collapsed": false
   },
   "outputs": [
    {
     "name": "stdout",
     "output_type": "stream",
     "text": [
      "2.33333333333\n",
      "2.33333333333\n"
     ]
    }
   ],
   "source": [
    "# Quick hack with ints to floats - there's no need to typecast, just give it a float \n",
    "print(float(7) / 3)\n",
    "print(7 / 3.0)"
   ]
  },
  {
   "cell_type": "code",
   "execution_count": 15,
   "metadata": {
    "collapsed": false
   },
   "outputs": [
    {
     "name": "stdout",
     "output_type": "stream",
     "text": [
      "2\n"
     ]
    }
   ],
   "source": [
    "# In Python 3, this is handled \"correctly\"; you can use // as integer division\n",
    "print(7 // 3)"
   ]
  },
  {
   "cell_type": "code",
   "execution_count": 16,
   "metadata": {
    "collapsed": false
   },
   "outputs": [
    {
     "name": "stdout",
     "output_type": "stream",
     "text": [
      "2.33333333333\n"
     ]
    }
   ],
   "source": [
    "# Quick note for Py2 users - see https://www.python.org/dev/peps/pep-0238/\n",
    "from __future__ import division\n",
    "print(7 / 3)"
   ]
  },
  {
   "cell_type": "markdown",
   "metadata": {},
   "source": [
    "# Relational operators  \n",
    "\n",
    "<img src=\"../graphics/rel_ops.png\">"
   ]
  },
  {
   "cell_type": "code",
   "execution_count": 17,
   "metadata": {
    "collapsed": false
   },
   "outputs": [
    {
     "name": "stdout",
     "output_type": "stream",
     "text": [
      "var3 is greater than var1:  True\n",
      "var3 is greater or equal to var1:  True\n",
      "var1 is equal to vars:  True\n",
      "var1 is var2:  False\n"
     ]
    }
   ],
   "source": [
    "var1 = 2\n",
    "var2 = 2.\n",
    "var3 = 4.5\n",
    "\n",
    "print(\"var3 is greater than var1: \", var3 > var1)\n",
    "print(\"var3 is greater or equal to var1: \", var3 >= var1)\n",
    "print(\"var1 is equal to vars: \", var1 == var2)\n",
    "print(\"var1 is var2: \", var1 is var2)"
   ]
  },
  {
   "cell_type": "markdown",
   "metadata": {},
   "source": [
    "# Conditional statements: if, elif, else"
   ]
  },
  {
   "cell_type": "code",
   "execution_count": 18,
   "metadata": {
    "collapsed": false
   },
   "outputs": [
    {
     "name": "stdout",
     "output_type": "stream",
     "text": [
      "x is greater than 3.\n",
      "We can see this, it's not in the if statement.\n"
     ]
    }
   ],
   "source": [
    "x = 5\n",
    "\n",
    "if x > 3 :\n",
    "    print(\"x is greater than 3.\")\n",
    "    \n",
    "elif x == 5 :\n",
    "    print(\"We aren't going to see this. Why ?\")\n",
    "    \n",
    "else :\n",
    "    print(\"x is not greater than 3.\")\n",
    "    \n",
    "print(\"We can see this, it's not in the if statement.\")"
   ]
  },
  {
   "cell_type": "markdown",
   "metadata": {},
   "source": [
    "# While loops, for loops and control flow "
   ]
  },
  {
   "cell_type": "code",
   "execution_count": 19,
   "metadata": {
    "collapsed": false
   },
   "outputs": [
    {
     "name": "stdout",
     "output_type": "stream",
     "text": [
      "BIG CLICK, outer loop change to 1\n",
      "*little click*, outer is still 1, and inner is 0.\n",
      "*little click*, outer is still 1, and inner is 1.\n",
      "*little click*, outer is still 1, and inner is 2.\n",
      "*little click*, outer is still 1, and inner is 3.\n",
      "BIG CLICK, outer loop change to 2\n",
      "*little click*, outer is still 2, and inner is 0.\n",
      "*little click*, outer is still 2, and inner is 1.\n",
      "*little click*, outer is still 2, and inner is 2.\n",
      "*little click*, outer is still 2, and inner is 3.\n",
      "I'm done here.\n"
     ]
    }
   ],
   "source": [
    "for outer in range(1, 3) :\n",
    "    print(\"BIG CLICK, outer loop change to {}\".format(outer))\n",
    "    \n",
    "    for inner in range(4) :\n",
    "        print(\"*little click*, outer is still {}, and inner is {}.\".format(outer, inner))\n",
    "        \n",
    "print(\"I'm done here.\")"
   ]
  },
  {
   "cell_type": "code",
   "execution_count": 20,
   "metadata": {
    "collapsed": false
   },
   "outputs": [
    {
     "name": "stdout",
     "output_type": "stream",
     "text": [
      "BIG CLICK, outer loop change to 1\n",
      "*little click*, outer is still 2, and inner is 0.\n",
      "*little click*, outer is still 2, and inner is 1.\n",
      "*little click*, outer is still 2, and inner is 2.\n",
      "*little click*, outer is still 2, and inner is 3.\n",
      "BIG CLICK, outer loop change to 2\n",
      "*little click*, outer is still 3, and inner is 0.\n",
      "*little click*, outer is still 3, and inner is 1.\n",
      "*little click*, outer is still 3, and inner is 2.\n",
      "*little click*, outer is still 3, and inner is 3.\n",
      "I'm done here.\n"
     ]
    }
   ],
   "source": [
    "#Same code with the while loop\n",
    "outer_index = 1\n",
    "while outer_index < 3:\n",
    "    print(\"BIG CLICK, outer loop change to {}\".format(outer_index))\n",
    "    outer_index += 1\n",
    "    \n",
    "    inner_index = 0\n",
    "    while inner_index < 4:\n",
    "        print(\"*little click*, outer is still {}, and inner is {}.\".format(outer_index, inner_index))\n",
    "        inner_index += 1\n",
    "        \n",
    "print(\"I'm done here.\")"
   ]
  },
  {
   "cell_type": "code",
   "execution_count": 21,
   "metadata": {
    "collapsed": false
   },
   "outputs": [],
   "source": [
    "#Example of an infinite loop\n",
    "\n",
    "#while True:\n",
    "#    print (\"Looping!\")"
   ]
  },
  {
   "cell_type": "markdown",
   "metadata": {
    "collapsed": true
   },
   "source": [
    "# Strings and Bytes\n",
    "\n",
    "Strings in Python are identified as a contiguous set of characters represented in the quotation marks. Python allows for either pairs of single or double quotes. Subsets of strings can be taken using the slice operator ([ ] and [:] ) with indexes starting at 0 in the beginning of the string and working their way from -1 at the end.\n",
    "\n",
    "The plus (+) sign is the string concatenation operator and the asterisk (*) is the repetition operator. For example −"
   ]
  },
  {
   "cell_type": "code",
   "execution_count": 22,
   "metadata": {
    "collapsed": false
   },
   "outputs": [
    {
     "name": "stdout",
     "output_type": "stream",
     "text": [
      "Hello World!\n",
      "H\n",
      "llo\n",
      "llo World!\n",
      "Hello World!Hello World!\n",
      "Hello World!TEST\n"
     ]
    }
   ],
   "source": [
    "str = 'Hello World!'\n",
    "\n",
    "print(str)          # Prints complete string\n",
    "print(str[0])       # Prints first character of the string\n",
    "print(str[2:5])     # Prints characters starting from 3rd to 5th\n",
    "print(str[2:])      # Prints string starting from 3rd character\n",
    "print(str * 2)      # Prints string two times\n",
    "print(str + \"TEST\") # Prints concatenated string"
   ]
  },
  {
   "cell_type": "markdown",
   "metadata": {},
   "source": [
    "# Lists, Dictionaries, and Tuples\n",
    "\n",
    "## Python Lists\n",
    "\n",
    "Lists are the most versatile of Python's compound data types. A list contains items separated by commas and enclosed within square brackets ([]). To some extent, lists are similar to arrays in C. One difference between them is that all the items belonging to a list can be of different data type.\n",
    "\n",
    "The values stored in a list can be accessed using the slice operator ([ ] and [:]) with indexes starting at 0 in the beginning of the list and working their way to end -1. The plus (+) sign is the list concatenation operator, and the asterisk (*) is the repetition operator. For example −"
   ]
  },
  {
   "cell_type": "code",
   "execution_count": 23,
   "metadata": {
    "collapsed": false
   },
   "outputs": [
    {
     "name": "stdout",
     "output_type": "stream",
     "text": [
      "['abcd', 786, 2.23, 'john', 70.2]\n",
      "abcd\n",
      "[786, 2.23]\n",
      "[2.23, 'john', 70.2]\n",
      "[123, 'john', 123, 'john']\n",
      "['abcd', 786, 2.23, 'john', 70.2, 123, 'john']\n",
      "70.2\n"
     ]
    }
   ],
   "source": [
    "list = [ 'abcd', 786 , 2.23, 'john', 70.2 ]\n",
    "tinylist = [123, 'john']\n",
    "\n",
    "print(list)          # Prints complete list\n",
    "print(list[0])       # Prints first element of the list\n",
    "print(list[1:3])     # Prints elements starting from 2nd till 3rd \n",
    "print(list[2:])      # Prints elements starting from 3rd element\n",
    "print(tinylist * 2)  # Prints list two times\n",
    "print(list + tinylist) # Prints concatenated lists\n",
    "print(list[-1])"
   ]
  },
  {
   "cell_type": "markdown",
   "metadata": {},
   "source": [
    "# Python Tuples\n",
    "\n",
    "A tuple is another sequence data type that is similar to the list. A tuple consists of a number of values separated by commas. Unlike lists, however, tuples are enclosed within parentheses.\n",
    "\n",
    "The main differences between lists and tuples are: Lists are enclosed in brackets ( [ ] ) and their elements and size can be changed, while tuples are enclosed in parentheses ( ( ) ) and cannot be updated. Tuples can be thought of as read-only lists. For example −"
   ]
  },
  {
   "cell_type": "code",
   "execution_count": 24,
   "metadata": {
    "collapsed": false
   },
   "outputs": [
    {
     "name": "stdout",
     "output_type": "stream",
     "text": [
      "('abcd', 786, 2.23, 'john', 70.2)\n",
      "abcd\n",
      "(786, 2.23)\n",
      "(2.23, 'john', 70.2)\n",
      "(123, 'john', 123, 'john')\n",
      "('abcd', 786, 2.23, 'john', 70.2, 123, 'john')\n"
     ]
    }
   ],
   "source": [
    "tuple = ( 'abcd', 786 , 2.23, 'john', 70.2  )\n",
    "tinytuple = (123, 'john')\n",
    "\n",
    "print(tuple)           # Prints complete list\n",
    "print(tuple[0])        # Prints first element of the list\n",
    "print(tuple[1:3])      # Prints elements starting from 2nd till 3rd \n",
    "print(tuple[2:])       # Prints elements starting from 3rd element\n",
    "print(tinytuple * 2)   # Prints list two times\n",
    "print(tuple + tinytuple) # Prints concatenated lists"
   ]
  },
  {
   "cell_type": "markdown",
   "metadata": {},
   "source": [
    "The following code is invalid with tuple, because we attempted to update a tuple, which is not allowed. Similar case is possible with lists −"
   ]
  },
  {
   "cell_type": "code",
   "execution_count": 5,
   "metadata": {
    "collapsed": false
   },
   "outputs": [
    {
     "ename": "TypeError",
     "evalue": "'tuple' object does not support item assignment",
     "output_type": "error",
     "traceback": [
      "\u001b[0;31m---------------------------------------------------------------------------\u001b[0m",
      "\u001b[0;31mTypeError\u001b[0m                                 Traceback (most recent call last)",
      "\u001b[0;32m<ipython-input-5-9dccc7681e60>\u001b[0m in \u001b[0;36m<module>\u001b[0;34m()\u001b[0m\n\u001b[1;32m      1\u001b[0m \u001b[0mtuple\u001b[0m \u001b[0;34m=\u001b[0m \u001b[0;34m(\u001b[0m \u001b[0;34m'abcd'\u001b[0m\u001b[0;34m,\u001b[0m \u001b[0;36m786\u001b[0m \u001b[0;34m,\u001b[0m \u001b[0;36m2.23\u001b[0m\u001b[0;34m,\u001b[0m \u001b[0;34m'john'\u001b[0m\u001b[0;34m,\u001b[0m \u001b[0;36m70.2\u001b[0m  \u001b[0;34m)\u001b[0m\u001b[0;34m\u001b[0m\u001b[0m\n\u001b[1;32m      2\u001b[0m \u001b[0mlist\u001b[0m \u001b[0;34m=\u001b[0m \u001b[0;34m[\u001b[0m \u001b[0;34m'abcd'\u001b[0m\u001b[0;34m,\u001b[0m \u001b[0;36m786\u001b[0m \u001b[0;34m,\u001b[0m \u001b[0;36m2.23\u001b[0m\u001b[0;34m,\u001b[0m \u001b[0;34m'john'\u001b[0m\u001b[0;34m,\u001b[0m \u001b[0;36m70.2\u001b[0m  \u001b[0;34m]\u001b[0m\u001b[0;34m\u001b[0m\u001b[0m\n\u001b[0;32m----> 3\u001b[0;31m \u001b[0mtuple\u001b[0m\u001b[0;34m[\u001b[0m\u001b[0;36m2\u001b[0m\u001b[0;34m]\u001b[0m \u001b[0;34m=\u001b[0m \u001b[0;36m1000\u001b[0m    \u001b[0;31m# Invalid syntax with tuple\u001b[0m\u001b[0;34m\u001b[0m\u001b[0m\n\u001b[0m\u001b[1;32m      4\u001b[0m \u001b[0mlist\u001b[0m\u001b[0;34m[\u001b[0m\u001b[0;36m2\u001b[0m\u001b[0;34m]\u001b[0m \u001b[0;34m=\u001b[0m \u001b[0;36m1000\u001b[0m     \u001b[0;31m# Valid syntax with list\u001b[0m\u001b[0;34m\u001b[0m\u001b[0m\n",
      "\u001b[0;31mTypeError\u001b[0m: 'tuple' object does not support item assignment"
     ]
    }
   ],
   "source": [
    "tuple = ( 'abcd', 786 , 2.23, 'john', 70.2  )\n",
    "list = [ 'abcd', 786 , 2.23, 'john', 70.2  ]\n",
    "tuple[2] = 1000    # Invalid syntax with tuple\n",
    "list[2] = 1000     # Valid syntax with list"
   ]
  },
  {
   "cell_type": "markdown",
   "metadata": {},
   "source": [
    "# Python Dictionary\n",
    "\n",
    "Python's dictionaries are kind of hash table type. They work like associative arrays or hashes found in Perl and consist of key-value pairs. A dictionary key can be almost any Python type, but are usually numbers or strings. Values, on the other hand, can be any arbitrary Python object.\n",
    "\n",
    "Dictionaries are enclosed by curly braces ({ }) and values can be assigned and accessed using square braces ([]). For example −"
   ]
  },
  {
   "cell_type": "code",
   "execution_count": 7,
   "metadata": {
    "collapsed": false
   },
   "outputs": [
    {
     "name": "stdout",
     "output_type": "stream",
     "text": [
      "This is one\n",
      "This is two\n",
      "{'dept': 'sales', 'code': 6734, 'name': 'john'}\n",
      "['dept', 'code', 'name']\n",
      "['sales', 6734, 'john']\n"
     ]
    }
   ],
   "source": [
    "dict = {}\n",
    "dict['one'] = \"This is one\"\n",
    "dict[2]     = \"This is two\"\n",
    "\n",
    "tinydict = {'name': 'john','code':6734, 'dept': 'sales'}\n",
    "\n",
    "\n",
    "print(dict['one'])       # Prints value for 'one' key\n",
    "print(dict[2])           # Prints value for 2 key\n",
    "print(tinydict)         # Prints complete dictionary\n",
    "print(tinydict.keys())   # Prints all the keys\n",
    "print(tinydict.values()) # Prints all the values"
   ]
  },
  {
   "cell_type": "markdown",
   "metadata": {},
   "source": [
    "Dictionaries have no concept of order among elements. It is incorrect to say that the elements are \"out of order\"; they are simply unordered."
   ]
  },
  {
   "cell_type": "markdown",
   "metadata": {},
   "source": [
    "# Checkpoint 1\n",
    "\n",
    "### Write a Python code segment that constructs a list of (double-precision) floats with integer values from 0 to n.\n",
    "\n",
    "### For each of the types bool, int, float, str, tuple, list, NoneType, which value yields false in an if clause?\n",
    "\n",
    "### Give examples of two (builtin) types of objects that are mutable.\n",
    "\n",
    "### Illustrate how the * operator can be used to construct a list.\n",
    "\n",
    "### Illustrate how to access the last 4 characters of a string mystring.\n",
    "\n",
    "### Create a list of a thousand No's."
   ]
  },
  {
   "cell_type": "markdown",
   "metadata": {},
   "source": [
    "# Creating, running and importing a Python module\n",
    "\n",
    "Let us develop an example module in Python.\n",
    "\n",
    "<img src=\"../graphics/module.png\">\n",
    "\n",
    "Typically, the Python code is structured as shown above: we have multiple .py files - libraries and a main driver script where we import functions defined in the libraries from. Alternatively, one can simply import these functions from the Python REPL. We will talk more about Object Oriented Python later in this course.\n",
    "\n",
    "## Word count script\n",
    "We will use a simple word-count example for this section. "
   ]
  },
  {
   "cell_type": "code",
   "execution_count": 29,
   "metadata": {
    "collapsed": false
   },
   "outputs": [
    {
     "name": "stdout",
     "output_type": "stream",
     "text": [
      "[u'It', u'was', u'the', u'best', u'of', u'times', u'it', u'was', u'the', u'worst', u'of', u'times', u'it', u'was', u'the', u'age', u'of', u'wisdom', u'it', u'was', u'the', u'age', u'of', u'foolishness', u'it', u'was', u'the', u'epoch', u'of', u'belief', u'it', u'was', u'the', u'epoch', u'of', u'incredulity', u'it', u'was', u'the', u'season', u'of', u'Light', u'it', u'was', u'the', u'season', u'of', u'Darkness', u'it', u'was', u'the', u'spring', u'of', u'hope', u'it', u'was', u'the', u'winter', u'of', u'despair', u'we', u'had', u'everything', u'before', u'us', u'we', u'had', u'nothing', u'before', u'us', u'we', u'were', u'all', u'going', u'direct', u'to', u'Heaven', u'we', u'were', u'all', u'going', u'direct', u'the', u'other', u'way', u'in', u'short', u'the', u'period', u'was', u'so', u'far', u'like', u'the', u'present', u'period', u'that', u'some', u'of', u'its', u'noisiest', u'authorities', u'insisted', u'on', u'its', u'being', u'received', u'for', u'good', u'or', u'for', u'evil', u'in', u'the', u'superlative', u'degree', u'of', u'comparison', u'only']\n"
     ]
    }
   ],
   "source": [
    "from urllib2 import urlopen\n",
    "\n",
    "story = urlopen(\"http://sixty-north.com/c/t.txt\").read()\n",
    "story_words = []\n",
    "for line in story.split('\\n'):\n",
    "    line_words = line.decode(\"utf-8\").split()\n",
    "    for word in line_words:\n",
    "        story_words.append(word)\n",
    "            \n",
    "print(story_words)"
   ]
  },
  {
   "cell_type": "markdown",
   "metadata": {},
   "source": [
    "**Create a file in a text editor/Python IDE of your choice (I will use Vim)** Let us take this standalone function, and put it in a separate library file. You can call it **word_utils.py**. The contents of the file should be as follows:\n",
    "\n",
    "```python\n",
    "#Contents of the word_utils.py file\n",
    "\n",
    "#Add the mandatory shabeng line at the top of the file. It points to a default location of Python distrivtution, and tells that we ar eusing the python3\n",
    "\n",
    "#!/usr/bin/env python\n",
    "from urllib2 import urlopen\n",
    "\n",
    "def fetch_words():\n",
    "    story = urlopen(\"http://sixty-north.com/c/t.txt\").read()\n",
    "    story_words = []\n",
    "    for line in story.split('\\n'):\n",
    "        line_words = line.decode('utf-8').split()\n",
    "        for word in line_words:\n",
    "            story_words.append(word)\n",
    "    return story_words\n",
    "\n",
    "\n",
    "def print_items(items):\n",
    "    for item in items:\n",
    "        print item\n",
    "```   \n",
    "\n",
    "As you can see, we simply put an original code into a function, and removed the print statement under the `with` context manager adding an extra function to print items.\n",
    "\n",
    "## Test your module with Python REPL or iPython notebook\n",
    "\n",
    "Simply try and import the functions defined in the word_utils.py. There are various ways you can do it:"
   ]
  },
  {
   "cell_type": "code",
   "execution_count": 30,
   "metadata": {
    "collapsed": false
   },
   "outputs": [
    {
     "data": {
      "text/plain": [
       "[u'It',\n",
       " u'was',\n",
       " u'the',\n",
       " u'best',\n",
       " u'of',\n",
       " u'times',\n",
       " u'it',\n",
       " u'was',\n",
       " u'the',\n",
       " u'worst',\n",
       " u'of',\n",
       " u'times',\n",
       " u'it',\n",
       " u'was',\n",
       " u'the',\n",
       " u'age',\n",
       " u'of',\n",
       " u'wisdom',\n",
       " u'it',\n",
       " u'was',\n",
       " u'the',\n",
       " u'age',\n",
       " u'of',\n",
       " u'foolishness',\n",
       " u'it',\n",
       " u'was',\n",
       " u'the',\n",
       " u'epoch',\n",
       " u'of',\n",
       " u'belief',\n",
       " u'it',\n",
       " u'was',\n",
       " u'the',\n",
       " u'epoch',\n",
       " u'of',\n",
       " u'incredulity',\n",
       " u'it',\n",
       " u'was',\n",
       " u'the',\n",
       " u'season',\n",
       " u'of',\n",
       " u'Light',\n",
       " u'it',\n",
       " u'was',\n",
       " u'the',\n",
       " u'season',\n",
       " u'of',\n",
       " u'Darkness',\n",
       " u'it',\n",
       " u'was',\n",
       " u'the',\n",
       " u'spring',\n",
       " u'of',\n",
       " u'hope',\n",
       " u'it',\n",
       " u'was',\n",
       " u'the',\n",
       " u'winter',\n",
       " u'of',\n",
       " u'despair',\n",
       " u'we',\n",
       " u'had',\n",
       " u'everything',\n",
       " u'before',\n",
       " u'us',\n",
       " u'we',\n",
       " u'had',\n",
       " u'nothing',\n",
       " u'before',\n",
       " u'us',\n",
       " u'we',\n",
       " u'were',\n",
       " u'all',\n",
       " u'going',\n",
       " u'direct',\n",
       " u'to',\n",
       " u'Heaven',\n",
       " u'we',\n",
       " u'were',\n",
       " u'all',\n",
       " u'going',\n",
       " u'direct',\n",
       " u'the',\n",
       " u'other',\n",
       " u'way',\n",
       " u'in',\n",
       " u'short',\n",
       " u'the',\n",
       " u'period',\n",
       " u'was',\n",
       " u'so',\n",
       " u'far',\n",
       " u'like',\n",
       " u'the',\n",
       " u'present',\n",
       " u'period',\n",
       " u'that',\n",
       " u'some',\n",
       " u'of',\n",
       " u'its',\n",
       " u'noisiest',\n",
       " u'authorities',\n",
       " u'insisted',\n",
       " u'on',\n",
       " u'its',\n",
       " u'being',\n",
       " u'received',\n",
       " u'for',\n",
       " u'good',\n",
       " u'or',\n",
       " u'for',\n",
       " u'evil',\n",
       " u'in',\n",
       " u'the',\n",
       " u'superlative',\n",
       " u'degree',\n",
       " u'of',\n",
       " u'comparison',\n",
       " u'only']"
      ]
     },
     "execution_count": 30,
     "metadata": {},
     "output_type": "execute_result"
    }
   ],
   "source": [
    "import word_utils\n",
    "word_utils.fetch_words()"
   ]
  },
  {
   "cell_type": "markdown",
   "metadata": {},
   "source": [
    "We will make one quick change to our code: remove hardcoded URL from the body of the function, replacing it with a url string parameter. Making out functions look like:\n",
    "\n",
    "```python\n",
    "from urllib2 import urlopen\n",
    "\n",
    "def fetch_words(url):\n",
    "    story = urlopen(url).read()\n",
    "    story_words = []\n",
    "    for line in story.split('\\n'):\n",
    "        line_words = line.decode('utf-8').split()\n",
    "        for word in line_words:\n",
    "            story_words.append(word)\n",
    "    return story_words\n",
    "\n",
    "\n",
    "def print_items(items):\n",
    "    for item in items:\n",
    "        print item\n",
    "```  \n",
    "\n",
    "As the amount of code using your library functions increases, you need to have a separate function/script for that - the main() function. Let us create a new file called **driver.py** which would contain something like this:"
   ]
  },
  {
   "cell_type": "code",
   "execution_count": 36,
   "metadata": {
    "collapsed": false
   },
   "outputs": [
    {
     "data": {
      "text/plain": [
       "<module 'word_utils' from 'word_utils.pyc'>"
      ]
     },
     "execution_count": 36,
     "metadata": {},
     "output_type": "execute_result"
    }
   ],
   "source": [
    "#after you make changes to the module file\n",
    "reload(word_utils)"
   ]
  },
  {
   "cell_type": "code",
   "execution_count": 37,
   "metadata": {
    "collapsed": false
   },
   "outputs": [
    {
     "name": "stdout",
     "output_type": "stream",
     "text": [
      "It\n",
      "was\n",
      "the\n",
      "best\n",
      "of\n",
      "times\n",
      "it\n",
      "was\n",
      "the\n",
      "worst\n",
      "of\n",
      "times\n",
      "it\n",
      "was\n",
      "the\n",
      "age\n",
      "of\n",
      "wisdom\n",
      "it\n",
      "was\n",
      "the\n",
      "age\n",
      "of\n",
      "foolishness\n",
      "it\n",
      "was\n",
      "the\n",
      "epoch\n",
      "of\n",
      "belief\n",
      "it\n",
      "was\n",
      "the\n",
      "epoch\n",
      "of\n",
      "incredulity\n",
      "it\n",
      "was\n",
      "the\n",
      "season\n",
      "of\n",
      "Light\n",
      "it\n",
      "was\n",
      "the\n",
      "season\n",
      "of\n",
      "Darkness\n",
      "it\n",
      "was\n",
      "the\n",
      "spring\n",
      "of\n",
      "hope\n",
      "it\n",
      "was\n",
      "the\n",
      "winter\n",
      "of\n",
      "despair\n",
      "we\n",
      "had\n",
      "everything\n",
      "before\n",
      "us\n",
      "we\n",
      "had\n",
      "nothing\n",
      "before\n",
      "us\n",
      "we\n",
      "were\n",
      "all\n",
      "going\n",
      "direct\n",
      "to\n",
      "Heaven\n",
      "we\n",
      "were\n",
      "all\n",
      "going\n",
      "direct\n",
      "the\n",
      "other\n",
      "way\n",
      "in\n",
      "short\n",
      "the\n",
      "period\n",
      "was\n",
      "so\n",
      "far\n",
      "like\n",
      "the\n",
      "present\n",
      "period\n",
      "that\n",
      "some\n",
      "of\n",
      "its\n",
      "noisiest\n",
      "authorities\n",
      "insisted\n",
      "on\n",
      "its\n",
      "being\n",
      "received\n",
      "for\n",
      "good\n",
      "or\n",
      "for\n",
      "evil\n",
      "in\n",
      "the\n",
      "superlative\n",
      "degree\n",
      "of\n",
      "comparison\n",
      "only\n"
     ]
    }
   ],
   "source": [
    "#!/usr/bin/env python\n",
    "\"\"\" Retrieve and print words from a URL.\n",
    "\n",
    "Usage:\n",
    "\n",
    "    python driver.py\n",
    "\"\"\"\n",
    "from word_utils import * #fetch_words,print_items\n",
    "\n",
    "def main(url):\n",
    "    \"\"\" Print each word from a text document from a URL.\n",
    "\n",
    "    Args:\n",
    "        url:  The URL of a UTF-8 text document.\n",
    "    \"\"\"\n",
    "    words = fetch_words(url)\n",
    "    print_items(words)\n",
    "\n",
    "\n",
    "if __name__ == '__main__':\n",
    "    main(\"http://sixty-north.com/c/t.txt\")"
   ]
  },
  {
   "cell_type": "markdown",
   "metadata": {},
   "source": [
    "## Special attributes\n",
    "\n",
    "<img src=\"../graphics/name.png\">\n",
    "\n",
    "For a complete list of special attributes do:"
   ]
  },
  {
   "cell_type": "code",
   "execution_count": 38,
   "metadata": {
    "collapsed": false
   },
   "outputs": [
    {
     "data": {
      "text/plain": [
       "['__call__',\n",
       " '__class__',\n",
       " '__closure__',\n",
       " '__code__',\n",
       " '__defaults__',\n",
       " '__delattr__',\n",
       " '__dict__',\n",
       " '__doc__',\n",
       " '__format__',\n",
       " '__get__',\n",
       " '__getattribute__',\n",
       " '__globals__',\n",
       " '__hash__',\n",
       " '__init__',\n",
       " '__module__',\n",
       " '__name__',\n",
       " '__new__',\n",
       " '__reduce__',\n",
       " '__reduce_ex__',\n",
       " '__repr__',\n",
       " '__setattr__',\n",
       " '__sizeof__',\n",
       " '__str__',\n",
       " '__subclasshook__',\n",
       " 'func_closure',\n",
       " 'func_code',\n",
       " 'func_defaults',\n",
       " 'func_dict',\n",
       " 'func_doc',\n",
       " 'func_globals',\n",
       " 'func_name']"
      ]
     },
     "execution_count": 38,
     "metadata": {},
     "output_type": "execute_result"
    }
   ],
   "source": [
    "import word_utils as wu\n",
    "dir(wu.fetch_words)"
   ]
  },
  {
   "cell_type": "markdown",
   "metadata": {},
   "source": [
    "## Docstrings\n",
    "\n",
    "A docstring is a string literal that occurs as the first statement in a module, function, class, or method definition. Such a docstring becomes the __doc__ special attribute of that object.\n",
    "\n",
    "All modules should normally have docstrings, and all functions and classes exported by a module should also have docstrings. Public methods (including the __init__ constructor) should also have docstrings. A package may be documented in the module docstring of the __init__.py file in the package directory.\n",
    "\n",
    "https://www.python.org/dev/peps/pep-0257/\n",
    "\n",
    "We will go ahead and modify our word_utils.py functions to add docstrings:\n",
    "\n",
    "```python\n",
    "#!/usr/bin/env python\n",
    "from urllib2 import urlopen\n",
    "\n",
    "def fetch_words(url):\n",
    "    \"\"\"Fetch a list of words from a URL.\n",
    "\n",
    "    Args:\n",
    "        url: The URL of a UTF-8 text document.\n",
    "\n",
    "    Returns:\n",
    "        A list of string containing the words from the document.\n",
    "    \"\"\"\n",
    "    story = urlopen(url).read()\n",
    "    story_words = []\n",
    "    for line in story.split('\\n'):\n",
    "        line_words = line.decode('utf-8').split()\n",
    "        for word in line_words:\n",
    "            story_words.append(word)\n",
    "    return story_words\n",
    "\n",
    "def print_items(items):\n",
    "    \"\"\" Print items one per line.\n",
    "\n",
    "    Args:\n",
    "        An iterable series of printable items.\n",
    "    \"\"\"\n",
    "    for item in items:\n",
    "        print(item)\n",
    "``` "
   ]
  },
  {
   "cell_type": "code",
   "execution_count": 40,
   "metadata": {
    "collapsed": false
   },
   "outputs": [
    {
     "name": "stdout",
     "output_type": "stream",
     "text": [
      "Help on function fetch_words in module word_utils:\n",
      "\n",
      "fetch_words(url)\n",
      "\n"
     ]
    }
   ],
   "source": [
    "reload(word_utils)\n",
    "help(fetch_words)"
   ]
  },
  {
   "cell_type": "markdown",
   "metadata": {},
   "source": [
    "Last change we will make is to the driver script, by allowing to pass URL from the command line:\n",
    "\n",
    "```python\n",
    "#!/usr/bin/env python\n",
    "\"\"\" Retrieve and print words from a URL.\n",
    "\n",
    "Usage:\n",
    "\n",
    "    python driver.py<URL>\n",
    "\"\"\"\n",
    "\n",
    "import sys\n",
    "from urllib2 import urlopen\n",
    "from word_utils import * #fetch_words,print_items\n",
    "\n",
    "\n",
    "def main(url):\n",
    "    \"\"\" Print each word from a text document from a URL.\n",
    "\n",
    "    Args:\n",
    "        url:  The URL of a UTF-8 text document.\n",
    "    \"\"\"\n",
    "    words = fetch_words(url)\n",
    "    print_items(words)\n",
    "\n",
    "\n",
    "if __name__ == '__main__':\n",
    "    main(sys.argv[1])  # The 0th argument is the module filename\n",
    "```\n",
    "\n",
    "And try running it from Python REPL as:\n",
    "\n",
    "```bash\n",
    "python3 driver.py \"http://sixty-north.com/c/t.txt\"\n",
    "```\n",
    "\n",
    "\n",
    "<img src=\"../graphics/modularity.png\">\n",
    "\n",
    "<img src=\"../graphics/modularity2.png\">"
   ]
  },
  {
   "cell_type": "markdown",
   "metadata": {},
   "source": [
    "# Variables and functions \n",
    "\n",
    "\n",
    "A Python variable is a **reference** to an object. To be more specific, a Python variable contains the\n",
    "address of an object in memory. \n",
    "Each object x has a unique ID id(x), typically its address in memory. Whether or not variables\n",
    "x and y refer to the same object can be checked with x is y.\n",
    "\n",
    "What happens in the following:"
   ]
  },
  {
   "cell_type": "code",
   "execution_count": 41,
   "metadata": {
    "collapsed": false
   },
   "outputs": [
    {
     "data": {
      "text/plain": [
       "7995744"
      ]
     },
     "execution_count": 41,
     "metadata": {},
     "output_type": "execute_result"
    }
   ],
   "source": [
    "x = 2\n",
    "id(x)"
   ]
  },
  {
   "cell_type": "code",
   "execution_count": 42,
   "metadata": {
    "collapsed": false
   },
   "outputs": [
    {
     "data": {
      "text/plain": [
       "7995744"
      ]
     },
     "execution_count": 42,
     "metadata": {},
     "output_type": "execute_result"
    }
   ],
   "source": [
    "y = x\n",
    "id(y)"
   ]
  },
  {
   "cell_type": "code",
   "execution_count": 43,
   "metadata": {
    "collapsed": false
   },
   "outputs": [
    {
     "data": {
      "text/plain": [
       "7995720"
      ]
     },
     "execution_count": 43,
     "metadata": {},
     "output_type": "execute_result"
    }
   ],
   "source": [
    "x = 3\n",
    "id(x)"
   ]
  },
  {
   "cell_type": "markdown",
   "metadata": {},
   "source": [
    "is that x first contains the address of 2, then this address is copied into y, and finally the address of 3 is put into x. The actual object consists of both a reference to its type and its data.\n",
    "A list a:"
   ]
  },
  {
   "cell_type": "code",
   "execution_count": 44,
   "metadata": {
    "collapsed": false
   },
   "outputs": [
    {
     "data": {
      "text/plain": [
       "140676293960840"
      ]
     },
     "execution_count": 44,
     "metadata": {},
     "output_type": "execute_result"
    }
   ],
   "source": [
    "a = [[1,2],[3,4]]\n",
    "id(a)"
   ]
  },
  {
   "cell_type": "code",
   "execution_count": 45,
   "metadata": {
    "collapsed": false
   },
   "outputs": [
    {
     "data": {
      "text/plain": [
       "140676286842352"
      ]
     },
     "execution_count": 45,
     "metadata": {},
     "output_type": "execute_result"
    }
   ],
   "source": [
    "id(a[0])"
   ]
  },
  {
   "cell_type": "markdown",
   "metadata": {},
   "source": [
    "is itself a sequence of references, each one of which might refer to a different type of object.\n",
    "The assignment b = a would make b a reference to the same list as a:"
   ]
  },
  {
   "cell_type": "code",
   "execution_count": 46,
   "metadata": {
    "collapsed": false
   },
   "outputs": [
    {
     "name": "stdout",
     "output_type": "stream",
     "text": [
      "140676293960840\n",
      "140676286842352\n",
      "140676286842352\n"
     ]
    }
   ],
   "source": [
    "b = a\n",
    "print(id(b))\n",
    "print(id(a[0]))\n",
    "print(id(b[0]))"
   ]
  },
  {
   "cell_type": "markdown",
   "metadata": {},
   "source": [
    "On the other hand:"
   ]
  },
  {
   "cell_type": "code",
   "execution_count": 47,
   "metadata": {
    "collapsed": false
   },
   "outputs": [
    {
     "name": "stdout",
     "output_type": "stream",
     "text": [
      "140676286125912\n",
      "140676286842352\n",
      "140676286842352\n"
     ]
    }
   ],
   "source": [
    "b = a[:]\n",
    "print(id(b))\n",
    "print(id(a[0]))\n",
    "print(id(b[0]))"
   ]
  },
  {
   "cell_type": "markdown",
   "metadata": {},
   "source": [
    "would make b refer to a copy of the list but not of the objects that are referenced by a[0], a[1]. \n",
    "\n",
    "<img src=\"../graphics/shallow_copy_list.png\">\n",
    "\n",
    "If these objects are mutable and copies of them are also desired, import copy and set:"
   ]
  },
  {
   "cell_type": "code",
   "execution_count": 48,
   "metadata": {
    "collapsed": false
   },
   "outputs": [
    {
     "name": "stdout",
     "output_type": "stream",
     "text": [
      "140676286843936\n",
      "140676286842352\n",
      "140676286653864\n"
     ]
    }
   ],
   "source": [
    "import copy\n",
    "\n",
    "b = copy.deepcopy(a)\n",
    "print(id(b))\n",
    "\n",
    "print(id(a[0]))\n",
    "print(id(b[0]))"
   ]
  },
  {
   "cell_type": "markdown",
   "metadata": {},
   "source": [
    "If **a** is a dictionary, use ```python b = dict.copy(a)``` to make a shallow copy.\n",
    "\n",
    "To save storage space, the compiler sometimes stores two immutable objects having the same value\n",
    "in the same memory. Therefore, the identity operator is should not be used to compare two\n",
    "immutable objects: instead, use the equality operator ==.\n",
    "\n",
    "## Functions \n",
    "\n",
    "### Call by reference\n",
    "\n",
    "Consider the code:"
   ]
  },
  {
   "cell_type": "code",
   "execution_count": 49,
   "metadata": {
    "collapsed": true
   },
   "outputs": [],
   "source": [
    "def zero (x, y):\n",
    "    x = 0.\n",
    "    for i in range(len(y)): y[i] = 0.\n",
    "    a = 1.\n",
    "    b = [2., 3., 5.]\n",
    "    zero(a, b)"
   ]
  },
  {
   "cell_type": "markdown",
   "metadata": {},
   "source": [
    "When the function **zero** is called, the references in a and b are copied to local variables x and y,\n",
    "respectively. The function changes x to refer to 0., but there is no change to a. \n",
    "\n",
    "The function does not change y. It changes just the references constituting the list, and this same list is referenced by  b as well as y. Upon exit, the local variables become undefined. The intended effect is successful\n",
    "for b but not a. The modification of **b** is an example of a side effect. "
   ]
  },
  {
   "cell_type": "markdown",
   "metadata": {},
   "source": [
    "All Python functions return a value, the default is None.\n",
    "\n",
    "## Argument lists\n",
    "\n",
    "Python permits keyword arguments, which are optional labeled arguments. e.g., the matplotlib function call:\n",
    "**plot(x, y, linewidth=1.0)**\n",
    "It also permits a variable number of arguments as in min(a, b, c).\n",
    "\n",
    "## Passing function names\n",
    "A couple of examples are:\n",
    "**myplot(f, -1., 1.)**\n",
    "\n"
   ]
  },
  {
   "cell_type": "markdown",
   "metadata": {},
   "source": [
    "## Lambda functions in Python\n",
    "\n",
    "Python supports the creation of anonymous functions (i.e. functions that are not bound to a name) at runtime, using a construct called \"lambda\".\n",
    "Sometimes you need to pass a function as an argument, or you want to do a short but complex operation multiple times. You could define your function the normal way, or you could make a lambda function, a mini-function that returns the result of a single expression. The two definitions are completely identical:"
   ]
  },
  {
   "cell_type": "code",
   "execution_count": 50,
   "metadata": {
    "collapsed": true
   },
   "outputs": [],
   "source": [
    "##traditional named function\n",
    "def add(a,b): return a+b\n",
    "\n",
    "##lambda function\n",
    "add2 = lambda a,b: a+b"
   ]
  },
  {
   "cell_type": "markdown",
   "metadata": {},
   "source": [
    "The advantage of the lambda function is that it is in itself an expression, and can be used inside another statement. Here's an example using the map function, which calls a function on every element in a list, and returns a list of the results:"
   ]
  },
  {
   "cell_type": "code",
   "execution_count": 51,
   "metadata": {
    "collapsed": false
   },
   "outputs": [
    {
     "ename": "SyntaxError",
     "evalue": "invalid syntax (<ipython-input-51-e0ccf0ec373a>, line 2)",
     "output_type": "error",
     "traceback": [
      "\u001b[0;36m  File \u001b[0;32m\"<ipython-input-51-e0ccf0ec373a>\"\u001b[0;36m, line \u001b[0;32m2\u001b[0m\n\u001b[0;31m    print squares\u001b[0m\n\u001b[0m                ^\u001b[0m\n\u001b[0;31mSyntaxError\u001b[0m\u001b[0;31m:\u001b[0m invalid syntax\n"
     ]
    }
   ],
   "source": [
    "squares = map(lambda a: a*a, [1,2,3,4,5])\n",
    "print squares"
   ]
  },
  {
   "cell_type": "markdown",
   "metadata": {},
   "source": [
    "All Python functions return a value, the default is None.\n",
    "\n",
    "### Scope\n",
    "\n",
    "<img src=\"../graphics/scope.png\">\n",
    "\n",
    "The parameters of a function have only local scope. In the following code:"
   ]
  },
  {
   "cell_type": "code",
   "execution_count": 52,
   "metadata": {
    "collapsed": false
   },
   "outputs": [
    {
     "data": {
      "text/plain": [
       "9.0"
      ]
     },
     "execution_count": 52,
     "metadata": {},
     "output_type": "execute_result"
    }
   ],
   "source": [
    "def func(x):\n",
    "    a = 1.\n",
    "    return x + a + b\n",
    "a = 2.; b = 3.\n",
    "func(5.)"
   ]
  },
  {
   "cell_type": "markdown",
   "metadata": {},
   "source": [
    "the variable *a* is a local variable because it is defined in its first occurrence, whereas b is a global\n",
    "variable because it is used without first being defined. \n",
    "\n",
    "An uninitialized variable will be assumed to come from the enclosing static context but not otherwise from its calling function. \n",
    "\n",
    "The presumption that a is local can be overridden by declaring it to be global before using it.\n",
    "The list of defined variable names in the current scope is available as **dir()** called on a function.\n",
    "\n",
    "<img src=\"../graphics/functions1.png\">\n",
    "\n",
    "<img src=\"../graphics/functions2.png\">"
   ]
  },
  {
   "cell_type": "markdown",
   "metadata": {},
   "source": [
    "# Comprehensions, map and filter\n",
    "\n",
    "## List comprehensions\n",
    "List comprehensions provide a concise way to create lists. Common applications are to make new lists where each element is the result of some operations applied to each member of another sequence or iterable, or to create a subsequence of those elements that satisfy a certain condition.\n",
    "\n",
    "For example, assume we want to create a list of squares, like:"
   ]
  },
  {
   "cell_type": "code",
   "execution_count": 53,
   "metadata": {
    "collapsed": false
   },
   "outputs": [
    {
     "data": {
      "text/plain": [
       "[0, 1, 4, 9, 16, 25, 36, 49, 64, 81]"
      ]
     },
     "execution_count": 53,
     "metadata": {},
     "output_type": "execute_result"
    }
   ],
   "source": [
    "squares = []\n",
    "for x in range(10):\n",
    "    squares.append(x**2)\n",
    "squares"
   ]
  },
  {
   "cell_type": "code",
   "execution_count": 54,
   "metadata": {
    "collapsed": false
   },
   "outputs": [
    {
     "data": {
      "text/plain": [
       "[0, 1, 4, 9, 16, 25, 36, 49, 64, 81]"
      ]
     },
     "execution_count": 54,
     "metadata": {},
     "output_type": "execute_result"
    }
   ],
   "source": [
    "#We can obtain the same result with:\n",
    "squares = [x**2 for x in range(10)]\n",
    "squares"
   ]
  },
  {
   "cell_type": "code",
   "execution_count": 55,
   "metadata": {
    "collapsed": false
   },
   "outputs": [
    {
     "name": "stdout",
     "output_type": "stream",
     "text": [
      "0\n",
      "1\n",
      "4\n",
      "9\n",
      "16\n",
      "25\n",
      "36\n",
      "49\n",
      "64\n",
      "81\n"
     ]
    }
   ],
   "source": [
    "#This is also equivalent to \n",
    "squares = map(lambda x: x**2, range(10))\n",
    "for x in squares:\n",
    "    print(x),"
   ]
  },
  {
   "cell_type": "code",
   "execution_count": 56,
   "metadata": {
    "collapsed": false
   },
   "outputs": [
    {
     "name": "stdout",
     "output_type": "stream",
     "text": [
      "0\n",
      "1\n",
      "4\n",
      "9\n",
      "16\n",
      "25\n",
      "36\n",
      "49\n",
      "64\n",
      "81\n"
     ]
    }
   ],
   "source": [
    "#This is also equivalent to \n",
    "squares = map(lambda x: x**2, range(10))\n",
    "for x in squares:\n",
    "    print(x),"
   ]
  },
  {
   "cell_type": "markdown",
   "metadata": {},
   "source": [
    "A list comprehension consists of brackets containing an expression followed by a for clause, then zero or more for or if clauses. The result will be a new list resulting from evaluating the expression in the context of the for and if clauses which follow it. For example, this listcomp combines the elements of two lists if they are not equal:"
   ]
  },
  {
   "cell_type": "code",
   "execution_count": 57,
   "metadata": {
    "collapsed": false
   },
   "outputs": [
    {
     "name": "stdout",
     "output_type": "stream",
     "text": [
      "[(1, 3), (1, 4), (2, 3), (2, 1), (2, 4), (3, 1), (3, 4)]\n",
      "[(1, 3), (1, 4), (2, 3), (2, 1), (2, 4), (3, 1), (3, 4)]\n"
     ]
    }
   ],
   "source": [
    "combs = [(x, y) for x in [1,2,3] for y in [3,1,4] if x != y]\n",
    "print(combs)\n",
    "\n",
    "#and it’s equivalent to:\n",
    "\n",
    "combs = []\n",
    "for x in [1,2,3]:\n",
    "    for y in [3,1,4]:\n",
    "        if x != y:\n",
    "            combs.append((x, y))\n",
    "print(combs)\n",
    "\n",
    "#Note how the order of the for and if statements is the same in both these snippets."
   ]
  },
  {
   "cell_type": "markdown",
   "metadata": {},
   "source": [
    "## Filtering a list\n",
    "\n",
    "What if you're more interested in filtering the list? Say you want to remove every element with a value equal to or greater than 4? "
   ]
  },
  {
   "cell_type": "code",
   "execution_count": 58,
   "metadata": {
    "collapsed": false
   },
   "outputs": [
    {
     "name": "stdout",
     "output_type": "stream",
     "text": [
      "Numbers under 4 only:  [1, 2, 3]\n",
      "Numbers under 4 only:  [1, 2, 3]\n"
     ]
    }
   ],
   "source": [
    "numbers = [1,2,3,4,5]\n",
    "numbers_under_4 = []\n",
    "for number in numbers:\n",
    "    if number < 4:\n",
    "        numbers_under_4.append(number)\n",
    "        # Now, numbers_under_4 contains [1,4,9]\n",
    "print(\"Numbers under 4 only: \", numbers_under_4)\n",
    "\n",
    "\n",
    "#You could reduce the size of the code with the filter function:\n",
    "numbers = [1,2,3,4,5]\n",
    "numbers_under_4 = filter(lambda x: x < 4, numbers)\n",
    "# Now, numbers_under_4 contains [1,2,3]\n",
    "print(\"Numbers under 4 only: \",numbers_under_4)"
   ]
  },
  {
   "cell_type": "markdown",
   "metadata": {},
   "source": [
    "## Dictionary comperehensions \n",
    "\n",
    "You already know that the dict() constructor builds dictionaries directly from sequences of key-value pairs:"
   ]
  },
  {
   "cell_type": "code",
   "execution_count": 59,
   "metadata": {
    "collapsed": false
   },
   "outputs": [
    {
     "data": {
      "text/plain": [
       "{'guido': 4127, 'jack': 4098, 'sape': 4139}"
      ]
     },
     "execution_count": 59,
     "metadata": {},
     "output_type": "execute_result"
    }
   ],
   "source": [
    "dict([('sape', 4139), ('guido', 4127), ('jack', 4098)])\n",
    "{'sape': 4139, 'jack': 4098, 'guido': 4127}"
   ]
  },
  {
   "cell_type": "markdown",
   "metadata": {},
   "source": [
    "In addition, dict comprehensions can be used to create dictionaries from arbitrary key and value expressions:"
   ]
  },
  {
   "cell_type": "code",
   "execution_count": 60,
   "metadata": {
    "collapsed": false
   },
   "outputs": [
    {
     "data": {
      "text/plain": [
       "{2: 4, 4: 16, 6: 36}"
      ]
     },
     "execution_count": 60,
     "metadata": {},
     "output_type": "execute_result"
    }
   ],
   "source": [
    "{x: x**2 for x in (2, 4, 6)}"
   ]
  },
  {
   "cell_type": "markdown",
   "metadata": {},
   "source": [
    "# Operating system commands\n",
    "\n",
    "https://docs.python.org/2/library/os.html\n",
    "\n",
    "Operating system commands can be executed using generic Python commands. There are two modules that are good for that: os and subprocess"
   ]
  },
  {
   "cell_type": "code",
   "execution_count": 61,
   "metadata": {
    "collapsed": false
   },
   "outputs": [
    {
     "data": {
      "text/plain": [
       "['PythonBasics.ipynb',\n",
       " '.ipynb_checkpoints',\n",
       " 'answers',\n",
       " 'word_utils2.py',\n",
       " 'word_utils.py',\n",
       " 'word_utils.pyc',\n",
       " 'driver.py']"
      ]
     },
     "execution_count": 61,
     "metadata": {},
     "output_type": "execute_result"
    }
   ],
   "source": [
    "import os\n",
    "os.listdir(os.getcwd())                         "
   ]
  },
  {
   "cell_type": "code",
   "execution_count": 62,
   "metadata": {
    "collapsed": false
   },
   "outputs": [
    {
     "data": {
      "text/plain": [
       "['PythonBasics.ipynb',\n",
       " 'answers',\n",
       " 'word_utils2.py',\n",
       " 'word_utils.py',\n",
       " 'word_utils.pyc',\n",
       " 'driver.py']"
      ]
     },
     "execution_count": 62,
     "metadata": {},
     "output_type": "execute_result"
    }
   ],
   "source": [
    "import glob\n",
    "glob.glob('*')"
   ]
  },
  {
   "cell_type": "code",
   "execution_count": 63,
   "metadata": {
    "collapsed": true
   },
   "outputs": [],
   "source": [
    "os.mkdir(\"mytmp\")"
   ]
  },
  {
   "cell_type": "code",
   "execution_count": 64,
   "metadata": {
    "collapsed": false
   },
   "outputs": [
    {
     "data": {
      "text/plain": [
       "[]"
      ]
     },
     "execution_count": 64,
     "metadata": {},
     "output_type": "execute_result"
    }
   ],
   "source": [
    "os.listdir(\"mytmp\")  "
   ]
  },
  {
   "cell_type": "code",
   "execution_count": 65,
   "metadata": {
    "collapsed": true
   },
   "outputs": [],
   "source": [
    "os.rmdir(\"mytmp\")"
   ]
  },
  {
   "cell_type": "code",
   "execution_count": 66,
   "metadata": {
    "collapsed": false
   },
   "outputs": [
    {
     "data": {
      "text/plain": [
       "0"
      ]
     },
     "execution_count": 66,
     "metadata": {},
     "output_type": "execute_result"
    }
   ],
   "source": [
    "os.system(\"touch mynewfile\")"
   ]
  },
  {
   "cell_type": "code",
   "execution_count": 67,
   "metadata": {
    "collapsed": false
   },
   "outputs": [
    {
     "data": {
      "text/plain": [
       "['PythonBasics.ipynb',\n",
       " '.ipynb_checkpoints',\n",
       " 'answers',\n",
       " 'word_utils2.py',\n",
       " 'word_utils.py',\n",
       " 'word_utils.pyc',\n",
       " 'driver.py',\n",
       " 'mynewfile']"
      ]
     },
     "execution_count": 67,
     "metadata": {},
     "output_type": "execute_result"
    }
   ],
   "source": [
    "os.listdir(os.getcwd())"
   ]
  },
  {
   "cell_type": "markdown",
   "metadata": {},
   "source": [
    "# File IO\n",
    "\n",
    "This is a very broad topic. Every third-party Python library has their own IO modules.\n",
    "Let us quickly look at how to read plain text, CSV and JSON files here and briefly talk about serialization and binary file formats.\n",
    "\n",
    "## Reading text files \n",
    "\n",
    "insert image"
   ]
  },
  {
   "cell_type": "code",
   "execution_count": 69,
   "metadata": {
    "collapsed": false
   },
   "outputs": [
    {
     "data": {
      "text/plain": [
       "'This is an example text file.\\n'"
      ]
     },
     "execution_count": 69,
     "metadata": {},
     "output_type": "execute_result"
    }
   ],
   "source": [
    "myfile = open(\"../files/example.txt\", mode=\"rt\")\n",
    "myfile.readline()"
   ]
  },
  {
   "cell_type": "code",
   "execution_count": 70,
   "metadata": {
    "collapsed": false
   },
   "outputs": [
    {
     "data": {
      "text/plain": [
       "'\\n'"
      ]
     },
     "execution_count": 70,
     "metadata": {},
     "output_type": "execute_result"
    }
   ],
   "source": [
    "myfile.readline()"
   ]
  },
  {
   "cell_type": "code",
   "execution_count": 71,
   "metadata": {
    "collapsed": false
   },
   "outputs": [
    {
     "data": {
      "text/plain": [
       "'It contains three lines.\\n'"
      ]
     },
     "execution_count": 71,
     "metadata": {},
     "output_type": "execute_result"
    }
   ],
   "source": [
    "myfile.readline()"
   ]
  },
  {
   "cell_type": "code",
   "execution_count": 72,
   "metadata": {
    "collapsed": false
   },
   "outputs": [
    {
     "data": {
      "text/plain": [
       "'This is an example text file.\\n'"
      ]
     },
     "execution_count": 72,
     "metadata": {},
     "output_type": "execute_result"
    }
   ],
   "source": [
    "myfile.seek(0)\n",
    "myfile.readline()"
   ]
  },
  {
   "cell_type": "code",
   "execution_count": 73,
   "metadata": {
    "collapsed": false
   },
   "outputs": [
    {
     "data": {
      "text/plain": [
       "'This is an example t'"
      ]
     },
     "execution_count": 73,
     "metadata": {},
     "output_type": "execute_result"
    }
   ],
   "source": [
    "myfile.seek(0)\n",
    "myfile.read(20)"
   ]
  },
  {
   "cell_type": "markdown",
   "metadata": {},
   "source": [
    "Files support an iterator protocol:"
   ]
  },
  {
   "cell_type": "code",
   "execution_count": 74,
   "metadata": {
    "collapsed": false
   },
   "outputs": [
    {
     "name": "stdout",
     "output_type": "stream",
     "text": [
      "This is an example text file.\n",
      "\n",
      "\n",
      "\n",
      "It contains three lines.\n",
      "\n",
      "\n",
      "\n",
      "Maybe four.\n",
      "\n",
      "\n",
      "\n",
      "Four, definitely four.\n",
      "\n"
     ]
    }
   ],
   "source": [
    "myfile = open(\"../files/example.txt\", mode=\"rt\")\n",
    "for line in myfile :\n",
    "    print(line)"
   ]
  },
  {
   "cell_type": "code",
   "execution_count": 75,
   "metadata": {
    "collapsed": false
   },
   "outputs": [
    {
     "name": "stdout",
     "output_type": "stream",
     "text": [
      "This is an example text file.\n",
      "\n",
      "\n",
      "\n",
      "It contains three lines.\n",
      "\n",
      "\n",
      "\n",
      "Maybe four.\n",
      "\n",
      "\n",
      "\n",
      "Four, definitely four.\n",
      "\n"
     ]
    }
   ],
   "source": [
    "myfile = open(\"../files/example.txt\", mode=\"rt\")\n",
    "for line in myfile.readlines():\n",
    "    print(line)"
   ]
  },
  {
   "cell_type": "code",
   "execution_count": null,
   "metadata": {
    "collapsed": true
   },
   "outputs": [],
   "source": []
  }
 ],
 "metadata": {
  "anaconda-cloud": {},
  "kernelspec": {
   "display_name": "Python [conda env:PythonWorkshop]",
   "language": "python",
   "name": "conda-env-PythonWorkshop-py"
  },
  "language_info": {
   "codemirror_mode": {
    "name": "ipython",
    "version": 2
   },
   "file_extension": ".py",
   "mimetype": "text/x-python",
   "name": "python",
   "nbconvert_exporter": "python",
   "pygments_lexer": "ipython2",
   "version": "2.7.12"
  }
 },
 "nbformat": 4,
 "nbformat_minor": 1
}
